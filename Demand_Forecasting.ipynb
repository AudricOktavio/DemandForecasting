{
  "cells": [
    {
      "cell_type": "code",
      "execution_count": null,
      "metadata": {
        "id": "XT6De3bZy92G"
      },
      "outputs": [],
      "source": [
        "import numpy as np\n",
        "import pandas as pd\n",
        "import matplotlib.pyplot as plt\n",
        "import tensorflow as tf\n",
        "\n",
        "from google.colab import files\n",
        "from google.colab import drive\n",
        "from tensorflow.keras.layers import TimeDistributed"
      ]
    },
    {
      "cell_type": "markdown",
      "metadata": {
        "id": "5a7CTFDR68io"
      },
      "source": [
        "# 1. Uploading Files"
      ]
    },
    {
      "cell_type": "code",
      "execution_count": null,
      "metadata": {
        "colab": {
          "base_uri": "https://localhost:8080/"
        },
        "id": "O-DlgQtTLqPA",
        "outputId": "4cf8c3af-377e-4749-eef9-40a02757398c"
      },
      "outputs": [
        {
          "name": "stdout",
          "output_type": "stream",
          "text": [
            "Mounted at /content/drive\n"
          ]
        }
      ],
      "source": [
        "drive.mount('/content/drive')"
      ]
    },
    {
      "cell_type": "code",
      "execution_count": null,
      "metadata": {
        "id": "DujcR71K0_pO"
      },
      "outputs": [],
      "source": [
        "df_train = pd.read_csv(\"/content/drive/My Drive/TA/demandData/train.csv\")\n",
        "df_test = pd.read_csv(\"/content/drive/My Drive/TA/demandData/test.csv\")"
      ]
    },
    {
      "cell_type": "code",
      "execution_count": null,
      "metadata": {
        "id": "vYALOTMQ4F6P"
      },
      "outputs": [],
      "source": [
        "df_train.index = pd.to_datetime(df_train['date'])\n",
        "df_train.drop('date', axis=1, inplace=True)\n",
        "df_test.index = pd.to_datetime(df_test['date'])\n",
        "df_test.drop('date', axis=1, inplace=True)"
      ]
    },
    {
      "cell_type": "code",
      "execution_count": null,
      "metadata": {
        "colab": {
          "base_uri": "https://localhost:8080/"
        },
        "id": "OssrIF4z4IyQ",
        "outputId": "eb6b73c6-1265-4b30-f12d-b50bdc62c1b6"
      },
      "outputs": [
        {
          "data": {
            "text/html": [
              "\n",
              "  <div id=\"df-9210c251-bf6f-4bb9-b6f8-df3fcef40f0b\">\n",
              "    <div class=\"colab-df-container\">\n",
              "      <div>\n",
              "<style scoped>\n",
              "    .dataframe tbody tr th:only-of-type {\n",
              "        vertical-align: middle;\n",
              "    }\n",
              "\n",
              "    .dataframe tbody tr th {\n",
              "        vertical-align: top;\n",
              "    }\n",
              "\n",
              "    .dataframe thead th {\n",
              "        text-align: right;\n",
              "    }\n",
              "</style>\n",
              "<table border=\"1\" class=\"dataframe\">\n",
              "  <thead>\n",
              "    <tr style=\"text-align: right;\">\n",
              "      <th></th>\n",
              "      <th>store</th>\n",
              "      <th>item</th>\n",
              "      <th>sales</th>\n",
              "    </tr>\n",
              "    <tr>\n",
              "      <th>date</th>\n",
              "      <th></th>\n",
              "      <th></th>\n",
              "      <th></th>\n",
              "    </tr>\n",
              "  </thead>\n",
              "  <tbody>\n",
              "    <tr>\n",
              "      <th>2013-01-01</th>\n",
              "      <td>1</td>\n",
              "      <td>1</td>\n",
              "      <td>13</td>\n",
              "    </tr>\n",
              "    <tr>\n",
              "      <th>2013-01-02</th>\n",
              "      <td>1</td>\n",
              "      <td>1</td>\n",
              "      <td>11</td>\n",
              "    </tr>\n",
              "    <tr>\n",
              "      <th>2013-01-03</th>\n",
              "      <td>1</td>\n",
              "      <td>1</td>\n",
              "      <td>14</td>\n",
              "    </tr>\n",
              "    <tr>\n",
              "      <th>2013-01-04</th>\n",
              "      <td>1</td>\n",
              "      <td>1</td>\n",
              "      <td>13</td>\n",
              "    </tr>\n",
              "    <tr>\n",
              "      <th>2013-01-05</th>\n",
              "      <td>1</td>\n",
              "      <td>1</td>\n",
              "      <td>10</td>\n",
              "    </tr>\n",
              "  </tbody>\n",
              "</table>\n",
              "</div>\n",
              "      <button class=\"colab-df-convert\" onclick=\"convertToInteractive('df-9210c251-bf6f-4bb9-b6f8-df3fcef40f0b')\"\n",
              "              title=\"Convert this dataframe to an interactive table.\"\n",
              "              style=\"display:none;\">\n",
              "        \n",
              "  <svg xmlns=\"http://www.w3.org/2000/svg\" height=\"24px\"viewBox=\"0 0 24 24\"\n",
              "       width=\"24px\">\n",
              "    <path d=\"M0 0h24v24H0V0z\" fill=\"none\"/>\n",
              "    <path d=\"M18.56 5.44l.94 2.06.94-2.06 2.06-.94-2.06-.94-.94-2.06-.94 2.06-2.06.94zm-11 1L8.5 8.5l.94-2.06 2.06-.94-2.06-.94L8.5 2.5l-.94 2.06-2.06.94zm10 10l.94 2.06.94-2.06 2.06-.94-2.06-.94-.94-2.06-.94 2.06-2.06.94z\"/><path d=\"M17.41 7.96l-1.37-1.37c-.4-.4-.92-.59-1.43-.59-.52 0-1.04.2-1.43.59L10.3 9.45l-7.72 7.72c-.78.78-.78 2.05 0 2.83L4 21.41c.39.39.9.59 1.41.59.51 0 1.02-.2 1.41-.59l7.78-7.78 2.81-2.81c.8-.78.8-2.07 0-2.86zM5.41 20L4 18.59l7.72-7.72 1.47 1.35L5.41 20z\"/>\n",
              "  </svg>\n",
              "      </button>\n",
              "      \n",
              "  <style>\n",
              "    .colab-df-container {\n",
              "      display:flex;\n",
              "      flex-wrap:wrap;\n",
              "      gap: 12px;\n",
              "    }\n",
              "\n",
              "    .colab-df-convert {\n",
              "      background-color: #E8F0FE;\n",
              "      border: none;\n",
              "      border-radius: 50%;\n",
              "      cursor: pointer;\n",
              "      display: none;\n",
              "      fill: #1967D2;\n",
              "      height: 32px;\n",
              "      padding: 0 0 0 0;\n",
              "      width: 32px;\n",
              "    }\n",
              "\n",
              "    .colab-df-convert:hover {\n",
              "      background-color: #E2EBFA;\n",
              "      box-shadow: 0px 1px 2px rgba(60, 64, 67, 0.3), 0px 1px 3px 1px rgba(60, 64, 67, 0.15);\n",
              "      fill: #174EA6;\n",
              "    }\n",
              "\n",
              "    [theme=dark] .colab-df-convert {\n",
              "      background-color: #3B4455;\n",
              "      fill: #D2E3FC;\n",
              "    }\n",
              "\n",
              "    [theme=dark] .colab-df-convert:hover {\n",
              "      background-color: #434B5C;\n",
              "      box-shadow: 0px 1px 3px 1px rgba(0, 0, 0, 0.15);\n",
              "      filter: drop-shadow(0px 1px 2px rgba(0, 0, 0, 0.3));\n",
              "      fill: #FFFFFF;\n",
              "    }\n",
              "  </style>\n",
              "\n",
              "      <script>\n",
              "        const buttonEl =\n",
              "          document.querySelector('#df-9210c251-bf6f-4bb9-b6f8-df3fcef40f0b button.colab-df-convert');\n",
              "        buttonEl.style.display =\n",
              "          google.colab.kernel.accessAllowed ? 'block' : 'none';\n",
              "\n",
              "        async function convertToInteractive(key) {\n",
              "          const element = document.querySelector('#df-9210c251-bf6f-4bb9-b6f8-df3fcef40f0b');\n",
              "          const dataTable =\n",
              "            await google.colab.kernel.invokeFunction('convertToInteractive',\n",
              "                                                     [key], {});\n",
              "          if (!dataTable) return;\n",
              "\n",
              "          const docLinkHtml = 'Like what you see? Visit the ' +\n",
              "            '<a target=\"_blank\" href=https://colab.research.google.com/notebooks/data_table.ipynb>data table notebook</a>'\n",
              "            + ' to learn more about interactive tables.';\n",
              "          element.innerHTML = '';\n",
              "          dataTable['output_type'] = 'display_data';\n",
              "          await google.colab.output.renderOutput(dataTable, element);\n",
              "          const docLink = document.createElement('div');\n",
              "          docLink.innerHTML = docLinkHtml;\n",
              "          element.appendChild(docLink);\n",
              "        }\n",
              "      </script>\n",
              "    </div>\n",
              "  </div>\n",
              "  "
            ],
            "text/plain": [
              "            store  item  sales\n",
              "date                          \n",
              "2013-01-01      1     1     13\n",
              "2013-01-02      1     1     11\n",
              "2013-01-03      1     1     14\n",
              "2013-01-04      1     1     13\n",
              "2013-01-05      1     1     10"
            ]
          },
          "execution_count": 5,
          "metadata": {},
          "output_type": "execute_result"
        }
      ],
      "source": [
        "df_train.head()"
      ]
    },
    {
      "cell_type": "code",
      "execution_count": null,
      "metadata": {
        "id": "Af8SjEgq4Jwt"
      },
      "outputs": [],
      "source": [
        "from itertools import product, starmap\n",
        "\n",
        "def storeitems():\n",
        "    return product(range(1,51), range(1,11))\n",
        "\n",
        "\n",
        "def storeitems_column_names():\n",
        "    return list(starmap(lambda i,s: f'item_{i}_store_{s}_sales', storeitems()))\n",
        "\n",
        "\n",
        "def sales_by_storeitem(df):\n",
        "    ret = pd.DataFrame(index=df.index.unique())\n",
        "    for i, s in storeitems():\n",
        "        ret[f'item_{i}_store_{s}_sales'] = df[(df['item'] == i) & (df['store'] == s)]['sales'].values\n",
        "    return ret"
      ]
    },
    {
      "cell_type": "code",
      "execution_count": null,
      "metadata": {
        "colab": {
          "base_uri": "https://localhost:8080/"
        },
        "id": "8DcNg7-i4imP",
        "outputId": "4493fcf0-b29a-4f78-ece9-4849a4310846"
      },
      "outputs": [
        {
          "name": "stderr",
          "output_type": "stream",
          "text": [
            "<ipython-input-6-e4dda4c1d94d>:14: PerformanceWarning: DataFrame is highly fragmented.  This is usually the result of calling `frame.insert` many times, which has poor performance.  Consider joining all columns at once using pd.concat(axis=1) instead.  To get a de-fragmented frame, use `newframe = frame.copy()`\n",
            "  ret[f'item_{i}_store_{s}_sales'] = df[(df['item'] == i) & (df['store'] == s)]['sales'].values\n"
          ]
        }
      ],
      "source": [
        "df_train = sales_by_storeitem(df_train)\n",
        "df_test['sales'] = np.zeros(df_test.shape[0])\n",
        "df_test = sales_by_storeitem(df_test)"
      ]
    },
    {
      "cell_type": "code",
      "execution_count": null,
      "metadata": {
        "colab": {
          "base_uri": "https://localhost:8080/"
        },
        "id": "tqGr-Pk84pJE",
        "outputId": "ffc48233-fa62-4dec-e772-1652c78cdc8b"
      },
      "outputs": [
        {
          "name": "stdout",
          "output_type": "stream",
          "text": [
            "<class 'pandas.core.frame.DataFrame'>\n",
            "DatetimeIndex: 1826 entries, 2013-01-01 to 2017-12-31\n",
            "Columns: 500 entries, item_1_store_1_sales to item_50_store_10_sales\n",
            "dtypes: int64(500)\n",
            "memory usage: 7.0 MB\n"
          ]
        }
      ],
      "source": [
        "df_train.info()"
      ]
    },
    {
      "cell_type": "code",
      "execution_count": null,
      "metadata": {
        "colab": {
          "base_uri": "https://localhost:8080/"
        },
        "id": "E_vJtKZw40QM",
        "outputId": "d45b04ed-f668-44ff-ed42-4ac4d151d8ed"
      },
      "outputs": [
        {
          "name": "stdout",
          "output_type": "stream",
          "text": [
            "<class 'pandas.core.frame.DataFrame'>\n",
            "DatetimeIndex: 90 entries, 2018-01-01 to 2018-03-31\n",
            "Columns: 500 entries, item_1_store_1_sales to item_50_store_10_sales\n",
            "dtypes: float64(500)\n",
            "memory usage: 352.3 KB\n"
          ]
        }
      ],
      "source": [
        "df_test.info()"
      ]
    },
    {
      "cell_type": "code",
      "execution_count": null,
      "metadata": {
        "id": "-I3pIzkI48ED"
      },
      "outputs": [],
      "source": [
        "# make sure all column names are the same and in the same order\n",
        "col_names = list(zip(df_test.columns, df_train.columns))\n",
        "for cn in col_names:\n",
        "    assert cn[0] == cn[1]"
      ]
    },
    {
      "cell_type": "code",
      "execution_count": null,
      "metadata": {
        "colab": {
          "base_uri": "https://localhost:8080/"
        },
        "id": "xCTdZghV6nXc",
        "outputId": "555c1bae-6cc0-46d5-9bf0-2f7fa4cdd961"
      },
      "outputs": [
        {
          "name": "stderr",
          "output_type": "stream",
          "text": [
            "<ipython-input-11-790e1f90b4bf>:1: PerformanceWarning: DataFrame is highly fragmented.  This is usually the result of calling `frame.insert` many times, which has poor performance.  Consider joining all columns at once using pd.concat(axis=1) instead.  To get a de-fragmented frame, use `newframe = frame.copy()`\n",
            "  df_test['is_test'] = np.repeat(True, df_test.shape[0])\n",
            "<ipython-input-11-790e1f90b4bf>:2: PerformanceWarning: DataFrame is highly fragmented.  This is usually the result of calling `frame.insert` many times, which has poor performance.  Consider joining all columns at once using pd.concat(axis=1) instead.  To get a de-fragmented frame, use `newframe = frame.copy()`\n",
            "  df_train['is_test'] = np.repeat(False, df_train.shape[0])\n"
          ]
        },
        {
          "name": "stdout",
          "output_type": "stream",
          "text": [
            "<class 'pandas.core.frame.DataFrame'>\n",
            "DatetimeIndex: 1916 entries, 2013-01-01 to 2018-03-31\n",
            "Columns: 501 entries, item_1_store_1_sales to is_test\n",
            "dtypes: bool(1), float64(500)\n",
            "memory usage: 7.3 MB\n"
          ]
        }
      ],
      "source": [
        "df_test['is_test'] = np.repeat(True, df_test.shape[0])\n",
        "df_train['is_test'] = np.repeat(False, df_train.shape[0])\n",
        "df_total = pd.concat([df_train, df_test])\n",
        "df_total.info()"
      ]
    },
    {
      "cell_type": "code",
      "execution_count": null,
      "metadata": {
        "id": "Kym1EiHC6yct"
      },
      "outputs": [],
      "source": [
        "train = pd.read_csv(\"/content/drive/My Drive/TA/demandData/train.csv\", parse_dates=['date'])\n",
        "test = pd.read_csv(\"/content/drive/My Drive/TA/demandData/test.csv\", parse_dates=['date'])"
      ]
    },
    {
      "cell_type": "markdown",
      "metadata": {
        "id": "URp0I1S_7CRs"
      },
      "source": [
        "# 2. Features"
      ]
    },
    {
      "cell_type": "code",
      "execution_count": null,
      "metadata": {
        "id": "24yftcx96nfh"
      },
      "outputs": [],
      "source": [
        "weekday_df = pd.get_dummies(df_total.index.weekday, prefix='weekday')\n",
        "weekday_df.index = df_total.index"
      ]
    },
    {
      "cell_type": "code",
      "execution_count": null,
      "metadata": {
        "id": "NBAgziFl7Z0t"
      },
      "outputs": [],
      "source": [
        "month_df = pd.get_dummies(df_total.index.month, prefix='month')\n",
        "month_df.index =  df_total.index"
      ]
    },
    {
      "cell_type": "code",
      "execution_count": null,
      "metadata": {
        "id": "ZlXJn4tN7n0z"
      },
      "outputs": [],
      "source": [
        "df_total = pd.concat([weekday_df, month_df, df_total], axis=1)"
      ]
    },
    {
      "cell_type": "code",
      "execution_count": null,
      "metadata": {
        "id": "2n1NXekQm_u9"
      },
      "outputs": [],
      "source": [
        "assert df_total.isna().any().any() == False"
      ]
    },
    {
      "cell_type": "code",
      "execution_count": null,
      "metadata": {
        "id": "HQuhPOGFnAmi"
      },
      "outputs": [],
      "source": [
        "def shift_series(series, days):\n",
        "    return series.transform(lambda x: x.shift(days))\n",
        "\n",
        "\n",
        "def shift_series_in_df(df, series_names=[], days_delta=90):\n",
        "    ret = pd.DataFrame(index=df.index.copy())\n",
        "    str_sgn = 'future' if np.sign(days_delta) < 0 else 'past'\n",
        "    for sn in series_names:\n",
        "        ret[f'{sn}_{str_sgn}_{np.abs(days_delta)}'] = shift_series(df[sn], days_delta)\n",
        "    return ret\n",
        "\n",
        "    \n",
        "def stack_shifted_sales(df, days_deltas=[1, 90, 360]):\n",
        "    names = storeitems_column_names()\n",
        "    dfs = [df.copy()]\n",
        "    for delta in days_deltas:\n",
        "        shifted = shift_series_in_df(df, series_names=names, days_delta=delta)\n",
        "        dfs.append(shifted)\n",
        "    return pd.concat(dfs, axis=1, sort=False, copy=False)"
      ]
    },
    {
      "cell_type": "code",
      "execution_count": null,
      "metadata": {
        "colab": {
          "base_uri": "https://localhost:8080/"
        },
        "id": "28kW7xmHnD42",
        "outputId": "16bed90a-b48f-41d2-b700-836f8a72c5e1"
      },
      "outputs": [
        {
          "name": "stderr",
          "output_type": "stream",
          "text": [
            "/usr/local/lib/python3.7/dist-packages/ipykernel_launcher.py:9: PerformanceWarning: DataFrame is highly fragmented.  This is usually the result of calling `frame.insert` many times, which has poor performance.  Consider joining all columns at once using pd.concat(axis=1) instead.  To get a de-fragmented frame, use `newframe = frame.copy()`\n",
            "  if __name__ == '__main__':\n"
          ]
        }
      ],
      "source": [
        "df_total = stack_shifted_sales(df_total, days_deltas=[1])\n",
        "df_total.dropna(inplace=True)"
      ]
    },
    {
      "cell_type": "code",
      "execution_count": null,
      "metadata": {
        "id": "x-8u_ya8nGVq"
      },
      "outputs": [],
      "source": [
        "sales_cols = [col for col in df_total.columns if '_sales' in col and '_sales_' not in col]\n",
        "stacked_sales_cols = [col for col in df_total.columns if '_sales_' in col]\n",
        "other_cols = [col for col in df_total.columns if col not in set(sales_cols) and col not in set(stacked_sales_cols)]\n",
        "\n",
        "sales_cols = sorted(sales_cols)\n",
        "stacked_sales_cols = sorted(stacked_sales_cols)\n",
        "\n",
        "new_cols = other_cols + stacked_sales_cols + sales_cols"
      ]
    },
    {
      "cell_type": "code",
      "execution_count": null,
      "metadata": {
        "id": "ktjLKhFtnK66"
      },
      "outputs": [],
      "source": [
        "df_total = df_total.reindex(columns=new_cols)"
      ]
    },
    {
      "cell_type": "code",
      "execution_count": null,
      "metadata": {
        "id": "VnIyiuOmnNID"
      },
      "outputs": [],
      "source": [
        "assert df_total.isna().any().any() == False"
      ]
    },
    {
      "cell_type": "code",
      "execution_count": null,
      "metadata": {
        "id": "3CWdjMVhnT9B"
      },
      "outputs": [],
      "source": [
        "from sklearn.preprocessing import MinMaxScaler\n",
        "from sklearn.model_selection import train_test_split"
      ]
    },
    {
      "cell_type": "code",
      "execution_count": null,
      "metadata": {
        "id": "BRsmMHgsnWRA"
      },
      "outputs": [],
      "source": [
        "scaler = MinMaxScaler(feature_range=(0,1))\n",
        "cols_to_scale = [col for col in df_total.columns if 'weekday' not in col and 'month' not in col]\n",
        "scaled_cols = scaler.fit_transform(df_total[cols_to_scale])\n",
        "df_total[cols_to_scale] = scaled_cols"
      ]
    },
    {
      "cell_type": "code",
      "execution_count": null,
      "metadata": {
        "colab": {
          "base_uri": "https://localhost:8080/",
          "height": 693
        },
        "id": "aN0AyGdIhy22",
        "outputId": "a73821da-0103-4064-9a26-3acff1cc3722"
      },
      "outputs": [
        {
          "data": {
            "text/html": [
              "\n",
              "  <div id=\"df-5e92f80a-6c05-4be4-b3e6-2cb60345f868\">\n",
              "    <div class=\"colab-df-container\">\n",
              "      <div>\n",
              "<style scoped>\n",
              "    .dataframe tbody tr th:only-of-type {\n",
              "        vertical-align: middle;\n",
              "    }\n",
              "\n",
              "    .dataframe tbody tr th {\n",
              "        vertical-align: top;\n",
              "    }\n",
              "\n",
              "    .dataframe thead th {\n",
              "        text-align: right;\n",
              "    }\n",
              "</style>\n",
              "<table border=\"1\" class=\"dataframe\">\n",
              "  <thead>\n",
              "    <tr style=\"text-align: right;\">\n",
              "      <th></th>\n",
              "      <th>weekday_0</th>\n",
              "      <th>weekday_1</th>\n",
              "      <th>weekday_2</th>\n",
              "      <th>weekday_3</th>\n",
              "      <th>weekday_4</th>\n",
              "      <th>weekday_5</th>\n",
              "      <th>weekday_6</th>\n",
              "      <th>month_1</th>\n",
              "      <th>month_2</th>\n",
              "      <th>month_3</th>\n",
              "      <th>...</th>\n",
              "      <th>item_9_store_10_sales</th>\n",
              "      <th>item_9_store_1_sales</th>\n",
              "      <th>item_9_store_2_sales</th>\n",
              "      <th>item_9_store_3_sales</th>\n",
              "      <th>item_9_store_4_sales</th>\n",
              "      <th>item_9_store_5_sales</th>\n",
              "      <th>item_9_store_6_sales</th>\n",
              "      <th>item_9_store_7_sales</th>\n",
              "      <th>item_9_store_8_sales</th>\n",
              "      <th>item_9_store_9_sales</th>\n",
              "    </tr>\n",
              "    <tr>\n",
              "      <th>date</th>\n",
              "      <th></th>\n",
              "      <th></th>\n",
              "      <th></th>\n",
              "      <th></th>\n",
              "      <th></th>\n",
              "      <th></th>\n",
              "      <th></th>\n",
              "      <th></th>\n",
              "      <th></th>\n",
              "      <th></th>\n",
              "      <th></th>\n",
              "      <th></th>\n",
              "      <th></th>\n",
              "      <th></th>\n",
              "      <th></th>\n",
              "      <th></th>\n",
              "      <th></th>\n",
              "      <th></th>\n",
              "      <th></th>\n",
              "      <th></th>\n",
              "      <th></th>\n",
              "    </tr>\n",
              "  </thead>\n",
              "  <tbody>\n",
              "    <tr>\n",
              "      <th>2013-01-02</th>\n",
              "      <td>0</td>\n",
              "      <td>0</td>\n",
              "      <td>1</td>\n",
              "      <td>0</td>\n",
              "      <td>0</td>\n",
              "      <td>0</td>\n",
              "      <td>0</td>\n",
              "      <td>1</td>\n",
              "      <td>0</td>\n",
              "      <td>0</td>\n",
              "      <td>...</td>\n",
              "      <td>0.191667</td>\n",
              "      <td>0.244681</td>\n",
              "      <td>0.165354</td>\n",
              "      <td>0.148148</td>\n",
              "      <td>0.189189</td>\n",
              "      <td>0.238095</td>\n",
              "      <td>0.209877</td>\n",
              "      <td>0.256410</td>\n",
              "      <td>0.208955</td>\n",
              "      <td>0.327273</td>\n",
              "    </tr>\n",
              "    <tr>\n",
              "      <th>2013-01-03</th>\n",
              "      <td>0</td>\n",
              "      <td>0</td>\n",
              "      <td>0</td>\n",
              "      <td>1</td>\n",
              "      <td>0</td>\n",
              "      <td>0</td>\n",
              "      <td>0</td>\n",
              "      <td>1</td>\n",
              "      <td>0</td>\n",
              "      <td>0</td>\n",
              "      <td>...</td>\n",
              "      <td>0.308333</td>\n",
              "      <td>0.265957</td>\n",
              "      <td>0.228346</td>\n",
              "      <td>0.296296</td>\n",
              "      <td>0.225225</td>\n",
              "      <td>0.178571</td>\n",
              "      <td>0.345679</td>\n",
              "      <td>0.230769</td>\n",
              "      <td>0.231343</td>\n",
              "      <td>0.227273</td>\n",
              "    </tr>\n",
              "    <tr>\n",
              "      <th>2013-01-04</th>\n",
              "      <td>0</td>\n",
              "      <td>0</td>\n",
              "      <td>0</td>\n",
              "      <td>0</td>\n",
              "      <td>1</td>\n",
              "      <td>0</td>\n",
              "      <td>0</td>\n",
              "      <td>1</td>\n",
              "      <td>0</td>\n",
              "      <td>0</td>\n",
              "      <td>...</td>\n",
              "      <td>0.233333</td>\n",
              "      <td>0.234043</td>\n",
              "      <td>0.251969</td>\n",
              "      <td>0.370370</td>\n",
              "      <td>0.333333</td>\n",
              "      <td>0.238095</td>\n",
              "      <td>0.407407</td>\n",
              "      <td>0.307692</td>\n",
              "      <td>0.343284</td>\n",
              "      <td>0.281818</td>\n",
              "    </tr>\n",
              "    <tr>\n",
              "      <th>2013-01-05</th>\n",
              "      <td>0</td>\n",
              "      <td>0</td>\n",
              "      <td>0</td>\n",
              "      <td>0</td>\n",
              "      <td>0</td>\n",
              "      <td>1</td>\n",
              "      <td>0</td>\n",
              "      <td>1</td>\n",
              "      <td>0</td>\n",
              "      <td>0</td>\n",
              "      <td>...</td>\n",
              "      <td>0.291667</td>\n",
              "      <td>0.308511</td>\n",
              "      <td>0.354331</td>\n",
              "      <td>0.407407</td>\n",
              "      <td>0.333333</td>\n",
              "      <td>0.273810</td>\n",
              "      <td>0.333333</td>\n",
              "      <td>0.179487</td>\n",
              "      <td>0.261194</td>\n",
              "      <td>0.272727</td>\n",
              "    </tr>\n",
              "    <tr>\n",
              "      <th>2013-01-06</th>\n",
              "      <td>0</td>\n",
              "      <td>0</td>\n",
              "      <td>0</td>\n",
              "      <td>0</td>\n",
              "      <td>0</td>\n",
              "      <td>0</td>\n",
              "      <td>1</td>\n",
              "      <td>1</td>\n",
              "      <td>0</td>\n",
              "      <td>0</td>\n",
              "      <td>...</td>\n",
              "      <td>0.308333</td>\n",
              "      <td>0.372340</td>\n",
              "      <td>0.322835</td>\n",
              "      <td>0.314815</td>\n",
              "      <td>0.333333</td>\n",
              "      <td>0.345238</td>\n",
              "      <td>0.246914</td>\n",
              "      <td>0.307692</td>\n",
              "      <td>0.253731</td>\n",
              "      <td>0.318182</td>\n",
              "    </tr>\n",
              "    <tr>\n",
              "      <th>...</th>\n",
              "      <td>...</td>\n",
              "      <td>...</td>\n",
              "      <td>...</td>\n",
              "      <td>...</td>\n",
              "      <td>...</td>\n",
              "      <td>...</td>\n",
              "      <td>...</td>\n",
              "      <td>...</td>\n",
              "      <td>...</td>\n",
              "      <td>...</td>\n",
              "      <td>...</td>\n",
              "      <td>...</td>\n",
              "      <td>...</td>\n",
              "      <td>...</td>\n",
              "      <td>...</td>\n",
              "      <td>...</td>\n",
              "      <td>...</td>\n",
              "      <td>...</td>\n",
              "      <td>...</td>\n",
              "      <td>...</td>\n",
              "      <td>...</td>\n",
              "    </tr>\n",
              "    <tr>\n",
              "      <th>2018-03-27</th>\n",
              "      <td>0</td>\n",
              "      <td>1</td>\n",
              "      <td>0</td>\n",
              "      <td>0</td>\n",
              "      <td>0</td>\n",
              "      <td>0</td>\n",
              "      <td>0</td>\n",
              "      <td>0</td>\n",
              "      <td>0</td>\n",
              "      <td>1</td>\n",
              "      <td>...</td>\n",
              "      <td>0.000000</td>\n",
              "      <td>0.000000</td>\n",
              "      <td>0.000000</td>\n",
              "      <td>0.000000</td>\n",
              "      <td>0.000000</td>\n",
              "      <td>0.000000</td>\n",
              "      <td>0.000000</td>\n",
              "      <td>0.000000</td>\n",
              "      <td>0.000000</td>\n",
              "      <td>0.000000</td>\n",
              "    </tr>\n",
              "    <tr>\n",
              "      <th>2018-03-28</th>\n",
              "      <td>0</td>\n",
              "      <td>0</td>\n",
              "      <td>1</td>\n",
              "      <td>0</td>\n",
              "      <td>0</td>\n",
              "      <td>0</td>\n",
              "      <td>0</td>\n",
              "      <td>0</td>\n",
              "      <td>0</td>\n",
              "      <td>1</td>\n",
              "      <td>...</td>\n",
              "      <td>0.000000</td>\n",
              "      <td>0.000000</td>\n",
              "      <td>0.000000</td>\n",
              "      <td>0.000000</td>\n",
              "      <td>0.000000</td>\n",
              "      <td>0.000000</td>\n",
              "      <td>0.000000</td>\n",
              "      <td>0.000000</td>\n",
              "      <td>0.000000</td>\n",
              "      <td>0.000000</td>\n",
              "    </tr>\n",
              "    <tr>\n",
              "      <th>2018-03-29</th>\n",
              "      <td>0</td>\n",
              "      <td>0</td>\n",
              "      <td>0</td>\n",
              "      <td>1</td>\n",
              "      <td>0</td>\n",
              "      <td>0</td>\n",
              "      <td>0</td>\n",
              "      <td>0</td>\n",
              "      <td>0</td>\n",
              "      <td>1</td>\n",
              "      <td>...</td>\n",
              "      <td>0.000000</td>\n",
              "      <td>0.000000</td>\n",
              "      <td>0.000000</td>\n",
              "      <td>0.000000</td>\n",
              "      <td>0.000000</td>\n",
              "      <td>0.000000</td>\n",
              "      <td>0.000000</td>\n",
              "      <td>0.000000</td>\n",
              "      <td>0.000000</td>\n",
              "      <td>0.000000</td>\n",
              "    </tr>\n",
              "    <tr>\n",
              "      <th>2018-03-30</th>\n",
              "      <td>0</td>\n",
              "      <td>0</td>\n",
              "      <td>0</td>\n",
              "      <td>0</td>\n",
              "      <td>1</td>\n",
              "      <td>0</td>\n",
              "      <td>0</td>\n",
              "      <td>0</td>\n",
              "      <td>0</td>\n",
              "      <td>1</td>\n",
              "      <td>...</td>\n",
              "      <td>0.000000</td>\n",
              "      <td>0.000000</td>\n",
              "      <td>0.000000</td>\n",
              "      <td>0.000000</td>\n",
              "      <td>0.000000</td>\n",
              "      <td>0.000000</td>\n",
              "      <td>0.000000</td>\n",
              "      <td>0.000000</td>\n",
              "      <td>0.000000</td>\n",
              "      <td>0.000000</td>\n",
              "    </tr>\n",
              "    <tr>\n",
              "      <th>2018-03-31</th>\n",
              "      <td>0</td>\n",
              "      <td>0</td>\n",
              "      <td>0</td>\n",
              "      <td>0</td>\n",
              "      <td>0</td>\n",
              "      <td>1</td>\n",
              "      <td>0</td>\n",
              "      <td>0</td>\n",
              "      <td>0</td>\n",
              "      <td>1</td>\n",
              "      <td>...</td>\n",
              "      <td>0.000000</td>\n",
              "      <td>0.000000</td>\n",
              "      <td>0.000000</td>\n",
              "      <td>0.000000</td>\n",
              "      <td>0.000000</td>\n",
              "      <td>0.000000</td>\n",
              "      <td>0.000000</td>\n",
              "      <td>0.000000</td>\n",
              "      <td>0.000000</td>\n",
              "      <td>0.000000</td>\n",
              "    </tr>\n",
              "  </tbody>\n",
              "</table>\n",
              "<p>1915 rows × 1020 columns</p>\n",
              "</div>\n",
              "      <button class=\"colab-df-convert\" onclick=\"convertToInteractive('df-5e92f80a-6c05-4be4-b3e6-2cb60345f868')\"\n",
              "              title=\"Convert this dataframe to an interactive table.\"\n",
              "              style=\"display:none;\">\n",
              "        \n",
              "  <svg xmlns=\"http://www.w3.org/2000/svg\" height=\"24px\"viewBox=\"0 0 24 24\"\n",
              "       width=\"24px\">\n",
              "    <path d=\"M0 0h24v24H0V0z\" fill=\"none\"/>\n",
              "    <path d=\"M18.56 5.44l.94 2.06.94-2.06 2.06-.94-2.06-.94-.94-2.06-.94 2.06-2.06.94zm-11 1L8.5 8.5l.94-2.06 2.06-.94-2.06-.94L8.5 2.5l-.94 2.06-2.06.94zm10 10l.94 2.06.94-2.06 2.06-.94-2.06-.94-.94-2.06-.94 2.06-2.06.94z\"/><path d=\"M17.41 7.96l-1.37-1.37c-.4-.4-.92-.59-1.43-.59-.52 0-1.04.2-1.43.59L10.3 9.45l-7.72 7.72c-.78.78-.78 2.05 0 2.83L4 21.41c.39.39.9.59 1.41.59.51 0 1.02-.2 1.41-.59l7.78-7.78 2.81-2.81c.8-.78.8-2.07 0-2.86zM5.41 20L4 18.59l7.72-7.72 1.47 1.35L5.41 20z\"/>\n",
              "  </svg>\n",
              "      </button>\n",
              "      \n",
              "  <style>\n",
              "    .colab-df-container {\n",
              "      display:flex;\n",
              "      flex-wrap:wrap;\n",
              "      gap: 12px;\n",
              "    }\n",
              "\n",
              "    .colab-df-convert {\n",
              "      background-color: #E8F0FE;\n",
              "      border: none;\n",
              "      border-radius: 50%;\n",
              "      cursor: pointer;\n",
              "      display: none;\n",
              "      fill: #1967D2;\n",
              "      height: 32px;\n",
              "      padding: 0 0 0 0;\n",
              "      width: 32px;\n",
              "    }\n",
              "\n",
              "    .colab-df-convert:hover {\n",
              "      background-color: #E2EBFA;\n",
              "      box-shadow: 0px 1px 2px rgba(60, 64, 67, 0.3), 0px 1px 3px 1px rgba(60, 64, 67, 0.15);\n",
              "      fill: #174EA6;\n",
              "    }\n",
              "\n",
              "    [theme=dark] .colab-df-convert {\n",
              "      background-color: #3B4455;\n",
              "      fill: #D2E3FC;\n",
              "    }\n",
              "\n",
              "    [theme=dark] .colab-df-convert:hover {\n",
              "      background-color: #434B5C;\n",
              "      box-shadow: 0px 1px 3px 1px rgba(0, 0, 0, 0.15);\n",
              "      filter: drop-shadow(0px 1px 2px rgba(0, 0, 0, 0.3));\n",
              "      fill: #FFFFFF;\n",
              "    }\n",
              "  </style>\n",
              "\n",
              "      <script>\n",
              "        const buttonEl =\n",
              "          document.querySelector('#df-5e92f80a-6c05-4be4-b3e6-2cb60345f868 button.colab-df-convert');\n",
              "        buttonEl.style.display =\n",
              "          google.colab.kernel.accessAllowed ? 'block' : 'none';\n",
              "\n",
              "        async function convertToInteractive(key) {\n",
              "          const element = document.querySelector('#df-5e92f80a-6c05-4be4-b3e6-2cb60345f868');\n",
              "          const dataTable =\n",
              "            await google.colab.kernel.invokeFunction('convertToInteractive',\n",
              "                                                     [key], {});\n",
              "          if (!dataTable) return;\n",
              "\n",
              "          const docLinkHtml = 'Like what you see? Visit the ' +\n",
              "            '<a target=\"_blank\" href=https://colab.research.google.com/notebooks/data_table.ipynb>data table notebook</a>'\n",
              "            + ' to learn more about interactive tables.';\n",
              "          element.innerHTML = '';\n",
              "          dataTable['output_type'] = 'display_data';\n",
              "          await google.colab.output.renderOutput(dataTable, element);\n",
              "          const docLink = document.createElement('div');\n",
              "          docLink.innerHTML = docLinkHtml;\n",
              "          element.appendChild(docLink);\n",
              "        }\n",
              "      </script>\n",
              "    </div>\n",
              "  </div>\n",
              "  "
            ],
            "text/plain": [
              "            weekday_0  weekday_1  weekday_2  weekday_3  weekday_4  weekday_5  \\\n",
              "date                                                                           \n",
              "2013-01-02          0          0          1          0          0          0   \n",
              "2013-01-03          0          0          0          1          0          0   \n",
              "2013-01-04          0          0          0          0          1          0   \n",
              "2013-01-05          0          0          0          0          0          1   \n",
              "2013-01-06          0          0          0          0          0          0   \n",
              "...               ...        ...        ...        ...        ...        ...   \n",
              "2018-03-27          0          1          0          0          0          0   \n",
              "2018-03-28          0          0          1          0          0          0   \n",
              "2018-03-29          0          0          0          1          0          0   \n",
              "2018-03-30          0          0          0          0          1          0   \n",
              "2018-03-31          0          0          0          0          0          1   \n",
              "\n",
              "            weekday_6  month_1  month_2  month_3  ...  item_9_store_10_sales  \\\n",
              "date                                              ...                          \n",
              "2013-01-02          0        1        0        0  ...               0.191667   \n",
              "2013-01-03          0        1        0        0  ...               0.308333   \n",
              "2013-01-04          0        1        0        0  ...               0.233333   \n",
              "2013-01-05          0        1        0        0  ...               0.291667   \n",
              "2013-01-06          1        1        0        0  ...               0.308333   \n",
              "...               ...      ...      ...      ...  ...                    ...   \n",
              "2018-03-27          0        0        0        1  ...               0.000000   \n",
              "2018-03-28          0        0        0        1  ...               0.000000   \n",
              "2018-03-29          0        0        0        1  ...               0.000000   \n",
              "2018-03-30          0        0        0        1  ...               0.000000   \n",
              "2018-03-31          0        0        0        1  ...               0.000000   \n",
              "\n",
              "            item_9_store_1_sales  item_9_store_2_sales  item_9_store_3_sales  \\\n",
              "date                                                                           \n",
              "2013-01-02              0.244681              0.165354              0.148148   \n",
              "2013-01-03              0.265957              0.228346              0.296296   \n",
              "2013-01-04              0.234043              0.251969              0.370370   \n",
              "2013-01-05              0.308511              0.354331              0.407407   \n",
              "2013-01-06              0.372340              0.322835              0.314815   \n",
              "...                          ...                   ...                   ...   \n",
              "2018-03-27              0.000000              0.000000              0.000000   \n",
              "2018-03-28              0.000000              0.000000              0.000000   \n",
              "2018-03-29              0.000000              0.000000              0.000000   \n",
              "2018-03-30              0.000000              0.000000              0.000000   \n",
              "2018-03-31              0.000000              0.000000              0.000000   \n",
              "\n",
              "            item_9_store_4_sales  item_9_store_5_sales  item_9_store_6_sales  \\\n",
              "date                                                                           \n",
              "2013-01-02              0.189189              0.238095              0.209877   \n",
              "2013-01-03              0.225225              0.178571              0.345679   \n",
              "2013-01-04              0.333333              0.238095              0.407407   \n",
              "2013-01-05              0.333333              0.273810              0.333333   \n",
              "2013-01-06              0.333333              0.345238              0.246914   \n",
              "...                          ...                   ...                   ...   \n",
              "2018-03-27              0.000000              0.000000              0.000000   \n",
              "2018-03-28              0.000000              0.000000              0.000000   \n",
              "2018-03-29              0.000000              0.000000              0.000000   \n",
              "2018-03-30              0.000000              0.000000              0.000000   \n",
              "2018-03-31              0.000000              0.000000              0.000000   \n",
              "\n",
              "            item_9_store_7_sales  item_9_store_8_sales  item_9_store_9_sales  \n",
              "date                                                                          \n",
              "2013-01-02              0.256410              0.208955              0.327273  \n",
              "2013-01-03              0.230769              0.231343              0.227273  \n",
              "2013-01-04              0.307692              0.343284              0.281818  \n",
              "2013-01-05              0.179487              0.261194              0.272727  \n",
              "2013-01-06              0.307692              0.253731              0.318182  \n",
              "...                          ...                   ...                   ...  \n",
              "2018-03-27              0.000000              0.000000              0.000000  \n",
              "2018-03-28              0.000000              0.000000              0.000000  \n",
              "2018-03-29              0.000000              0.000000              0.000000  \n",
              "2018-03-30              0.000000              0.000000              0.000000  \n",
              "2018-03-31              0.000000              0.000000              0.000000  \n",
              "\n",
              "[1915 rows x 1020 columns]"
            ]
          },
          "execution_count": 27,
          "metadata": {},
          "output_type": "execute_result"
        }
      ],
      "source": [
        "df_total"
      ]
    },
    {
      "cell_type": "code",
      "execution_count": null,
      "metadata": {
        "id": "NA46JuXHnYJA"
      },
      "outputs": [],
      "source": [
        "df_train = df_total[df_total['is_test'] == False].drop('is_test', axis=1)\n",
        "df_test = df_total[df_total['is_test'] == True].drop('is_test', axis=1)"
      ]
    },
    {
      "cell_type": "code",
      "execution_count": null,
      "metadata": {
        "id": "SnyRsPYlnal9"
      },
      "outputs": [],
      "source": [
        "X_cols_stacked = [col for col in df_train.columns if '_past_' in col]\n",
        "X_cols_caldata = [col for col in df_train.columns if 'weekday_' in col or 'month_' in col or 'year' in col]\n",
        "X_cols = X_cols_stacked + X_cols_caldata\n",
        "\n",
        "X = df_train[X_cols]"
      ]
    },
    {
      "cell_type": "code",
      "execution_count": null,
      "metadata": {
        "id": "VU6LukJbnc7M"
      },
      "outputs": [],
      "source": [
        "X_colset = set(X_cols)\n",
        "y_cols = [col for col in df_train.columns if col not in X_colset]\n",
        "\n",
        "y = df_train[y_cols]"
      ]
    },
    {
      "cell_type": "code",
      "execution_count": null,
      "metadata": {
        "id": "Zvfxb2aOneAB"
      },
      "outputs": [],
      "source": [
        "X_train, X_valid, y_train, y_valid = train_test_split(X, y, test_size=0.2, shuffle=False)"
      ]
    },
    {
      "cell_type": "code",
      "execution_count": null,
      "metadata": {
        "id": "7Z-c5oI9ngZK"
      },
      "outputs": [],
      "source": [
        "X_valid, y_valid = X_valid.head(90), y_valid.head(90)"
      ]
    },
    {
      "cell_type": "code",
      "execution_count": null,
      "metadata": {
        "id": "D5PAoQBcniec"
      },
      "outputs": [],
      "source": [
        "X_train_vals = X_train.values.reshape((X_train.shape[0], 1, X_train.shape[1]))\n",
        "X_valid_vals = X_valid.values.reshape((X_valid.shape[0], 1, X_valid.shape[1]))"
      ]
    },
    {
      "cell_type": "code",
      "execution_count": null,
      "metadata": {
        "id": "kFAWmu5sKYbn"
      },
      "outputs": [],
      "source": [
        "def windowed_dataset(series, window_size, batch_size, shuffle_buffer):\n",
        "    \"\"\"Generates dataset windows\n",
        "\n",
        "    Args:\n",
        "      series (array of float) - contains the values of the time series\n",
        "      window_size (int) - the number of time steps to include in the feature\n",
        "      batch_size (int) - the batch size\n",
        "      shuffle_buffer(int) - buffer size to use for the shuffle method\n",
        "\n",
        "    Returns:\n",
        "      dataset (TF Dataset) - TF Dataset containing time windows\n",
        "    \"\"\"\n",
        "  \n",
        "    # Generate a TF Dataset from the series values\n",
        "    dataset = tf.data.Dataset.from_tensor_slices(series)\n",
        "    \n",
        "    # Window the data but only take those with the specified size\n",
        "    dataset = dataset.window(window_size + 1, shift=1, drop_remainder=True)\n",
        "    \n",
        "    # Flatten the windows by putting its elements in a single batch\n",
        "    dataset = dataset.flat_map(lambda window: window.batch(window_size + 1))\n",
        "\n",
        "    # Create tuples with features and labels \n",
        "    dataset = dataset.map(lambda window: (window[:-1], window[-1]))\n",
        "\n",
        "    # Shuffle the windows\n",
        "    dataset = dataset.shuffle(shuffle_buffer)\n",
        "    \n",
        "    # Create batches of windows\n",
        "    dataset = dataset.batch(batch_size).prefetch(1)\n",
        "    \n",
        "    return dataset"
      ]
    },
    {
      "cell_type": "code",
      "execution_count": null,
      "metadata": {
        "id": "_st6cqEZKdhi"
      },
      "outputs": [],
      "source": [
        "# Parameters\n",
        "window_size = 30\n",
        "batch_size = 32\n",
        "shuffle_buffer_size = 1000\n",
        "\n",
        "# Generate the dataset windows\n",
        "train_set = windowed_dataset(X_train, window_size, batch_size, shuffle_buffer_size)"
      ]
    },
    {
      "cell_type": "code",
      "execution_count": null,
      "metadata": {
        "colab": {
          "base_uri": "https://localhost:8080/",
          "height": 693
        },
        "id": "TtcWdDBpbazs",
        "outputId": "60a1f748-5e9a-4cd5-adee-609ce7b400ba"
      },
      "outputs": [
        {
          "data": {
            "text/html": [
              "\n",
              "  <div id=\"df-388068a2-ae8e-47d7-8126-b357272f2b25\">\n",
              "    <div class=\"colab-df-container\">\n",
              "      <div>\n",
              "<style scoped>\n",
              "    .dataframe tbody tr th:only-of-type {\n",
              "        vertical-align: middle;\n",
              "    }\n",
              "\n",
              "    .dataframe tbody tr th {\n",
              "        vertical-align: top;\n",
              "    }\n",
              "\n",
              "    .dataframe thead th {\n",
              "        text-align: right;\n",
              "    }\n",
              "</style>\n",
              "<table border=\"1\" class=\"dataframe\">\n",
              "  <thead>\n",
              "    <tr style=\"text-align: right;\">\n",
              "      <th></th>\n",
              "      <th>item_10_store_10_sales_past_1</th>\n",
              "      <th>item_10_store_1_sales_past_1</th>\n",
              "      <th>item_10_store_2_sales_past_1</th>\n",
              "      <th>item_10_store_3_sales_past_1</th>\n",
              "      <th>item_10_store_4_sales_past_1</th>\n",
              "      <th>item_10_store_5_sales_past_1</th>\n",
              "      <th>item_10_store_6_sales_past_1</th>\n",
              "      <th>item_10_store_7_sales_past_1</th>\n",
              "      <th>item_10_store_8_sales_past_1</th>\n",
              "      <th>item_10_store_9_sales_past_1</th>\n",
              "      <th>...</th>\n",
              "      <th>month_3</th>\n",
              "      <th>month_4</th>\n",
              "      <th>month_5</th>\n",
              "      <th>month_6</th>\n",
              "      <th>month_7</th>\n",
              "      <th>month_8</th>\n",
              "      <th>month_9</th>\n",
              "      <th>month_10</th>\n",
              "      <th>month_11</th>\n",
              "      <th>month_12</th>\n",
              "    </tr>\n",
              "    <tr>\n",
              "      <th>date</th>\n",
              "      <th></th>\n",
              "      <th></th>\n",
              "      <th></th>\n",
              "      <th></th>\n",
              "      <th></th>\n",
              "      <th></th>\n",
              "      <th></th>\n",
              "      <th></th>\n",
              "      <th></th>\n",
              "      <th></th>\n",
              "      <th></th>\n",
              "      <th></th>\n",
              "      <th></th>\n",
              "      <th></th>\n",
              "      <th></th>\n",
              "      <th></th>\n",
              "      <th></th>\n",
              "      <th></th>\n",
              "      <th></th>\n",
              "      <th></th>\n",
              "      <th></th>\n",
              "    </tr>\n",
              "  </thead>\n",
              "  <tbody>\n",
              "    <tr>\n",
              "      <th>2013-01-02</th>\n",
              "      <td>0.288462</td>\n",
              "      <td>0.282443</td>\n",
              "      <td>0.291429</td>\n",
              "      <td>0.240506</td>\n",
              "      <td>0.194805</td>\n",
              "      <td>0.269565</td>\n",
              "      <td>0.252174</td>\n",
              "      <td>0.25</td>\n",
              "      <td>0.270115</td>\n",
              "      <td>0.304054</td>\n",
              "      <td>...</td>\n",
              "      <td>0</td>\n",
              "      <td>0</td>\n",
              "      <td>0</td>\n",
              "      <td>0</td>\n",
              "      <td>0</td>\n",
              "      <td>0</td>\n",
              "      <td>0</td>\n",
              "      <td>0</td>\n",
              "      <td>0</td>\n",
              "      <td>0</td>\n",
              "    </tr>\n",
              "    <tr>\n",
              "      <th>2013-01-03</th>\n",
              "      <td>0.320513</td>\n",
              "      <td>0.259542</td>\n",
              "      <td>0.320000</td>\n",
              "      <td>0.379747</td>\n",
              "      <td>0.188312</td>\n",
              "      <td>0.243478</td>\n",
              "      <td>0.226087</td>\n",
              "      <td>0.27</td>\n",
              "      <td>0.258621</td>\n",
              "      <td>0.283784</td>\n",
              "      <td>...</td>\n",
              "      <td>0</td>\n",
              "      <td>0</td>\n",
              "      <td>0</td>\n",
              "      <td>0</td>\n",
              "      <td>0</td>\n",
              "      <td>0</td>\n",
              "      <td>0</td>\n",
              "      <td>0</td>\n",
              "      <td>0</td>\n",
              "      <td>0</td>\n",
              "    </tr>\n",
              "    <tr>\n",
              "      <th>2013-01-04</th>\n",
              "      <td>0.339744</td>\n",
              "      <td>0.244275</td>\n",
              "      <td>0.262857</td>\n",
              "      <td>0.316456</td>\n",
              "      <td>0.240260</td>\n",
              "      <td>0.200000</td>\n",
              "      <td>0.295652</td>\n",
              "      <td>0.26</td>\n",
              "      <td>0.264368</td>\n",
              "      <td>0.277027</td>\n",
              "      <td>...</td>\n",
              "      <td>0</td>\n",
              "      <td>0</td>\n",
              "      <td>0</td>\n",
              "      <td>0</td>\n",
              "      <td>0</td>\n",
              "      <td>0</td>\n",
              "      <td>0</td>\n",
              "      <td>0</td>\n",
              "      <td>0</td>\n",
              "      <td>0</td>\n",
              "    </tr>\n",
              "    <tr>\n",
              "      <th>2013-01-05</th>\n",
              "      <td>0.326923</td>\n",
              "      <td>0.343511</td>\n",
              "      <td>0.320000</td>\n",
              "      <td>0.291139</td>\n",
              "      <td>0.292208</td>\n",
              "      <td>0.278261</td>\n",
              "      <td>0.365217</td>\n",
              "      <td>0.37</td>\n",
              "      <td>0.356322</td>\n",
              "      <td>0.310811</td>\n",
              "      <td>...</td>\n",
              "      <td>0</td>\n",
              "      <td>0</td>\n",
              "      <td>0</td>\n",
              "      <td>0</td>\n",
              "      <td>0</td>\n",
              "      <td>0</td>\n",
              "      <td>0</td>\n",
              "      <td>0</td>\n",
              "      <td>0</td>\n",
              "      <td>0</td>\n",
              "    </tr>\n",
              "    <tr>\n",
              "      <th>2013-01-06</th>\n",
              "      <td>0.346154</td>\n",
              "      <td>0.267176</td>\n",
              "      <td>0.302857</td>\n",
              "      <td>0.291139</td>\n",
              "      <td>0.337662</td>\n",
              "      <td>0.260870</td>\n",
              "      <td>0.391304</td>\n",
              "      <td>0.31</td>\n",
              "      <td>0.293103</td>\n",
              "      <td>0.351351</td>\n",
              "      <td>...</td>\n",
              "      <td>0</td>\n",
              "      <td>0</td>\n",
              "      <td>0</td>\n",
              "      <td>0</td>\n",
              "      <td>0</td>\n",
              "      <td>0</td>\n",
              "      <td>0</td>\n",
              "      <td>0</td>\n",
              "      <td>0</td>\n",
              "      <td>0</td>\n",
              "    </tr>\n",
              "    <tr>\n",
              "      <th>...</th>\n",
              "      <td>...</td>\n",
              "      <td>...</td>\n",
              "      <td>...</td>\n",
              "      <td>...</td>\n",
              "      <td>...</td>\n",
              "      <td>...</td>\n",
              "      <td>...</td>\n",
              "      <td>...</td>\n",
              "      <td>...</td>\n",
              "      <td>...</td>\n",
              "      <td>...</td>\n",
              "      <td>...</td>\n",
              "      <td>...</td>\n",
              "      <td>...</td>\n",
              "      <td>...</td>\n",
              "      <td>...</td>\n",
              "      <td>...</td>\n",
              "      <td>...</td>\n",
              "      <td>...</td>\n",
              "      <td>...</td>\n",
              "      <td>...</td>\n",
              "    </tr>\n",
              "    <tr>\n",
              "      <th>2016-12-27</th>\n",
              "      <td>0.326923</td>\n",
              "      <td>0.267176</td>\n",
              "      <td>0.308571</td>\n",
              "      <td>0.341772</td>\n",
              "      <td>0.331169</td>\n",
              "      <td>0.234783</td>\n",
              "      <td>0.278261</td>\n",
              "      <td>0.36</td>\n",
              "      <td>0.425287</td>\n",
              "      <td>0.358108</td>\n",
              "      <td>...</td>\n",
              "      <td>0</td>\n",
              "      <td>0</td>\n",
              "      <td>0</td>\n",
              "      <td>0</td>\n",
              "      <td>0</td>\n",
              "      <td>0</td>\n",
              "      <td>0</td>\n",
              "      <td>0</td>\n",
              "      <td>0</td>\n",
              "      <td>1</td>\n",
              "    </tr>\n",
              "    <tr>\n",
              "      <th>2016-12-28</th>\n",
              "      <td>0.301282</td>\n",
              "      <td>0.419847</td>\n",
              "      <td>0.365714</td>\n",
              "      <td>0.462025</td>\n",
              "      <td>0.344156</td>\n",
              "      <td>0.339130</td>\n",
              "      <td>0.278261</td>\n",
              "      <td>0.40</td>\n",
              "      <td>0.471264</td>\n",
              "      <td>0.304054</td>\n",
              "      <td>...</td>\n",
              "      <td>0</td>\n",
              "      <td>0</td>\n",
              "      <td>0</td>\n",
              "      <td>0</td>\n",
              "      <td>0</td>\n",
              "      <td>0</td>\n",
              "      <td>0</td>\n",
              "      <td>0</td>\n",
              "      <td>0</td>\n",
              "      <td>1</td>\n",
              "    </tr>\n",
              "    <tr>\n",
              "      <th>2016-12-29</th>\n",
              "      <td>0.365385</td>\n",
              "      <td>0.251908</td>\n",
              "      <td>0.405714</td>\n",
              "      <td>0.360759</td>\n",
              "      <td>0.448052</td>\n",
              "      <td>0.365217</td>\n",
              "      <td>0.321739</td>\n",
              "      <td>0.33</td>\n",
              "      <td>0.431034</td>\n",
              "      <td>0.391892</td>\n",
              "      <td>...</td>\n",
              "      <td>0</td>\n",
              "      <td>0</td>\n",
              "      <td>0</td>\n",
              "      <td>0</td>\n",
              "      <td>0</td>\n",
              "      <td>0</td>\n",
              "      <td>0</td>\n",
              "      <td>0</td>\n",
              "      <td>0</td>\n",
              "      <td>1</td>\n",
              "    </tr>\n",
              "    <tr>\n",
              "      <th>2016-12-30</th>\n",
              "      <td>0.500000</td>\n",
              "      <td>0.465649</td>\n",
              "      <td>0.485714</td>\n",
              "      <td>0.411392</td>\n",
              "      <td>0.415584</td>\n",
              "      <td>0.400000</td>\n",
              "      <td>0.382609</td>\n",
              "      <td>0.47</td>\n",
              "      <td>0.390805</td>\n",
              "      <td>0.405405</td>\n",
              "      <td>...</td>\n",
              "      <td>0</td>\n",
              "      <td>0</td>\n",
              "      <td>0</td>\n",
              "      <td>0</td>\n",
              "      <td>0</td>\n",
              "      <td>0</td>\n",
              "      <td>0</td>\n",
              "      <td>0</td>\n",
              "      <td>0</td>\n",
              "      <td>1</td>\n",
              "    </tr>\n",
              "    <tr>\n",
              "      <th>2016-12-31</th>\n",
              "      <td>0.410256</td>\n",
              "      <td>0.458015</td>\n",
              "      <td>0.428571</td>\n",
              "      <td>0.411392</td>\n",
              "      <td>0.467532</td>\n",
              "      <td>0.382609</td>\n",
              "      <td>0.478261</td>\n",
              "      <td>0.50</td>\n",
              "      <td>0.442529</td>\n",
              "      <td>0.297297</td>\n",
              "      <td>...</td>\n",
              "      <td>0</td>\n",
              "      <td>0</td>\n",
              "      <td>0</td>\n",
              "      <td>0</td>\n",
              "      <td>0</td>\n",
              "      <td>0</td>\n",
              "      <td>0</td>\n",
              "      <td>0</td>\n",
              "      <td>0</td>\n",
              "      <td>1</td>\n",
              "    </tr>\n",
              "  </tbody>\n",
              "</table>\n",
              "<p>1460 rows × 519 columns</p>\n",
              "</div>\n",
              "      <button class=\"colab-df-convert\" onclick=\"convertToInteractive('df-388068a2-ae8e-47d7-8126-b357272f2b25')\"\n",
              "              title=\"Convert this dataframe to an interactive table.\"\n",
              "              style=\"display:none;\">\n",
              "        \n",
              "  <svg xmlns=\"http://www.w3.org/2000/svg\" height=\"24px\"viewBox=\"0 0 24 24\"\n",
              "       width=\"24px\">\n",
              "    <path d=\"M0 0h24v24H0V0z\" fill=\"none\"/>\n",
              "    <path d=\"M18.56 5.44l.94 2.06.94-2.06 2.06-.94-2.06-.94-.94-2.06-.94 2.06-2.06.94zm-11 1L8.5 8.5l.94-2.06 2.06-.94-2.06-.94L8.5 2.5l-.94 2.06-2.06.94zm10 10l.94 2.06.94-2.06 2.06-.94-2.06-.94-.94-2.06-.94 2.06-2.06.94z\"/><path d=\"M17.41 7.96l-1.37-1.37c-.4-.4-.92-.59-1.43-.59-.52 0-1.04.2-1.43.59L10.3 9.45l-7.72 7.72c-.78.78-.78 2.05 0 2.83L4 21.41c.39.39.9.59 1.41.59.51 0 1.02-.2 1.41-.59l7.78-7.78 2.81-2.81c.8-.78.8-2.07 0-2.86zM5.41 20L4 18.59l7.72-7.72 1.47 1.35L5.41 20z\"/>\n",
              "  </svg>\n",
              "      </button>\n",
              "      \n",
              "  <style>\n",
              "    .colab-df-container {\n",
              "      display:flex;\n",
              "      flex-wrap:wrap;\n",
              "      gap: 12px;\n",
              "    }\n",
              "\n",
              "    .colab-df-convert {\n",
              "      background-color: #E8F0FE;\n",
              "      border: none;\n",
              "      border-radius: 50%;\n",
              "      cursor: pointer;\n",
              "      display: none;\n",
              "      fill: #1967D2;\n",
              "      height: 32px;\n",
              "      padding: 0 0 0 0;\n",
              "      width: 32px;\n",
              "    }\n",
              "\n",
              "    .colab-df-convert:hover {\n",
              "      background-color: #E2EBFA;\n",
              "      box-shadow: 0px 1px 2px rgba(60, 64, 67, 0.3), 0px 1px 3px 1px rgba(60, 64, 67, 0.15);\n",
              "      fill: #174EA6;\n",
              "    }\n",
              "\n",
              "    [theme=dark] .colab-df-convert {\n",
              "      background-color: #3B4455;\n",
              "      fill: #D2E3FC;\n",
              "    }\n",
              "\n",
              "    [theme=dark] .colab-df-convert:hover {\n",
              "      background-color: #434B5C;\n",
              "      box-shadow: 0px 1px 3px 1px rgba(0, 0, 0, 0.15);\n",
              "      filter: drop-shadow(0px 1px 2px rgba(0, 0, 0, 0.3));\n",
              "      fill: #FFFFFF;\n",
              "    }\n",
              "  </style>\n",
              "\n",
              "      <script>\n",
              "        const buttonEl =\n",
              "          document.querySelector('#df-388068a2-ae8e-47d7-8126-b357272f2b25 button.colab-df-convert');\n",
              "        buttonEl.style.display =\n",
              "          google.colab.kernel.accessAllowed ? 'block' : 'none';\n",
              "\n",
              "        async function convertToInteractive(key) {\n",
              "          const element = document.querySelector('#df-388068a2-ae8e-47d7-8126-b357272f2b25');\n",
              "          const dataTable =\n",
              "            await google.colab.kernel.invokeFunction('convertToInteractive',\n",
              "                                                     [key], {});\n",
              "          if (!dataTable) return;\n",
              "\n",
              "          const docLinkHtml = 'Like what you see? Visit the ' +\n",
              "            '<a target=\"_blank\" href=https://colab.research.google.com/notebooks/data_table.ipynb>data table notebook</a>'\n",
              "            + ' to learn more about interactive tables.';\n",
              "          element.innerHTML = '';\n",
              "          dataTable['output_type'] = 'display_data';\n",
              "          await google.colab.output.renderOutput(dataTable, element);\n",
              "          const docLink = document.createElement('div');\n",
              "          docLink.innerHTML = docLinkHtml;\n",
              "          element.appendChild(docLink);\n",
              "        }\n",
              "      </script>\n",
              "    </div>\n",
              "  </div>\n",
              "  "
            ],
            "text/plain": [
              "            item_10_store_10_sales_past_1  item_10_store_1_sales_past_1  \\\n",
              "date                                                                      \n",
              "2013-01-02                       0.288462                      0.282443   \n",
              "2013-01-03                       0.320513                      0.259542   \n",
              "2013-01-04                       0.339744                      0.244275   \n",
              "2013-01-05                       0.326923                      0.343511   \n",
              "2013-01-06                       0.346154                      0.267176   \n",
              "...                                   ...                           ...   \n",
              "2016-12-27                       0.326923                      0.267176   \n",
              "2016-12-28                       0.301282                      0.419847   \n",
              "2016-12-29                       0.365385                      0.251908   \n",
              "2016-12-30                       0.500000                      0.465649   \n",
              "2016-12-31                       0.410256                      0.458015   \n",
              "\n",
              "            item_10_store_2_sales_past_1  item_10_store_3_sales_past_1  \\\n",
              "date                                                                     \n",
              "2013-01-02                      0.291429                      0.240506   \n",
              "2013-01-03                      0.320000                      0.379747   \n",
              "2013-01-04                      0.262857                      0.316456   \n",
              "2013-01-05                      0.320000                      0.291139   \n",
              "2013-01-06                      0.302857                      0.291139   \n",
              "...                                  ...                           ...   \n",
              "2016-12-27                      0.308571                      0.341772   \n",
              "2016-12-28                      0.365714                      0.462025   \n",
              "2016-12-29                      0.405714                      0.360759   \n",
              "2016-12-30                      0.485714                      0.411392   \n",
              "2016-12-31                      0.428571                      0.411392   \n",
              "\n",
              "            item_10_store_4_sales_past_1  item_10_store_5_sales_past_1  \\\n",
              "date                                                                     \n",
              "2013-01-02                      0.194805                      0.269565   \n",
              "2013-01-03                      0.188312                      0.243478   \n",
              "2013-01-04                      0.240260                      0.200000   \n",
              "2013-01-05                      0.292208                      0.278261   \n",
              "2013-01-06                      0.337662                      0.260870   \n",
              "...                                  ...                           ...   \n",
              "2016-12-27                      0.331169                      0.234783   \n",
              "2016-12-28                      0.344156                      0.339130   \n",
              "2016-12-29                      0.448052                      0.365217   \n",
              "2016-12-30                      0.415584                      0.400000   \n",
              "2016-12-31                      0.467532                      0.382609   \n",
              "\n",
              "            item_10_store_6_sales_past_1  item_10_store_7_sales_past_1  \\\n",
              "date                                                                     \n",
              "2013-01-02                      0.252174                          0.25   \n",
              "2013-01-03                      0.226087                          0.27   \n",
              "2013-01-04                      0.295652                          0.26   \n",
              "2013-01-05                      0.365217                          0.37   \n",
              "2013-01-06                      0.391304                          0.31   \n",
              "...                                  ...                           ...   \n",
              "2016-12-27                      0.278261                          0.36   \n",
              "2016-12-28                      0.278261                          0.40   \n",
              "2016-12-29                      0.321739                          0.33   \n",
              "2016-12-30                      0.382609                          0.47   \n",
              "2016-12-31                      0.478261                          0.50   \n",
              "\n",
              "            item_10_store_8_sales_past_1  item_10_store_9_sales_past_1  ...  \\\n",
              "date                                                                    ...   \n",
              "2013-01-02                      0.270115                      0.304054  ...   \n",
              "2013-01-03                      0.258621                      0.283784  ...   \n",
              "2013-01-04                      0.264368                      0.277027  ...   \n",
              "2013-01-05                      0.356322                      0.310811  ...   \n",
              "2013-01-06                      0.293103                      0.351351  ...   \n",
              "...                                  ...                           ...  ...   \n",
              "2016-12-27                      0.425287                      0.358108  ...   \n",
              "2016-12-28                      0.471264                      0.304054  ...   \n",
              "2016-12-29                      0.431034                      0.391892  ...   \n",
              "2016-12-30                      0.390805                      0.405405  ...   \n",
              "2016-12-31                      0.442529                      0.297297  ...   \n",
              "\n",
              "            month_3  month_4  month_5  month_6  month_7  month_8  month_9  \\\n",
              "date                                                                        \n",
              "2013-01-02        0        0        0        0        0        0        0   \n",
              "2013-01-03        0        0        0        0        0        0        0   \n",
              "2013-01-04        0        0        0        0        0        0        0   \n",
              "2013-01-05        0        0        0        0        0        0        0   \n",
              "2013-01-06        0        0        0        0        0        0        0   \n",
              "...             ...      ...      ...      ...      ...      ...      ...   \n",
              "2016-12-27        0        0        0        0        0        0        0   \n",
              "2016-12-28        0        0        0        0        0        0        0   \n",
              "2016-12-29        0        0        0        0        0        0        0   \n",
              "2016-12-30        0        0        0        0        0        0        0   \n",
              "2016-12-31        0        0        0        0        0        0        0   \n",
              "\n",
              "            month_10  month_11  month_12  \n",
              "date                                      \n",
              "2013-01-02         0         0         0  \n",
              "2013-01-03         0         0         0  \n",
              "2013-01-04         0         0         0  \n",
              "2013-01-05         0         0         0  \n",
              "2013-01-06         0         0         0  \n",
              "...              ...       ...       ...  \n",
              "2016-12-27         0         0         1  \n",
              "2016-12-28         0         0         1  \n",
              "2016-12-29         0         0         1  \n",
              "2016-12-30         0         0         1  \n",
              "2016-12-31         0         0         1  \n",
              "\n",
              "[1460 rows x 519 columns]"
            ]
          },
          "execution_count": 33,
          "metadata": {},
          "output_type": "execute_result"
        }
      ],
      "source": [
        "X_train"
      ]
    },
    {
      "cell_type": "code",
      "execution_count": null,
      "metadata": {
        "id": "Ycoae-EESPzG"
      },
      "outputs": [],
      "source": [
        "data = tf.cast(X_train,tf.float32)\n",
        "targets = tf.cast(y_train,tf.float32)"
      ]
    },
    {
      "cell_type": "code",
      "execution_count": null,
      "metadata": {
        "id": "KXzavWIYUX6a"
      },
      "outputs": [],
      "source": [
        "sample_length = 24\n",
        "input_dataset = tf.keras.utils.timeseries_dataset_from_array(data,None, sequence_length=sample_length,batch_size=256, sequence_stride=sample_length)\n",
        "target_dataset = tf.keras.utils.timeseries_dataset_from_array(targets, None, sequence_length=6,batch_size=256, sequence_stride=sample_length)"
      ]
    },
    {
      "cell_type": "code",
      "execution_count": null,
      "metadata": {
        "colab": {
          "base_uri": "https://localhost:8080/"
        },
        "id": "rKrWJv-KtC4J",
        "outputId": "fe383ba7-37fb-48fc-afde-84db3f7f1b94"
      },
      "outputs": [
        {
          "data": {
            "text/plain": [
              "<BatchDataset element_spec=TensorSpec(shape=(None, None, 519), dtype=tf.float32, name=None)>"
            ]
          },
          "execution_count": 36,
          "metadata": {},
          "output_type": "execute_result"
        }
      ],
      "source": [
        "input_dataset"
      ]
    },
    {
      "cell_type": "code",
      "execution_count": null,
      "metadata": {
        "colab": {
          "base_uri": "https://localhost:8080/"
        },
        "id": "njBiCQk5u91H",
        "outputId": "fb703767-ae59-4df3-8534-ca1f1ee68398"
      },
      "outputs": [
        {
          "name": "stdout",
          "output_type": "stream",
          "text": [
            "<BatchDataset element_spec=TensorSpec(shape=(None, None, 519), dtype=tf.float32, name=None)>\n"
          ]
        }
      ],
      "source": [
        "print(input_dataset)"
      ]
    },
    {
      "cell_type": "code",
      "execution_count": null,
      "metadata": {
        "colab": {
          "base_uri": "https://localhost:8080/"
        },
        "id": "Uw77GrQPtFdD",
        "outputId": "f3277f5a-ce35-4f67-875e-4b053fec9890"
      },
      "outputs": [
        {
          "data": {
            "text/plain": [
              "<BatchDataset element_spec=TensorSpec(shape=(None, None, 500), dtype=tf.float32, name=None)>"
            ]
          },
          "execution_count": 38,
          "metadata": {},
          "output_type": "execute_result"
        }
      ],
      "source": [
        "target_dataset"
      ]
    },
    {
      "cell_type": "markdown",
      "metadata": {
        "id": "KvI1wNjnqGq5"
      },
      "source": [
        "## Time2Vector"
      ]
    },
    {
      "cell_type": "code",
      "execution_count": null,
      "metadata": {
        "id": "cnO4QgjXpOkT"
      },
      "outputs": [],
      "source": [
        "class Time2Vector(tf.keras.layers.Layer):\n",
        "  def __init__(self, seq_len, **kwargs):\n",
        "    super(Time2Vector, self).__init__()\n",
        "    self.seq_len = seq_len\n",
        "\n",
        "  def build(self, input_shape):\n",
        "    self.weights_linear = self.add_weight(name='weight_linear',\n",
        "                                shape=(int(self.seq_len),),\n",
        "                                initializer='uniform',\n",
        "                                trainable=True)\n",
        "    \n",
        "    self.bias_linear = self.add_weight(name='bias_linear',\n",
        "                                shape=(int(self.seq_len),),\n",
        "                                initializer='uniform',\n",
        "                                trainable=True)\n",
        "    \n",
        "    self.weights_periodic = self.add_weight(name='weight_periodic',\n",
        "                                shape=(int(self.seq_len),),\n",
        "                                initializer='uniform',\n",
        "                                trainable=True)\n",
        "\n",
        "    self.bias_periodic = self.add_weight(name='bias_periodic',\n",
        "                                shape=(int(self.seq_len),),\n",
        "                                initializer='uniform',\n",
        "                                trainable=True)\n",
        "\n",
        "  def call(self, x):\n",
        "    x = tf.math.reduce_mean(x[:,:,:(np.shape(x)[1])], axis=-1) # Convert (batch, seq_len, n) to (batch, seq_len)\n",
        "    time_linear = self.weights_linear * x + self.bias_linear\n",
        "    time_linear = tf.expand_dims(time_linear, axis=-1) # (batch, seq_len, 1)\n",
        "    \n",
        "    time_periodic = tf.math.sin(tf.multiply(x, self.weights_periodic) + self.bias_periodic)\n",
        "    time_periodic = tf.expand_dims(time_periodic, axis=-1) # (batch, seq_len, 1)\n",
        "    return tf.concat([time_linear, time_periodic], axis=-1) # (batch, seq_len, 2)\n",
        "\n",
        "  def get_config(self): # Needed for saving and loading model with custom layer\n",
        "    config = super().get_config().copy()\n",
        "    config.update({'seq_len': self.seq_len})\n",
        "    return config"
      ]
    },
    {
      "cell_type": "markdown",
      "metadata": {
        "id": "uD7ek_lO8a7h"
      },
      "source": [
        "# Features New"
      ]
    },
    {
      "cell_type": "code",
      "execution_count": null,
      "metadata": {
        "colab": {
          "base_uri": "https://localhost:8080/",
          "height": 17
        },
        "id": "U5yFJ6ew9nPF",
        "outputId": "d6ec2f75-2ead-426e-9d1e-525f0b94f7b4"
      },
      "outputs": [
        {
          "data": {
            "text/html": [
              "        <script type=\"text/javascript\">\n",
              "        window.PlotlyConfig = {MathJaxConfig: 'local'};\n",
              "        if (window.MathJax) {MathJax.Hub.Config({SVG: {font: \"STIX-Web\"}});}\n",
              "        if (typeof require !== 'undefined') {\n",
              "        require.undef(\"plotly\");\n",
              "        requirejs.config({\n",
              "            paths: {\n",
              "                'plotly': ['https://cdn.plot.ly/plotly-2.8.3.min']\n",
              "            }\n",
              "        });\n",
              "        require(['plotly'], function(Plotly) {\n",
              "            window._Plotly = Plotly;\n",
              "        });\n",
              "        }\n",
              "        </script>\n",
              "        "
            ]
          },
          "metadata": {},
          "output_type": "display_data"
        }
      ],
      "source": [
        "import warnings\n",
        "import numpy as np\n",
        "import pandas as pd\n",
        "import matplotlib.pyplot as plt\n",
        "from keras import optimizers\n",
        "from keras.models import Sequential, Model\n",
        "from keras.layers.convolutional import Conv1D, MaxPooling1D\n",
        "from keras.layers import Dense, LSTM, RepeatVector, TimeDistributed, Flatten\n",
        "from sklearn.metrics import mean_squared_error\n",
        "from sklearn.model_selection import train_test_split\n",
        "import plotly.graph_objs as go\n",
        "from plotly.offline import init_notebook_mode, iplot\n",
        "\n",
        "%matplotlib inline\n",
        "warnings.filterwarnings(\"ignore\")\n",
        "init_notebook_mode(connected=True)"
      ]
    },
    {
      "cell_type": "markdown",
      "metadata": {
        "id": "Y44cV2wasmYK"
      },
      "source": [
        "![image.png](data:image/png;base64,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)"
      ]
    },
    {
      "cell_type": "code",
      "execution_count": null,
      "metadata": {
        "id": "r3KJxp0L8f77"
      },
      "outputs": [],
      "source": [
        "lag_size = (test['date'].max().date() - train['date'].max().date()).days"
      ]
    },
    {
      "cell_type": "code",
      "execution_count": null,
      "metadata": {
        "id": "2H3Aq0vl9M46"
      },
      "outputs": [],
      "source": [
        "daily_sales = train.groupby('date', as_index=False)['sales'].sum()\n",
        "store_daily_sales = train.groupby(['store', 'date'], as_index=False)['sales'].sum()\n",
        "item_daily_sales = train.groupby(['item', 'date'], as_index=False)['sales'].sum()"
      ]
    },
    {
      "cell_type": "code",
      "execution_count": null,
      "metadata": {
        "id": "6s22UmR99PbU"
      },
      "outputs": [],
      "source": [
        "store_daily_sales_sc = []\n",
        "for store in store_daily_sales['store'].unique():\n",
        "    current_store_daily_sales = store_daily_sales[(store_daily_sales['store'] == store)]"
      ]
    },
    {
      "cell_type": "code",
      "execution_count": null,
      "metadata": {
        "id": "W103dhws-kHv"
      },
      "outputs": [],
      "source": [
        "item_daily_sales_sc = []\n",
        "for item in item_daily_sales['item'].unique():\n",
        "    current_item_daily_sales = item_daily_sales[(item_daily_sales['item'] == item)]"
      ]
    },
    {
      "cell_type": "code",
      "execution_count": null,
      "metadata": {
        "id": "0vfZqQ7B-n0l"
      },
      "outputs": [],
      "source": [
        "train = train[(train['date'] >= '2017-01-01')]"
      ]
    },
    {
      "cell_type": "code",
      "execution_count": null,
      "metadata": {
        "colab": {
          "base_uri": "https://localhost:8080/",
          "height": 206
        },
        "id": "4_zPMsWG-q8D",
        "outputId": "8f1da557-f9c9-49bf-8918-a12cd99416df"
      },
      "outputs": [
        {
          "data": {
            "text/html": [
              "\n",
              "  <div id=\"df-44fff953-71a3-4580-8df7-eaba18ccc1cd\">\n",
              "    <div class=\"colab-df-container\">\n",
              "      <div>\n",
              "<style scoped>\n",
              "    .dataframe tbody tr th:only-of-type {\n",
              "        vertical-align: middle;\n",
              "    }\n",
              "\n",
              "    .dataframe tbody tr th {\n",
              "        vertical-align: top;\n",
              "    }\n",
              "\n",
              "    .dataframe thead th {\n",
              "        text-align: right;\n",
              "    }\n",
              "</style>\n",
              "<table border=\"1\" class=\"dataframe\">\n",
              "  <thead>\n",
              "    <tr style=\"text-align: right;\">\n",
              "      <th></th>\n",
              "      <th>item</th>\n",
              "      <th>store</th>\n",
              "      <th>date</th>\n",
              "      <th>sales</th>\n",
              "    </tr>\n",
              "  </thead>\n",
              "  <tbody>\n",
              "    <tr>\n",
              "      <th>0</th>\n",
              "      <td>1</td>\n",
              "      <td>1</td>\n",
              "      <td>2017-01-01</td>\n",
              "      <td>19.0</td>\n",
              "    </tr>\n",
              "    <tr>\n",
              "      <th>1</th>\n",
              "      <td>1</td>\n",
              "      <td>1</td>\n",
              "      <td>2017-01-02</td>\n",
              "      <td>15.0</td>\n",
              "    </tr>\n",
              "    <tr>\n",
              "      <th>2</th>\n",
              "      <td>1</td>\n",
              "      <td>1</td>\n",
              "      <td>2017-01-03</td>\n",
              "      <td>10.0</td>\n",
              "    </tr>\n",
              "    <tr>\n",
              "      <th>3</th>\n",
              "      <td>1</td>\n",
              "      <td>1</td>\n",
              "      <td>2017-01-04</td>\n",
              "      <td>16.0</td>\n",
              "    </tr>\n",
              "    <tr>\n",
              "      <th>4</th>\n",
              "      <td>1</td>\n",
              "      <td>1</td>\n",
              "      <td>2017-01-05</td>\n",
              "      <td>14.0</td>\n",
              "    </tr>\n",
              "  </tbody>\n",
              "</table>\n",
              "</div>\n",
              "      <button class=\"colab-df-convert\" onclick=\"convertToInteractive('df-44fff953-71a3-4580-8df7-eaba18ccc1cd')\"\n",
              "              title=\"Convert this dataframe to an interactive table.\"\n",
              "              style=\"display:none;\">\n",
              "        \n",
              "  <svg xmlns=\"http://www.w3.org/2000/svg\" height=\"24px\"viewBox=\"0 0 24 24\"\n",
              "       width=\"24px\">\n",
              "    <path d=\"M0 0h24v24H0V0z\" fill=\"none\"/>\n",
              "    <path d=\"M18.56 5.44l.94 2.06.94-2.06 2.06-.94-2.06-.94-.94-2.06-.94 2.06-2.06.94zm-11 1L8.5 8.5l.94-2.06 2.06-.94-2.06-.94L8.5 2.5l-.94 2.06-2.06.94zm10 10l.94 2.06.94-2.06 2.06-.94-2.06-.94-.94-2.06-.94 2.06-2.06.94z\"/><path d=\"M17.41 7.96l-1.37-1.37c-.4-.4-.92-.59-1.43-.59-.52 0-1.04.2-1.43.59L10.3 9.45l-7.72 7.72c-.78.78-.78 2.05 0 2.83L4 21.41c.39.39.9.59 1.41.59.51 0 1.02-.2 1.41-.59l7.78-7.78 2.81-2.81c.8-.78.8-2.07 0-2.86zM5.41 20L4 18.59l7.72-7.72 1.47 1.35L5.41 20z\"/>\n",
              "  </svg>\n",
              "      </button>\n",
              "      \n",
              "  <style>\n",
              "    .colab-df-container {\n",
              "      display:flex;\n",
              "      flex-wrap:wrap;\n",
              "      gap: 12px;\n",
              "    }\n",
              "\n",
              "    .colab-df-convert {\n",
              "      background-color: #E8F0FE;\n",
              "      border: none;\n",
              "      border-radius: 50%;\n",
              "      cursor: pointer;\n",
              "      display: none;\n",
              "      fill: #1967D2;\n",
              "      height: 32px;\n",
              "      padding: 0 0 0 0;\n",
              "      width: 32px;\n",
              "    }\n",
              "\n",
              "    .colab-df-convert:hover {\n",
              "      background-color: #E2EBFA;\n",
              "      box-shadow: 0px 1px 2px rgba(60, 64, 67, 0.3), 0px 1px 3px 1px rgba(60, 64, 67, 0.15);\n",
              "      fill: #174EA6;\n",
              "    }\n",
              "\n",
              "    [theme=dark] .colab-df-convert {\n",
              "      background-color: #3B4455;\n",
              "      fill: #D2E3FC;\n",
              "    }\n",
              "\n",
              "    [theme=dark] .colab-df-convert:hover {\n",
              "      background-color: #434B5C;\n",
              "      box-shadow: 0px 1px 3px 1px rgba(0, 0, 0, 0.15);\n",
              "      filter: drop-shadow(0px 1px 2px rgba(0, 0, 0, 0.3));\n",
              "      fill: #FFFFFF;\n",
              "    }\n",
              "  </style>\n",
              "\n",
              "      <script>\n",
              "        const buttonEl =\n",
              "          document.querySelector('#df-44fff953-71a3-4580-8df7-eaba18ccc1cd button.colab-df-convert');\n",
              "        buttonEl.style.display =\n",
              "          google.colab.kernel.accessAllowed ? 'block' : 'none';\n",
              "\n",
              "        async function convertToInteractive(key) {\n",
              "          const element = document.querySelector('#df-44fff953-71a3-4580-8df7-eaba18ccc1cd');\n",
              "          const dataTable =\n",
              "            await google.colab.kernel.invokeFunction('convertToInteractive',\n",
              "                                                     [key], {});\n",
              "          if (!dataTable) return;\n",
              "\n",
              "          const docLinkHtml = 'Like what you see? Visit the ' +\n",
              "            '<a target=\"_blank\" href=https://colab.research.google.com/notebooks/data_table.ipynb>data table notebook</a>'\n",
              "            + ' to learn more about interactive tables.';\n",
              "          element.innerHTML = '';\n",
              "          dataTable['output_type'] = 'display_data';\n",
              "          await google.colab.output.renderOutput(dataTable, element);\n",
              "          const docLink = document.createElement('div');\n",
              "          docLink.innerHTML = docLinkHtml;\n",
              "          element.appendChild(docLink);\n",
              "        }\n",
              "      </script>\n",
              "    </div>\n",
              "  </div>\n",
              "  "
            ],
            "text/plain": [
              "   item  store       date  sales\n",
              "0     1      1 2017-01-01   19.0\n",
              "1     1      1 2017-01-02   15.0\n",
              "2     1      1 2017-01-03   10.0\n",
              "3     1      1 2017-01-04   16.0\n",
              "4     1      1 2017-01-05   14.0"
            ]
          },
          "execution_count": 20,
          "metadata": {},
          "output_type": "execute_result"
        }
      ],
      "source": [
        "train_gp = train.sort_values('date').groupby(['item', 'store', 'date'], as_index=False)\n",
        "train_gp = train_gp.agg({'sales':['mean']})\n",
        "train_gp.columns = ['item', 'store', 'date', 'sales']\n",
        "train_gp.head()"
      ]
    },
    {
      "cell_type": "code",
      "execution_count": null,
      "metadata": {
        "id": "4nZA5VVkAL6k"
      },
      "outputs": [],
      "source": [
        "def series_to_supervised(data, window=1, lag=1, dropnan=True):\n",
        "    cols, names = list(), list()\n",
        "    # Input sequence (t-n, ... t-1)\n",
        "    for i in range(window, 0, -1):\n",
        "        cols.append(data.shift(i))\n",
        "        names += [('%s(t-%d)' % (col, i)) for col in data.columns]\n",
        "    # Current timestep (t=0)\n",
        "    cols.append(data)\n",
        "    names += [('%s(t)' % (col)) for col in data.columns]\n",
        "    # Target timestep (t=lag)\n",
        "    cols.append(data.shift(-lag))\n",
        "    names += [('%s(t+%d)' % (col, lag)) for col in data.columns]\n",
        "    # Put it all together\n",
        "    agg = pd.concat(cols, axis=1)\n",
        "    agg.columns = names\n",
        "    # Drop rows with NaN values\n",
        "    if dropnan:\n",
        "        agg.dropna(inplace=True)\n",
        "    return agg"
      ]
    },
    {
      "cell_type": "code",
      "execution_count": null,
      "metadata": {
        "colab": {
          "base_uri": "https://localhost:8080/",
          "height": 317
        },
        "id": "XkMMXNvCJLVC",
        "outputId": "9c0ee9a2-3fa4-44d0-dd40-3d61afe26f56"
      },
      "outputs": [
        {
          "data": {
            "text/html": [
              "\n",
              "  <div id=\"df-1896d7da-4e8d-4021-a0e7-5b6ebf6978dd\">\n",
              "    <div class=\"colab-df-container\">\n",
              "      <div>\n",
              "<style scoped>\n",
              "    .dataframe tbody tr th:only-of-type {\n",
              "        vertical-align: middle;\n",
              "    }\n",
              "\n",
              "    .dataframe tbody tr th {\n",
              "        vertical-align: top;\n",
              "    }\n",
              "\n",
              "    .dataframe thead th {\n",
              "        text-align: right;\n",
              "    }\n",
              "</style>\n",
              "<table border=\"1\" class=\"dataframe\">\n",
              "  <thead>\n",
              "    <tr style=\"text-align: right;\">\n",
              "      <th></th>\n",
              "      <th>item(t-127)</th>\n",
              "      <th>store(t-127)</th>\n",
              "      <th>sales(t-127)</th>\n",
              "      <th>item(t-126)</th>\n",
              "      <th>store(t-126)</th>\n",
              "      <th>sales(t-126)</th>\n",
              "      <th>item(t-125)</th>\n",
              "      <th>store(t-125)</th>\n",
              "      <th>sales(t-125)</th>\n",
              "      <th>item(t-124)</th>\n",
              "      <th>...</th>\n",
              "      <th>sales(t-2)</th>\n",
              "      <th>item(t-1)</th>\n",
              "      <th>store(t-1)</th>\n",
              "      <th>sales(t-1)</th>\n",
              "      <th>item(t)</th>\n",
              "      <th>store(t)</th>\n",
              "      <th>sales(t)</th>\n",
              "      <th>item(t+90)</th>\n",
              "      <th>store(t+90)</th>\n",
              "      <th>sales(t+90)</th>\n",
              "    </tr>\n",
              "  </thead>\n",
              "  <tbody>\n",
              "    <tr>\n",
              "      <th>127</th>\n",
              "      <td>1.0</td>\n",
              "      <td>1.0</td>\n",
              "      <td>19.0</td>\n",
              "      <td>1.0</td>\n",
              "      <td>1.0</td>\n",
              "      <td>15.0</td>\n",
              "      <td>1.0</td>\n",
              "      <td>1.0</td>\n",
              "      <td>10.0</td>\n",
              "      <td>1.0</td>\n",
              "      <td>...</td>\n",
              "      <td>34.0</td>\n",
              "      <td>1.0</td>\n",
              "      <td>1.0</td>\n",
              "      <td>31.0</td>\n",
              "      <td>1</td>\n",
              "      <td>1</td>\n",
              "      <td>24.0</td>\n",
              "      <td>1.0</td>\n",
              "      <td>1.0</td>\n",
              "      <td>29.0</td>\n",
              "    </tr>\n",
              "    <tr>\n",
              "      <th>128</th>\n",
              "      <td>1.0</td>\n",
              "      <td>1.0</td>\n",
              "      <td>15.0</td>\n",
              "      <td>1.0</td>\n",
              "      <td>1.0</td>\n",
              "      <td>10.0</td>\n",
              "      <td>1.0</td>\n",
              "      <td>1.0</td>\n",
              "      <td>16.0</td>\n",
              "      <td>1.0</td>\n",
              "      <td>...</td>\n",
              "      <td>31.0</td>\n",
              "      <td>1.0</td>\n",
              "      <td>1.0</td>\n",
              "      <td>24.0</td>\n",
              "      <td>1</td>\n",
              "      <td>1</td>\n",
              "      <td>32.0</td>\n",
              "      <td>1.0</td>\n",
              "      <td>1.0</td>\n",
              "      <td>20.0</td>\n",
              "    </tr>\n",
              "    <tr>\n",
              "      <th>129</th>\n",
              "      <td>1.0</td>\n",
              "      <td>1.0</td>\n",
              "      <td>10.0</td>\n",
              "      <td>1.0</td>\n",
              "      <td>1.0</td>\n",
              "      <td>16.0</td>\n",
              "      <td>1.0</td>\n",
              "      <td>1.0</td>\n",
              "      <td>14.0</td>\n",
              "      <td>1.0</td>\n",
              "      <td>...</td>\n",
              "      <td>24.0</td>\n",
              "      <td>1.0</td>\n",
              "      <td>1.0</td>\n",
              "      <td>32.0</td>\n",
              "      <td>1</td>\n",
              "      <td>1</td>\n",
              "      <td>17.0</td>\n",
              "      <td>1.0</td>\n",
              "      <td>1.0</td>\n",
              "      <td>28.0</td>\n",
              "    </tr>\n",
              "    <tr>\n",
              "      <th>130</th>\n",
              "      <td>1.0</td>\n",
              "      <td>1.0</td>\n",
              "      <td>16.0</td>\n",
              "      <td>1.0</td>\n",
              "      <td>1.0</td>\n",
              "      <td>14.0</td>\n",
              "      <td>1.0</td>\n",
              "      <td>1.0</td>\n",
              "      <td>24.0</td>\n",
              "      <td>1.0</td>\n",
              "      <td>...</td>\n",
              "      <td>32.0</td>\n",
              "      <td>1.0</td>\n",
              "      <td>1.0</td>\n",
              "      <td>17.0</td>\n",
              "      <td>1</td>\n",
              "      <td>1</td>\n",
              "      <td>18.0</td>\n",
              "      <td>1.0</td>\n",
              "      <td>1.0</td>\n",
              "      <td>28.0</td>\n",
              "    </tr>\n",
              "    <tr>\n",
              "      <th>131</th>\n",
              "      <td>1.0</td>\n",
              "      <td>1.0</td>\n",
              "      <td>14.0</td>\n",
              "      <td>1.0</td>\n",
              "      <td>1.0</td>\n",
              "      <td>24.0</td>\n",
              "      <td>1.0</td>\n",
              "      <td>1.0</td>\n",
              "      <td>14.0</td>\n",
              "      <td>1.0</td>\n",
              "      <td>...</td>\n",
              "      <td>17.0</td>\n",
              "      <td>1.0</td>\n",
              "      <td>1.0</td>\n",
              "      <td>18.0</td>\n",
              "      <td>1</td>\n",
              "      <td>1</td>\n",
              "      <td>26.0</td>\n",
              "      <td>1.0</td>\n",
              "      <td>1.0</td>\n",
              "      <td>31.0</td>\n",
              "    </tr>\n",
              "  </tbody>\n",
              "</table>\n",
              "<p>5 rows × 387 columns</p>\n",
              "</div>\n",
              "      <button class=\"colab-df-convert\" onclick=\"convertToInteractive('df-1896d7da-4e8d-4021-a0e7-5b6ebf6978dd')\"\n",
              "              title=\"Convert this dataframe to an interactive table.\"\n",
              "              style=\"display:none;\">\n",
              "        \n",
              "  <svg xmlns=\"http://www.w3.org/2000/svg\" height=\"24px\"viewBox=\"0 0 24 24\"\n",
              "       width=\"24px\">\n",
              "    <path d=\"M0 0h24v24H0V0z\" fill=\"none\"/>\n",
              "    <path d=\"M18.56 5.44l.94 2.06.94-2.06 2.06-.94-2.06-.94-.94-2.06-.94 2.06-2.06.94zm-11 1L8.5 8.5l.94-2.06 2.06-.94-2.06-.94L8.5 2.5l-.94 2.06-2.06.94zm10 10l.94 2.06.94-2.06 2.06-.94-2.06-.94-.94-2.06-.94 2.06-2.06.94z\"/><path d=\"M17.41 7.96l-1.37-1.37c-.4-.4-.92-.59-1.43-.59-.52 0-1.04.2-1.43.59L10.3 9.45l-7.72 7.72c-.78.78-.78 2.05 0 2.83L4 21.41c.39.39.9.59 1.41.59.51 0 1.02-.2 1.41-.59l7.78-7.78 2.81-2.81c.8-.78.8-2.07 0-2.86zM5.41 20L4 18.59l7.72-7.72 1.47 1.35L5.41 20z\"/>\n",
              "  </svg>\n",
              "      </button>\n",
              "      \n",
              "  <style>\n",
              "    .colab-df-container {\n",
              "      display:flex;\n",
              "      flex-wrap:wrap;\n",
              "      gap: 12px;\n",
              "    }\n",
              "\n",
              "    .colab-df-convert {\n",
              "      background-color: #E8F0FE;\n",
              "      border: none;\n",
              "      border-radius: 50%;\n",
              "      cursor: pointer;\n",
              "      display: none;\n",
              "      fill: #1967D2;\n",
              "      height: 32px;\n",
              "      padding: 0 0 0 0;\n",
              "      width: 32px;\n",
              "    }\n",
              "\n",
              "    .colab-df-convert:hover {\n",
              "      background-color: #E2EBFA;\n",
              "      box-shadow: 0px 1px 2px rgba(60, 64, 67, 0.3), 0px 1px 3px 1px rgba(60, 64, 67, 0.15);\n",
              "      fill: #174EA6;\n",
              "    }\n",
              "\n",
              "    [theme=dark] .colab-df-convert {\n",
              "      background-color: #3B4455;\n",
              "      fill: #D2E3FC;\n",
              "    }\n",
              "\n",
              "    [theme=dark] .colab-df-convert:hover {\n",
              "      background-color: #434B5C;\n",
              "      box-shadow: 0px 1px 3px 1px rgba(0, 0, 0, 0.15);\n",
              "      filter: drop-shadow(0px 1px 2px rgba(0, 0, 0, 0.3));\n",
              "      fill: #FFFFFF;\n",
              "    }\n",
              "  </style>\n",
              "\n",
              "      <script>\n",
              "        const buttonEl =\n",
              "          document.querySelector('#df-1896d7da-4e8d-4021-a0e7-5b6ebf6978dd button.colab-df-convert');\n",
              "        buttonEl.style.display =\n",
              "          google.colab.kernel.accessAllowed ? 'block' : 'none';\n",
              "\n",
              "        async function convertToInteractive(key) {\n",
              "          const element = document.querySelector('#df-1896d7da-4e8d-4021-a0e7-5b6ebf6978dd');\n",
              "          const dataTable =\n",
              "            await google.colab.kernel.invokeFunction('convertToInteractive',\n",
              "                                                     [key], {});\n",
              "          if (!dataTable) return;\n",
              "\n",
              "          const docLinkHtml = 'Like what you see? Visit the ' +\n",
              "            '<a target=\"_blank\" href=https://colab.research.google.com/notebooks/data_table.ipynb>data table notebook</a>'\n",
              "            + ' to learn more about interactive tables.';\n",
              "          element.innerHTML = '';\n",
              "          dataTable['output_type'] = 'display_data';\n",
              "          await google.colab.output.renderOutput(dataTable, element);\n",
              "          const docLink = document.createElement('div');\n",
              "          docLink.innerHTML = docLinkHtml;\n",
              "          element.appendChild(docLink);\n",
              "        }\n",
              "      </script>\n",
              "    </div>\n",
              "  </div>\n",
              "  "
            ],
            "text/plain": [
              "     item(t-127)  store(t-127)  sales(t-127)  item(t-126)  store(t-126)  \\\n",
              "127          1.0           1.0          19.0          1.0           1.0   \n",
              "128          1.0           1.0          15.0          1.0           1.0   \n",
              "129          1.0           1.0          10.0          1.0           1.0   \n",
              "130          1.0           1.0          16.0          1.0           1.0   \n",
              "131          1.0           1.0          14.0          1.0           1.0   \n",
              "\n",
              "     sales(t-126)  item(t-125)  store(t-125)  sales(t-125)  item(t-124)  ...  \\\n",
              "127          15.0          1.0           1.0          10.0          1.0  ...   \n",
              "128          10.0          1.0           1.0          16.0          1.0  ...   \n",
              "129          16.0          1.0           1.0          14.0          1.0  ...   \n",
              "130          14.0          1.0           1.0          24.0          1.0  ...   \n",
              "131          24.0          1.0           1.0          14.0          1.0  ...   \n",
              "\n",
              "     sales(t-2)  item(t-1)  store(t-1)  sales(t-1)  item(t)  store(t)  \\\n",
              "127        34.0        1.0         1.0        31.0        1         1   \n",
              "128        31.0        1.0         1.0        24.0        1         1   \n",
              "129        24.0        1.0         1.0        32.0        1         1   \n",
              "130        32.0        1.0         1.0        17.0        1         1   \n",
              "131        17.0        1.0         1.0        18.0        1         1   \n",
              "\n",
              "     sales(t)  item(t+90)  store(t+90)  sales(t+90)  \n",
              "127      24.0         1.0          1.0         29.0  \n",
              "128      32.0         1.0          1.0         20.0  \n",
              "129      17.0         1.0          1.0         28.0  \n",
              "130      18.0         1.0          1.0         28.0  \n",
              "131      26.0         1.0          1.0         31.0  \n",
              "\n",
              "[5 rows x 387 columns]"
            ]
          },
          "execution_count": 22,
          "metadata": {},
          "output_type": "execute_result"
        }
      ],
      "source": [
        "window = 127\n",
        "lag = lag_size\n",
        "series = series_to_supervised(train_gp.drop('date', axis=1), window=window, lag=lag)\n",
        "series.head()"
      ]
    },
    {
      "cell_type": "code",
      "execution_count": null,
      "metadata": {
        "id": "mkKK5E5J2xR1"
      },
      "outputs": [],
      "source": [
        "from sklearn.preprocessing import MinMaxScaler\n",
        "from sklearn.model_selection import train_test_split"
      ]
    },
    {
      "cell_type": "code",
      "execution_count": null,
      "metadata": {
        "id": "pYBxq-um7arg"
      },
      "outputs": [],
      "source": [
        "scaler = MinMaxScaler(feature_range=(0,1))\n",
        "cols_to_scale = [col for col in series.columns if 'weekday' not in col and 'month' not in col]\n",
        "scaled_cols = scaler.fit_transform(series[cols_to_scale])\n",
        "series[cols_to_scale] = scaled_cols"
      ]
    },
    {
      "cell_type": "code",
      "execution_count": null,
      "metadata": {
        "colab": {
          "base_uri": "https://localhost:8080/",
          "height": 317
        },
        "id": "JTEra_tk2YQE",
        "outputId": "59c477ba-201a-495d-8505-72f193a36627"
      },
      "outputs": [
        {
          "data": {
            "text/html": [
              "\n",
              "  <div id=\"df-2bdece47-c9cc-4bff-b942-ed7da87db619\">\n",
              "    <div class=\"colab-df-container\">\n",
              "      <div>\n",
              "<style scoped>\n",
              "    .dataframe tbody tr th:only-of-type {\n",
              "        vertical-align: middle;\n",
              "    }\n",
              "\n",
              "    .dataframe tbody tr th {\n",
              "        vertical-align: top;\n",
              "    }\n",
              "\n",
              "    .dataframe thead th {\n",
              "        text-align: right;\n",
              "    }\n",
              "</style>\n",
              "<table border=\"1\" class=\"dataframe\">\n",
              "  <thead>\n",
              "    <tr style=\"text-align: right;\">\n",
              "      <th></th>\n",
              "      <th>item(t-127)</th>\n",
              "      <th>store(t-127)</th>\n",
              "      <th>sales(t-127)</th>\n",
              "      <th>item(t-126)</th>\n",
              "      <th>store(t-126)</th>\n",
              "      <th>sales(t-126)</th>\n",
              "      <th>item(t-125)</th>\n",
              "      <th>store(t-125)</th>\n",
              "      <th>sales(t-125)</th>\n",
              "      <th>item(t-124)</th>\n",
              "      <th>...</th>\n",
              "      <th>sales(t-2)</th>\n",
              "      <th>item(t-1)</th>\n",
              "      <th>store(t-1)</th>\n",
              "      <th>sales(t-1)</th>\n",
              "      <th>item(t)</th>\n",
              "      <th>store(t)</th>\n",
              "      <th>sales(t)</th>\n",
              "      <th>item(t+90)</th>\n",
              "      <th>store(t+90)</th>\n",
              "      <th>sales(t+90)</th>\n",
              "    </tr>\n",
              "  </thead>\n",
              "  <tbody>\n",
              "    <tr>\n",
              "      <th>182405</th>\n",
              "      <td>1.0</td>\n",
              "      <td>1.0</td>\n",
              "      <td>0.414847</td>\n",
              "      <td>1.0</td>\n",
              "      <td>1.0</td>\n",
              "      <td>0.375546</td>\n",
              "      <td>1.0</td>\n",
              "      <td>1.0</td>\n",
              "      <td>0.410480</td>\n",
              "      <td>1.0</td>\n",
              "      <td>...</td>\n",
              "      <td>0.336245</td>\n",
              "      <td>1.0</td>\n",
              "      <td>1.0</td>\n",
              "      <td>0.340611</td>\n",
              "      <td>1.0</td>\n",
              "      <td>1.0</td>\n",
              "      <td>0.349345</td>\n",
              "      <td>1.0</td>\n",
              "      <td>1.0</td>\n",
              "      <td>0.266376</td>\n",
              "    </tr>\n",
              "    <tr>\n",
              "      <th>182406</th>\n",
              "      <td>1.0</td>\n",
              "      <td>1.0</td>\n",
              "      <td>0.375546</td>\n",
              "      <td>1.0</td>\n",
              "      <td>1.0</td>\n",
              "      <td>0.410480</td>\n",
              "      <td>1.0</td>\n",
              "      <td>1.0</td>\n",
              "      <td>0.432314</td>\n",
              "      <td>1.0</td>\n",
              "      <td>...</td>\n",
              "      <td>0.340611</td>\n",
              "      <td>1.0</td>\n",
              "      <td>1.0</td>\n",
              "      <td>0.349345</td>\n",
              "      <td>1.0</td>\n",
              "      <td>1.0</td>\n",
              "      <td>0.384279</td>\n",
              "      <td>1.0</td>\n",
              "      <td>1.0</td>\n",
              "      <td>0.248908</td>\n",
              "    </tr>\n",
              "    <tr>\n",
              "      <th>182407</th>\n",
              "      <td>1.0</td>\n",
              "      <td>1.0</td>\n",
              "      <td>0.410480</td>\n",
              "      <td>1.0</td>\n",
              "      <td>1.0</td>\n",
              "      <td>0.432314</td>\n",
              "      <td>1.0</td>\n",
              "      <td>1.0</td>\n",
              "      <td>0.471616</td>\n",
              "      <td>1.0</td>\n",
              "      <td>...</td>\n",
              "      <td>0.349345</td>\n",
              "      <td>1.0</td>\n",
              "      <td>1.0</td>\n",
              "      <td>0.384279</td>\n",
              "      <td>1.0</td>\n",
              "      <td>1.0</td>\n",
              "      <td>0.441048</td>\n",
              "      <td>1.0</td>\n",
              "      <td>1.0</td>\n",
              "      <td>0.314410</td>\n",
              "    </tr>\n",
              "    <tr>\n",
              "      <th>182408</th>\n",
              "      <td>1.0</td>\n",
              "      <td>1.0</td>\n",
              "      <td>0.432314</td>\n",
              "      <td>1.0</td>\n",
              "      <td>1.0</td>\n",
              "      <td>0.471616</td>\n",
              "      <td>1.0</td>\n",
              "      <td>1.0</td>\n",
              "      <td>0.292576</td>\n",
              "      <td>1.0</td>\n",
              "      <td>...</td>\n",
              "      <td>0.384279</td>\n",
              "      <td>1.0</td>\n",
              "      <td>1.0</td>\n",
              "      <td>0.441048</td>\n",
              "      <td>1.0</td>\n",
              "      <td>1.0</td>\n",
              "      <td>0.423581</td>\n",
              "      <td>1.0</td>\n",
              "      <td>1.0</td>\n",
              "      <td>0.262009</td>\n",
              "    </tr>\n",
              "    <tr>\n",
              "      <th>182409</th>\n",
              "      <td>1.0</td>\n",
              "      <td>1.0</td>\n",
              "      <td>0.471616</td>\n",
              "      <td>1.0</td>\n",
              "      <td>1.0</td>\n",
              "      <td>0.292576</td>\n",
              "      <td>1.0</td>\n",
              "      <td>1.0</td>\n",
              "      <td>0.388646</td>\n",
              "      <td>1.0</td>\n",
              "      <td>...</td>\n",
              "      <td>0.441048</td>\n",
              "      <td>1.0</td>\n",
              "      <td>1.0</td>\n",
              "      <td>0.423581</td>\n",
              "      <td>1.0</td>\n",
              "      <td>1.0</td>\n",
              "      <td>0.301310</td>\n",
              "      <td>1.0</td>\n",
              "      <td>1.0</td>\n",
              "      <td>0.349345</td>\n",
              "    </tr>\n",
              "  </tbody>\n",
              "</table>\n",
              "<p>5 rows × 387 columns</p>\n",
              "</div>\n",
              "      <button class=\"colab-df-convert\" onclick=\"convertToInteractive('df-2bdece47-c9cc-4bff-b942-ed7da87db619')\"\n",
              "              title=\"Convert this dataframe to an interactive table.\"\n",
              "              style=\"display:none;\">\n",
              "        \n",
              "  <svg xmlns=\"http://www.w3.org/2000/svg\" height=\"24px\"viewBox=\"0 0 24 24\"\n",
              "       width=\"24px\">\n",
              "    <path d=\"M0 0h24v24H0V0z\" fill=\"none\"/>\n",
              "    <path d=\"M18.56 5.44l.94 2.06.94-2.06 2.06-.94-2.06-.94-.94-2.06-.94 2.06-2.06.94zm-11 1L8.5 8.5l.94-2.06 2.06-.94-2.06-.94L8.5 2.5l-.94 2.06-2.06.94zm10 10l.94 2.06.94-2.06 2.06-.94-2.06-.94-.94-2.06-.94 2.06-2.06.94z\"/><path d=\"M17.41 7.96l-1.37-1.37c-.4-.4-.92-.59-1.43-.59-.52 0-1.04.2-1.43.59L10.3 9.45l-7.72 7.72c-.78.78-.78 2.05 0 2.83L4 21.41c.39.39.9.59 1.41.59.51 0 1.02-.2 1.41-.59l7.78-7.78 2.81-2.81c.8-.78.8-2.07 0-2.86zM5.41 20L4 18.59l7.72-7.72 1.47 1.35L5.41 20z\"/>\n",
              "  </svg>\n",
              "      </button>\n",
              "      \n",
              "  <style>\n",
              "    .colab-df-container {\n",
              "      display:flex;\n",
              "      flex-wrap:wrap;\n",
              "      gap: 12px;\n",
              "    }\n",
              "\n",
              "    .colab-df-convert {\n",
              "      background-color: #E8F0FE;\n",
              "      border: none;\n",
              "      border-radius: 50%;\n",
              "      cursor: pointer;\n",
              "      display: none;\n",
              "      fill: #1967D2;\n",
              "      height: 32px;\n",
              "      padding: 0 0 0 0;\n",
              "      width: 32px;\n",
              "    }\n",
              "\n",
              "    .colab-df-convert:hover {\n",
              "      background-color: #E2EBFA;\n",
              "      box-shadow: 0px 1px 2px rgba(60, 64, 67, 0.3), 0px 1px 3px 1px rgba(60, 64, 67, 0.15);\n",
              "      fill: #174EA6;\n",
              "    }\n",
              "\n",
              "    [theme=dark] .colab-df-convert {\n",
              "      background-color: #3B4455;\n",
              "      fill: #D2E3FC;\n",
              "    }\n",
              "\n",
              "    [theme=dark] .colab-df-convert:hover {\n",
              "      background-color: #434B5C;\n",
              "      box-shadow: 0px 1px 3px 1px rgba(0, 0, 0, 0.15);\n",
              "      filter: drop-shadow(0px 1px 2px rgba(0, 0, 0, 0.3));\n",
              "      fill: #FFFFFF;\n",
              "    }\n",
              "  </style>\n",
              "\n",
              "      <script>\n",
              "        const buttonEl =\n",
              "          document.querySelector('#df-2bdece47-c9cc-4bff-b942-ed7da87db619 button.colab-df-convert');\n",
              "        buttonEl.style.display =\n",
              "          google.colab.kernel.accessAllowed ? 'block' : 'none';\n",
              "\n",
              "        async function convertToInteractive(key) {\n",
              "          const element = document.querySelector('#df-2bdece47-c9cc-4bff-b942-ed7da87db619');\n",
              "          const dataTable =\n",
              "            await google.colab.kernel.invokeFunction('convertToInteractive',\n",
              "                                                     [key], {});\n",
              "          if (!dataTable) return;\n",
              "\n",
              "          const docLinkHtml = 'Like what you see? Visit the ' +\n",
              "            '<a target=\"_blank\" href=https://colab.research.google.com/notebooks/data_table.ipynb>data table notebook</a>'\n",
              "            + ' to learn more about interactive tables.';\n",
              "          element.innerHTML = '';\n",
              "          dataTable['output_type'] = 'display_data';\n",
              "          await google.colab.output.renderOutput(dataTable, element);\n",
              "          const docLink = document.createElement('div');\n",
              "          docLink.innerHTML = docLinkHtml;\n",
              "          element.appendChild(docLink);\n",
              "        }\n",
              "      </script>\n",
              "    </div>\n",
              "  </div>\n",
              "  "
            ],
            "text/plain": [
              "        item(t-127)  store(t-127)  sales(t-127)  item(t-126)  store(t-126)  \\\n",
              "182405          1.0           1.0      0.414847          1.0           1.0   \n",
              "182406          1.0           1.0      0.375546          1.0           1.0   \n",
              "182407          1.0           1.0      0.410480          1.0           1.0   \n",
              "182408          1.0           1.0      0.432314          1.0           1.0   \n",
              "182409          1.0           1.0      0.471616          1.0           1.0   \n",
              "\n",
              "        sales(t-126)  item(t-125)  store(t-125)  sales(t-125)  item(t-124)  \\\n",
              "182405      0.375546          1.0           1.0      0.410480          1.0   \n",
              "182406      0.410480          1.0           1.0      0.432314          1.0   \n",
              "182407      0.432314          1.0           1.0      0.471616          1.0   \n",
              "182408      0.471616          1.0           1.0      0.292576          1.0   \n",
              "182409      0.292576          1.0           1.0      0.388646          1.0   \n",
              "\n",
              "        ...  sales(t-2)  item(t-1)  store(t-1)  sales(t-1)  item(t)  store(t)  \\\n",
              "182405  ...    0.336245        1.0         1.0    0.340611      1.0       1.0   \n",
              "182406  ...    0.340611        1.0         1.0    0.349345      1.0       1.0   \n",
              "182407  ...    0.349345        1.0         1.0    0.384279      1.0       1.0   \n",
              "182408  ...    0.384279        1.0         1.0    0.441048      1.0       1.0   \n",
              "182409  ...    0.441048        1.0         1.0    0.423581      1.0       1.0   \n",
              "\n",
              "        sales(t)  item(t+90)  store(t+90)  sales(t+90)  \n",
              "182405  0.349345         1.0          1.0     0.266376  \n",
              "182406  0.384279         1.0          1.0     0.248908  \n",
              "182407  0.441048         1.0          1.0     0.314410  \n",
              "182408  0.423581         1.0          1.0     0.262009  \n",
              "182409  0.301310         1.0          1.0     0.349345  \n",
              "\n",
              "[5 rows x 387 columns]"
            ]
          },
          "execution_count": 27,
          "metadata": {},
          "output_type": "execute_result"
        }
      ],
      "source": [
        "series.tail()"
      ]
    },
    {
      "cell_type": "code",
      "execution_count": null,
      "metadata": {
        "colab": {
          "base_uri": "https://localhost:8080/"
        },
        "id": "D25Q1-t72fNR",
        "outputId": "5cf55b13-db52-4663-a753-91346919333f"
      },
      "outputs": [
        {
          "data": {
            "text/plain": [
              "(182283, 387)"
            ]
          },
          "execution_count": 23,
          "metadata": {},
          "output_type": "execute_result"
        }
      ],
      "source": [
        "series.shape"
      ]
    },
    {
      "cell_type": "code",
      "execution_count": null,
      "metadata": {
        "id": "b6rR4vmrJtMG"
      },
      "outputs": [],
      "source": [
        "last_item = 'item(t-%d)' % window\n",
        "last_store = 'store(t-%d)' % window\n",
        "series = series[(series['store(t)'] == series[last_store])]\n",
        "series = series[(series['item(t)'] == series[last_item])]"
      ]
    },
    {
      "cell_type": "code",
      "execution_count": null,
      "metadata": {
        "id": "Rmis9IbeJvvr"
      },
      "outputs": [],
      "source": [
        "columns_to_drop = [('%s(t+%d)' % (col, lag)) for col in ['item', 'store']]\n",
        "for i in range(window, 0, -1):\n",
        "    columns_to_drop += [('%s(t-%d)' % (col, i)) for col in ['item', 'store']]\n",
        "series.drop(columns_to_drop, axis=1, inplace=True)\n",
        "series.drop(['item(t)', 'store(t)'], axis=1, inplace=True)"
      ]
    },
    {
      "cell_type": "code",
      "execution_count": null,
      "metadata": {
        "id": "JF0PNTV_Z_iR"
      },
      "outputs": [],
      "source": [
        "labels_col = 'sales(t+%d)' % lag_size\n",
        "labels = series[labels_col]\n",
        "series = series.drop(labels_col, axis=1)"
      ]
    },
    {
      "cell_type": "code",
      "execution_count": null,
      "metadata": {
        "colab": {
          "base_uri": "https://localhost:8080/"
        },
        "id": "WBeCmah8aVff",
        "outputId": "d77fe2d8-5ed2-4f7e-cc08-df15551d2e1d"
      },
      "outputs": [
        {
          "data": {
            "text/plain": [
              "(118910, 128)"
            ]
          },
          "execution_count": 50,
          "metadata": {},
          "output_type": "execute_result"
        }
      ],
      "source": [
        "series.shape"
      ]
    },
    {
      "cell_type": "code",
      "execution_count": null,
      "metadata": {
        "colab": {
          "base_uri": "https://localhost:8080/",
          "height": 352
        },
        "id": "l7rpiUZxJyG8",
        "outputId": "d4b995a0-ea43-4238-a643-7700dd7a5e4f"
      },
      "outputs": [
        {
          "name": "stdout",
          "output_type": "stream",
          "text": [
            "Train set shape (71346, 128)\n",
            "Validation set shape (47564, 128)\n"
          ]
        },
        {
          "data": {
            "text/html": [
              "\n",
              "  <div id=\"df-28aa8bce-8ed2-4662-a594-a94eb1950f7a\">\n",
              "    <div class=\"colab-df-container\">\n",
              "      <div>\n",
              "<style scoped>\n",
              "    .dataframe tbody tr th:only-of-type {\n",
              "        vertical-align: middle;\n",
              "    }\n",
              "\n",
              "    .dataframe tbody tr th {\n",
              "        vertical-align: top;\n",
              "    }\n",
              "\n",
              "    .dataframe thead th {\n",
              "        text-align: right;\n",
              "    }\n",
              "</style>\n",
              "<table border=\"1\" class=\"dataframe\">\n",
              "  <thead>\n",
              "    <tr style=\"text-align: right;\">\n",
              "      <th></th>\n",
              "      <th>sales(t-127)</th>\n",
              "      <th>sales(t-126)</th>\n",
              "      <th>sales(t-125)</th>\n",
              "      <th>sales(t-124)</th>\n",
              "      <th>sales(t-123)</th>\n",
              "      <th>sales(t-122)</th>\n",
              "      <th>sales(t-121)</th>\n",
              "      <th>sales(t-120)</th>\n",
              "      <th>sales(t-119)</th>\n",
              "      <th>sales(t-118)</th>\n",
              "      <th>...</th>\n",
              "      <th>sales(t-9)</th>\n",
              "      <th>sales(t-8)</th>\n",
              "      <th>sales(t-7)</th>\n",
              "      <th>sales(t-6)</th>\n",
              "      <th>sales(t-5)</th>\n",
              "      <th>sales(t-4)</th>\n",
              "      <th>sales(t-3)</th>\n",
              "      <th>sales(t-2)</th>\n",
              "      <th>sales(t-1)</th>\n",
              "      <th>sales(t)</th>\n",
              "    </tr>\n",
              "  </thead>\n",
              "  <tbody>\n",
              "    <tr>\n",
              "      <th>180636</th>\n",
              "      <td>78.0</td>\n",
              "      <td>73.0</td>\n",
              "      <td>80.0</td>\n",
              "      <td>80.0</td>\n",
              "      <td>83.0</td>\n",
              "      <td>72.0</td>\n",
              "      <td>68.0</td>\n",
              "      <td>65.0</td>\n",
              "      <td>77.0</td>\n",
              "      <td>67.0</td>\n",
              "      <td>...</td>\n",
              "      <td>50.0</td>\n",
              "      <td>45.0</td>\n",
              "      <td>52.0</td>\n",
              "      <td>64.0</td>\n",
              "      <td>76.0</td>\n",
              "      <td>55.0</td>\n",
              "      <td>49.0</td>\n",
              "      <td>47.0</td>\n",
              "      <td>60.0</td>\n",
              "      <td>61.0</td>\n",
              "    </tr>\n",
              "    <tr>\n",
              "      <th>179077</th>\n",
              "      <td>75.0</td>\n",
              "      <td>58.0</td>\n",
              "      <td>68.0</td>\n",
              "      <td>75.0</td>\n",
              "      <td>76.0</td>\n",
              "      <td>83.0</td>\n",
              "      <td>63.0</td>\n",
              "      <td>69.0</td>\n",
              "      <td>50.0</td>\n",
              "      <td>77.0</td>\n",
              "      <td>...</td>\n",
              "      <td>67.0</td>\n",
              "      <td>63.0</td>\n",
              "      <td>61.0</td>\n",
              "      <td>73.0</td>\n",
              "      <td>90.0</td>\n",
              "      <td>93.0</td>\n",
              "      <td>83.0</td>\n",
              "      <td>69.0</td>\n",
              "      <td>80.0</td>\n",
              "      <td>70.0</td>\n",
              "    </tr>\n",
              "    <tr>\n",
              "      <th>148431</th>\n",
              "      <td>15.0</td>\n",
              "      <td>14.0</td>\n",
              "      <td>17.0</td>\n",
              "      <td>21.0</td>\n",
              "      <td>19.0</td>\n",
              "      <td>23.0</td>\n",
              "      <td>13.0</td>\n",
              "      <td>28.0</td>\n",
              "      <td>22.0</td>\n",
              "      <td>21.0</td>\n",
              "      <td>...</td>\n",
              "      <td>17.0</td>\n",
              "      <td>24.0</td>\n",
              "      <td>26.0</td>\n",
              "      <td>16.0</td>\n",
              "      <td>19.0</td>\n",
              "      <td>19.0</td>\n",
              "      <td>25.0</td>\n",
              "      <td>21.0</td>\n",
              "      <td>15.0</td>\n",
              "      <td>19.0</td>\n",
              "    </tr>\n",
              "    <tr>\n",
              "      <th>108332</th>\n",
              "      <td>37.0</td>\n",
              "      <td>36.0</td>\n",
              "      <td>52.0</td>\n",
              "      <td>47.0</td>\n",
              "      <td>25.0</td>\n",
              "      <td>30.0</td>\n",
              "      <td>31.0</td>\n",
              "      <td>37.0</td>\n",
              "      <td>41.0</td>\n",
              "      <td>39.0</td>\n",
              "      <td>...</td>\n",
              "      <td>33.0</td>\n",
              "      <td>35.0</td>\n",
              "      <td>31.0</td>\n",
              "      <td>32.0</td>\n",
              "      <td>37.0</td>\n",
              "      <td>26.0</td>\n",
              "      <td>29.0</td>\n",
              "      <td>34.0</td>\n",
              "      <td>33.0</td>\n",
              "      <td>33.0</td>\n",
              "    </tr>\n",
              "    <tr>\n",
              "      <th>116657</th>\n",
              "      <td>60.0</td>\n",
              "      <td>80.0</td>\n",
              "      <td>64.0</td>\n",
              "      <td>61.0</td>\n",
              "      <td>38.0</td>\n",
              "      <td>43.0</td>\n",
              "      <td>54.0</td>\n",
              "      <td>53.0</td>\n",
              "      <td>59.0</td>\n",
              "      <td>56.0</td>\n",
              "      <td>...</td>\n",
              "      <td>56.0</td>\n",
              "      <td>54.0</td>\n",
              "      <td>67.0</td>\n",
              "      <td>94.0</td>\n",
              "      <td>77.0</td>\n",
              "      <td>40.0</td>\n",
              "      <td>60.0</td>\n",
              "      <td>52.0</td>\n",
              "      <td>57.0</td>\n",
              "      <td>73.0</td>\n",
              "    </tr>\n",
              "  </tbody>\n",
              "</table>\n",
              "<p>5 rows × 128 columns</p>\n",
              "</div>\n",
              "      <button class=\"colab-df-convert\" onclick=\"convertToInteractive('df-28aa8bce-8ed2-4662-a594-a94eb1950f7a')\"\n",
              "              title=\"Convert this dataframe to an interactive table.\"\n",
              "              style=\"display:none;\">\n",
              "        \n",
              "  <svg xmlns=\"http://www.w3.org/2000/svg\" height=\"24px\"viewBox=\"0 0 24 24\"\n",
              "       width=\"24px\">\n",
              "    <path d=\"M0 0h24v24H0V0z\" fill=\"none\"/>\n",
              "    <path d=\"M18.56 5.44l.94 2.06.94-2.06 2.06-.94-2.06-.94-.94-2.06-.94 2.06-2.06.94zm-11 1L8.5 8.5l.94-2.06 2.06-.94-2.06-.94L8.5 2.5l-.94 2.06-2.06.94zm10 10l.94 2.06.94-2.06 2.06-.94-2.06-.94-.94-2.06-.94 2.06-2.06.94z\"/><path d=\"M17.41 7.96l-1.37-1.37c-.4-.4-.92-.59-1.43-.59-.52 0-1.04.2-1.43.59L10.3 9.45l-7.72 7.72c-.78.78-.78 2.05 0 2.83L4 21.41c.39.39.9.59 1.41.59.51 0 1.02-.2 1.41-.59l7.78-7.78 2.81-2.81c.8-.78.8-2.07 0-2.86zM5.41 20L4 18.59l7.72-7.72 1.47 1.35L5.41 20z\"/>\n",
              "  </svg>\n",
              "      </button>\n",
              "      \n",
              "  <style>\n",
              "    .colab-df-container {\n",
              "      display:flex;\n",
              "      flex-wrap:wrap;\n",
              "      gap: 12px;\n",
              "    }\n",
              "\n",
              "    .colab-df-convert {\n",
              "      background-color: #E8F0FE;\n",
              "      border: none;\n",
              "      border-radius: 50%;\n",
              "      cursor: pointer;\n",
              "      display: none;\n",
              "      fill: #1967D2;\n",
              "      height: 32px;\n",
              "      padding: 0 0 0 0;\n",
              "      width: 32px;\n",
              "    }\n",
              "\n",
              "    .colab-df-convert:hover {\n",
              "      background-color: #E2EBFA;\n",
              "      box-shadow: 0px 1px 2px rgba(60, 64, 67, 0.3), 0px 1px 3px 1px rgba(60, 64, 67, 0.15);\n",
              "      fill: #174EA6;\n",
              "    }\n",
              "\n",
              "    [theme=dark] .colab-df-convert {\n",
              "      background-color: #3B4455;\n",
              "      fill: #D2E3FC;\n",
              "    }\n",
              "\n",
              "    [theme=dark] .colab-df-convert:hover {\n",
              "      background-color: #434B5C;\n",
              "      box-shadow: 0px 1px 3px 1px rgba(0, 0, 0, 0.15);\n",
              "      filter: drop-shadow(0px 1px 2px rgba(0, 0, 0, 0.3));\n",
              "      fill: #FFFFFF;\n",
              "    }\n",
              "  </style>\n",
              "\n",
              "      <script>\n",
              "        const buttonEl =\n",
              "          document.querySelector('#df-28aa8bce-8ed2-4662-a594-a94eb1950f7a button.colab-df-convert');\n",
              "        buttonEl.style.display =\n",
              "          google.colab.kernel.accessAllowed ? 'block' : 'none';\n",
              "\n",
              "        async function convertToInteractive(key) {\n",
              "          const element = document.querySelector('#df-28aa8bce-8ed2-4662-a594-a94eb1950f7a');\n",
              "          const dataTable =\n",
              "            await google.colab.kernel.invokeFunction('convertToInteractive',\n",
              "                                                     [key], {});\n",
              "          if (!dataTable) return;\n",
              "\n",
              "          const docLinkHtml = 'Like what you see? Visit the ' +\n",
              "            '<a target=\"_blank\" href=https://colab.research.google.com/notebooks/data_table.ipynb>data table notebook</a>'\n",
              "            + ' to learn more about interactive tables.';\n",
              "          element.innerHTML = '';\n",
              "          dataTable['output_type'] = 'display_data';\n",
              "          await google.colab.output.renderOutput(dataTable, element);\n",
              "          const docLink = document.createElement('div');\n",
              "          docLink.innerHTML = docLinkHtml;\n",
              "          element.appendChild(docLink);\n",
              "        }\n",
              "      </script>\n",
              "    </div>\n",
              "  </div>\n",
              "  "
            ],
            "text/plain": [
              "        sales(t-127)  sales(t-126)  sales(t-125)  sales(t-124)  sales(t-123)  \\\n",
              "180636          78.0          73.0          80.0          80.0          83.0   \n",
              "179077          75.0          58.0          68.0          75.0          76.0   \n",
              "148431          15.0          14.0          17.0          21.0          19.0   \n",
              "108332          37.0          36.0          52.0          47.0          25.0   \n",
              "116657          60.0          80.0          64.0          61.0          38.0   \n",
              "\n",
              "        sales(t-122)  sales(t-121)  sales(t-120)  sales(t-119)  sales(t-118)  \\\n",
              "180636          72.0          68.0          65.0          77.0          67.0   \n",
              "179077          83.0          63.0          69.0          50.0          77.0   \n",
              "148431          23.0          13.0          28.0          22.0          21.0   \n",
              "108332          30.0          31.0          37.0          41.0          39.0   \n",
              "116657          43.0          54.0          53.0          59.0          56.0   \n",
              "\n",
              "        ...  sales(t-9)  sales(t-8)  sales(t-7)  sales(t-6)  sales(t-5)  \\\n",
              "180636  ...        50.0        45.0        52.0        64.0        76.0   \n",
              "179077  ...        67.0        63.0        61.0        73.0        90.0   \n",
              "148431  ...        17.0        24.0        26.0        16.0        19.0   \n",
              "108332  ...        33.0        35.0        31.0        32.0        37.0   \n",
              "116657  ...        56.0        54.0        67.0        94.0        77.0   \n",
              "\n",
              "        sales(t-4)  sales(t-3)  sales(t-2)  sales(t-1)  sales(t)  \n",
              "180636        55.0        49.0        47.0        60.0      61.0  \n",
              "179077        93.0        83.0        69.0        80.0      70.0  \n",
              "148431        19.0        25.0        21.0        15.0      19.0  \n",
              "108332        26.0        29.0        34.0        33.0      33.0  \n",
              "116657        40.0        60.0        52.0        57.0      73.0  \n",
              "\n",
              "[5 rows x 128 columns]"
            ]
          },
          "execution_count": 27,
          "metadata": {},
          "output_type": "execute_result"
        }
      ],
      "source": [
        "X_train, X_valid, Y_train, Y_valid = train_test_split(series, labels.values, test_size=0.4, random_state=0)\n",
        "print('Train set shape', X_train.shape)\n",
        "print('Validation set shape', X_valid.shape)\n",
        "X_train.head()"
      ]
    },
    {
      "cell_type": "code",
      "execution_count": null,
      "metadata": {
        "colab": {
          "base_uri": "https://localhost:8080/",
          "height": 317
        },
        "id": "r6jLdTO-tf0c",
        "outputId": "df9eaeda-da93-494a-acad-715205427d4c"
      },
      "outputs": [
        {
          "data": {
            "text/html": [
              "\n",
              "  <div id=\"df-8a2d0641-2785-460a-9de6-e633e93ad6d0\">\n",
              "    <div class=\"colab-df-container\">\n",
              "      <div>\n",
              "<style scoped>\n",
              "    .dataframe tbody tr th:only-of-type {\n",
              "        vertical-align: middle;\n",
              "    }\n",
              "\n",
              "    .dataframe tbody tr th {\n",
              "        vertical-align: top;\n",
              "    }\n",
              "\n",
              "    .dataframe thead th {\n",
              "        text-align: right;\n",
              "    }\n",
              "</style>\n",
              "<table border=\"1\" class=\"dataframe\">\n",
              "  <thead>\n",
              "    <tr style=\"text-align: right;\">\n",
              "      <th></th>\n",
              "      <th>sales(t-127)</th>\n",
              "      <th>sales(t-126)</th>\n",
              "      <th>sales(t-125)</th>\n",
              "      <th>sales(t-124)</th>\n",
              "      <th>sales(t-123)</th>\n",
              "      <th>sales(t-122)</th>\n",
              "      <th>sales(t-121)</th>\n",
              "      <th>sales(t-120)</th>\n",
              "      <th>sales(t-119)</th>\n",
              "      <th>sales(t-118)</th>\n",
              "      <th>...</th>\n",
              "      <th>sales(t-9)</th>\n",
              "      <th>sales(t-8)</th>\n",
              "      <th>sales(t-7)</th>\n",
              "      <th>sales(t-6)</th>\n",
              "      <th>sales(t-5)</th>\n",
              "      <th>sales(t-4)</th>\n",
              "      <th>sales(t-3)</th>\n",
              "      <th>sales(t-2)</th>\n",
              "      <th>sales(t-1)</th>\n",
              "      <th>sales(t)</th>\n",
              "    </tr>\n",
              "  </thead>\n",
              "  <tbody>\n",
              "    <tr>\n",
              "      <th>70402</th>\n",
              "      <td>86.0</td>\n",
              "      <td>73.0</td>\n",
              "      <td>54.0</td>\n",
              "      <td>81.0</td>\n",
              "      <td>68.0</td>\n",
              "      <td>81.0</td>\n",
              "      <td>60.0</td>\n",
              "      <td>99.0</td>\n",
              "      <td>95.0</td>\n",
              "      <td>61.0</td>\n",
              "      <td>...</td>\n",
              "      <td>85.0</td>\n",
              "      <td>77.0</td>\n",
              "      <td>65.0</td>\n",
              "      <td>56.0</td>\n",
              "      <td>69.0</td>\n",
              "      <td>60.0</td>\n",
              "      <td>75.0</td>\n",
              "      <td>79.0</td>\n",
              "      <td>83.0</td>\n",
              "      <td>71.0</td>\n",
              "    </tr>\n",
              "    <tr>\n",
              "      <th>180944</th>\n",
              "      <td>42.0</td>\n",
              "      <td>63.0</td>\n",
              "      <td>76.0</td>\n",
              "      <td>70.0</td>\n",
              "      <td>70.0</td>\n",
              "      <td>72.0</td>\n",
              "      <td>64.0</td>\n",
              "      <td>61.0</td>\n",
              "      <td>61.0</td>\n",
              "      <td>63.0</td>\n",
              "      <td>...</td>\n",
              "      <td>52.0</td>\n",
              "      <td>59.0</td>\n",
              "      <td>56.0</td>\n",
              "      <td>55.0</td>\n",
              "      <td>66.0</td>\n",
              "      <td>67.0</td>\n",
              "      <td>73.0</td>\n",
              "      <td>41.0</td>\n",
              "      <td>50.0</td>\n",
              "      <td>81.0</td>\n",
              "    </tr>\n",
              "    <tr>\n",
              "      <th>65473</th>\n",
              "      <td>70.0</td>\n",
              "      <td>67.0</td>\n",
              "      <td>84.0</td>\n",
              "      <td>81.0</td>\n",
              "      <td>65.0</td>\n",
              "      <td>60.0</td>\n",
              "      <td>71.0</td>\n",
              "      <td>63.0</td>\n",
              "      <td>59.0</td>\n",
              "      <td>67.0</td>\n",
              "      <td>...</td>\n",
              "      <td>102.0</td>\n",
              "      <td>118.0</td>\n",
              "      <td>138.0</td>\n",
              "      <td>135.0</td>\n",
              "      <td>129.0</td>\n",
              "      <td>95.0</td>\n",
              "      <td>112.0</td>\n",
              "      <td>98.0</td>\n",
              "      <td>129.0</td>\n",
              "      <td>118.0</td>\n",
              "    </tr>\n",
              "    <tr>\n",
              "      <th>66935</th>\n",
              "      <td>35.0</td>\n",
              "      <td>36.0</td>\n",
              "      <td>28.0</td>\n",
              "      <td>32.0</td>\n",
              "      <td>26.0</td>\n",
              "      <td>33.0</td>\n",
              "      <td>44.0</td>\n",
              "      <td>38.0</td>\n",
              "      <td>33.0</td>\n",
              "      <td>31.0</td>\n",
              "      <td>...</td>\n",
              "      <td>61.0</td>\n",
              "      <td>51.0</td>\n",
              "      <td>64.0</td>\n",
              "      <td>46.0</td>\n",
              "      <td>53.0</td>\n",
              "      <td>37.0</td>\n",
              "      <td>41.0</td>\n",
              "      <td>55.0</td>\n",
              "      <td>62.0</td>\n",
              "      <td>63.0</td>\n",
              "    </tr>\n",
              "    <tr>\n",
              "      <th>104717</th>\n",
              "      <td>72.0</td>\n",
              "      <td>78.0</td>\n",
              "      <td>70.0</td>\n",
              "      <td>71.0</td>\n",
              "      <td>54.0</td>\n",
              "      <td>61.0</td>\n",
              "      <td>59.0</td>\n",
              "      <td>63.0</td>\n",
              "      <td>63.0</td>\n",
              "      <td>69.0</td>\n",
              "      <td>...</td>\n",
              "      <td>58.0</td>\n",
              "      <td>51.0</td>\n",
              "      <td>38.0</td>\n",
              "      <td>62.0</td>\n",
              "      <td>76.0</td>\n",
              "      <td>56.0</td>\n",
              "      <td>62.0</td>\n",
              "      <td>64.0</td>\n",
              "      <td>68.0</td>\n",
              "      <td>59.0</td>\n",
              "    </tr>\n",
              "  </tbody>\n",
              "</table>\n",
              "<p>5 rows × 128 columns</p>\n",
              "</div>\n",
              "      <button class=\"colab-df-convert\" onclick=\"convertToInteractive('df-8a2d0641-2785-460a-9de6-e633e93ad6d0')\"\n",
              "              title=\"Convert this dataframe to an interactive table.\"\n",
              "              style=\"display:none;\">\n",
              "        \n",
              "  <svg xmlns=\"http://www.w3.org/2000/svg\" height=\"24px\"viewBox=\"0 0 24 24\"\n",
              "       width=\"24px\">\n",
              "    <path d=\"M0 0h24v24H0V0z\" fill=\"none\"/>\n",
              "    <path d=\"M18.56 5.44l.94 2.06.94-2.06 2.06-.94-2.06-.94-.94-2.06-.94 2.06-2.06.94zm-11 1L8.5 8.5l.94-2.06 2.06-.94-2.06-.94L8.5 2.5l-.94 2.06-2.06.94zm10 10l.94 2.06.94-2.06 2.06-.94-2.06-.94-.94-2.06-.94 2.06-2.06.94z\"/><path d=\"M17.41 7.96l-1.37-1.37c-.4-.4-.92-.59-1.43-.59-.52 0-1.04.2-1.43.59L10.3 9.45l-7.72 7.72c-.78.78-.78 2.05 0 2.83L4 21.41c.39.39.9.59 1.41.59.51 0 1.02-.2 1.41-.59l7.78-7.78 2.81-2.81c.8-.78.8-2.07 0-2.86zM5.41 20L4 18.59l7.72-7.72 1.47 1.35L5.41 20z\"/>\n",
              "  </svg>\n",
              "      </button>\n",
              "      \n",
              "  <style>\n",
              "    .colab-df-container {\n",
              "      display:flex;\n",
              "      flex-wrap:wrap;\n",
              "      gap: 12px;\n",
              "    }\n",
              "\n",
              "    .colab-df-convert {\n",
              "      background-color: #E8F0FE;\n",
              "      border: none;\n",
              "      border-radius: 50%;\n",
              "      cursor: pointer;\n",
              "      display: none;\n",
              "      fill: #1967D2;\n",
              "      height: 32px;\n",
              "      padding: 0 0 0 0;\n",
              "      width: 32px;\n",
              "    }\n",
              "\n",
              "    .colab-df-convert:hover {\n",
              "      background-color: #E2EBFA;\n",
              "      box-shadow: 0px 1px 2px rgba(60, 64, 67, 0.3), 0px 1px 3px 1px rgba(60, 64, 67, 0.15);\n",
              "      fill: #174EA6;\n",
              "    }\n",
              "\n",
              "    [theme=dark] .colab-df-convert {\n",
              "      background-color: #3B4455;\n",
              "      fill: #D2E3FC;\n",
              "    }\n",
              "\n",
              "    [theme=dark] .colab-df-convert:hover {\n",
              "      background-color: #434B5C;\n",
              "      box-shadow: 0px 1px 3px 1px rgba(0, 0, 0, 0.15);\n",
              "      filter: drop-shadow(0px 1px 2px rgba(0, 0, 0, 0.3));\n",
              "      fill: #FFFFFF;\n",
              "    }\n",
              "  </style>\n",
              "\n",
              "      <script>\n",
              "        const buttonEl =\n",
              "          document.querySelector('#df-8a2d0641-2785-460a-9de6-e633e93ad6d0 button.colab-df-convert');\n",
              "        buttonEl.style.display =\n",
              "          google.colab.kernel.accessAllowed ? 'block' : 'none';\n",
              "\n",
              "        async function convertToInteractive(key) {\n",
              "          const element = document.querySelector('#df-8a2d0641-2785-460a-9de6-e633e93ad6d0');\n",
              "          const dataTable =\n",
              "            await google.colab.kernel.invokeFunction('convertToInteractive',\n",
              "                                                     [key], {});\n",
              "          if (!dataTable) return;\n",
              "\n",
              "          const docLinkHtml = 'Like what you see? Visit the ' +\n",
              "            '<a target=\"_blank\" href=https://colab.research.google.com/notebooks/data_table.ipynb>data table notebook</a>'\n",
              "            + ' to learn more about interactive tables.';\n",
              "          element.innerHTML = '';\n",
              "          dataTable['output_type'] = 'display_data';\n",
              "          await google.colab.output.renderOutput(dataTable, element);\n",
              "          const docLink = document.createElement('div');\n",
              "          docLink.innerHTML = docLinkHtml;\n",
              "          element.appendChild(docLink);\n",
              "        }\n",
              "      </script>\n",
              "    </div>\n",
              "  </div>\n",
              "  "
            ],
            "text/plain": [
              "        sales(t-127)  sales(t-126)  sales(t-125)  sales(t-124)  sales(t-123)  \\\n",
              "70402           86.0          73.0          54.0          81.0          68.0   \n",
              "180944          42.0          63.0          76.0          70.0          70.0   \n",
              "65473           70.0          67.0          84.0          81.0          65.0   \n",
              "66935           35.0          36.0          28.0          32.0          26.0   \n",
              "104717          72.0          78.0          70.0          71.0          54.0   \n",
              "\n",
              "        sales(t-122)  sales(t-121)  sales(t-120)  sales(t-119)  sales(t-118)  \\\n",
              "70402           81.0          60.0          99.0          95.0          61.0   \n",
              "180944          72.0          64.0          61.0          61.0          63.0   \n",
              "65473           60.0          71.0          63.0          59.0          67.0   \n",
              "66935           33.0          44.0          38.0          33.0          31.0   \n",
              "104717          61.0          59.0          63.0          63.0          69.0   \n",
              "\n",
              "        ...  sales(t-9)  sales(t-8)  sales(t-7)  sales(t-6)  sales(t-5)  \\\n",
              "70402   ...        85.0        77.0        65.0        56.0        69.0   \n",
              "180944  ...        52.0        59.0        56.0        55.0        66.0   \n",
              "65473   ...       102.0       118.0       138.0       135.0       129.0   \n",
              "66935   ...        61.0        51.0        64.0        46.0        53.0   \n",
              "104717  ...        58.0        51.0        38.0        62.0        76.0   \n",
              "\n",
              "        sales(t-4)  sales(t-3)  sales(t-2)  sales(t-1)  sales(t)  \n",
              "70402         60.0        75.0        79.0        83.0      71.0  \n",
              "180944        67.0        73.0        41.0        50.0      81.0  \n",
              "65473         95.0       112.0        98.0       129.0     118.0  \n",
              "66935         37.0        41.0        55.0        62.0      63.0  \n",
              "104717        56.0        62.0        64.0        68.0      59.0  \n",
              "\n",
              "[5 rows x 128 columns]"
            ]
          },
          "execution_count": 56,
          "metadata": {},
          "output_type": "execute_result"
        }
      ],
      "source": [
        "X_train.tail()"
      ]
    },
    {
      "cell_type": "code",
      "execution_count": null,
      "metadata": {
        "colab": {
          "base_uri": "https://localhost:8080/"
        },
        "id": "IH-FWV58jHt5",
        "outputId": "1d943752-3e54-42f4-cd5d-eb2ebc880b88"
      },
      "outputs": [
        {
          "data": {
            "text/plain": [
              "array([ 32.,  59.,  16., ..., 134.,  60.,  73.])"
            ]
          },
          "execution_count": 55,
          "metadata": {},
          "output_type": "execute_result"
        }
      ],
      "source": [
        "Y_train"
      ]
    },
    {
      "cell_type": "code",
      "execution_count": null,
      "metadata": {
        "colab": {
          "base_uri": "https://localhost:8080/"
        },
        "id": "CJP6NIezvLZG",
        "outputId": "93966127-ea1f-4b35-9a95-e0e14ce7ba10"
      },
      "outputs": [
        {
          "data": {
            "text/plain": [
              "TensorShape([71346, 128, 1])"
            ]
          },
          "execution_count": 66,
          "metadata": {},
          "output_type": "execute_result"
        }
      ],
      "source": [
        "X_train.shape"
      ]
    },
    {
      "cell_type": "code",
      "execution_count": null,
      "metadata": {
        "colab": {
          "base_uri": "https://localhost:8080/"
        },
        "id": "1yKB_ZDRh4-x",
        "outputId": "72db61ed-9670-49c6-ee5e-3a65a5de6aab"
      },
      "outputs": [
        {
          "data": {
            "text/plain": [
              "(71346,)"
            ]
          },
          "execution_count": 57,
          "metadata": {},
          "output_type": "execute_result"
        }
      ],
      "source": [
        "Y_train.shape"
      ]
    },
    {
      "cell_type": "code",
      "execution_count": null,
      "metadata": {
        "id": "K6tgNhfHnWxG"
      },
      "outputs": [],
      "source": [
        "X_train = tf.expand_dims(X_train, axis = -1)"
      ]
    },
    {
      "cell_type": "code",
      "execution_count": null,
      "metadata": {
        "id": "EYJ_hk3K_rod"
      },
      "outputs": [],
      "source": [
        "X_valid = tf.expand_dims(X_valid, axis = -1)"
      ]
    },
    {
      "cell_type": "code",
      "execution_count": null,
      "metadata": {
        "id": "pyAwkIqB8mQs"
      },
      "outputs": [],
      "source": [
        "def windowed_dataseto(series, window_size, batch_size):\n",
        "    \"\"\"Generates dataset windows\n",
        "\n",
        "    Args:\n",
        "      series (array of float) - contains the values of the time series\n",
        "      window_size (int) - the number of time steps to include in the feature\n",
        "      batch_size (int) - the batch size\n",
        "      shuffle_buffer(int) - buffer size to use for the shuffle method\n",
        "\n",
        "    Returns:\n",
        "      dataset (TF Dataset) - TF Dataset containing time windows\n",
        "    \"\"\"\n",
        "  \n",
        "    # Generate a TF Dataset from the series values\n",
        "    dataset = tf.data.Dataset.from_tensor_slices(series)\n",
        "    \n",
        "    # Window the data but only take those with the specified size\n",
        "    dataset = dataset.window(window_size + 1, shift=1, drop_remainder=True)\n",
        "    \n",
        "    # Flatten the windows by putting its elements in a single batch\n",
        "    dataset = dataset.flat_map(lambda window: window.batch(window_size + 1))\n",
        "\n",
        "    # Create tuples with features and labels \n",
        "    dataset = dataset.map(lambda window: (window[:-1], window[-1]))\n",
        "    \n",
        "    # Create batches of windows\n",
        "    dataset = dataset.batch(batch_size).prefetch(1)\n",
        "    \n",
        "    return dataset"
      ]
    },
    {
      "cell_type": "code",
      "execution_count": null,
      "metadata": {
        "colab": {
          "base_uri": "https://localhost:8080/",
          "height": 200
        },
        "id": "H7aHZa6l8ntv",
        "outputId": "67691dec-5393-490f-847a-04fec8eca0ba"
      },
      "outputs": [
        {
          "ename": "NameError",
          "evalue": "ignored",
          "output_type": "error",
          "traceback": [
            "\u001b[0;31m---------------------------------------------------------------------------\u001b[0m",
            "\u001b[0;31mNameError\u001b[0m                                 Traceback (most recent call last)",
            "\u001b[0;32m<ipython-input-12-44364576f550>\u001b[0m in \u001b[0;36m<module>\u001b[0;34m\u001b[0m\n\u001b[1;32m      4\u001b[0m \u001b[0;34m\u001b[0m\u001b[0m\n\u001b[1;32m      5\u001b[0m \u001b[0;31m# Generate the dataset windows\u001b[0m\u001b[0;34m\u001b[0m\u001b[0;34m\u001b[0m\u001b[0;34m\u001b[0m\u001b[0m\n\u001b[0;32m----> 6\u001b[0;31m \u001b[0mtrain_set\u001b[0m \u001b[0;34m=\u001b[0m \u001b[0mwindowed_dataseto\u001b[0m\u001b[0;34m(\u001b[0m\u001b[0mX_train\u001b[0m\u001b[0;34m,\u001b[0m \u001b[0mwindow_size\u001b[0m\u001b[0;34m,\u001b[0m \u001b[0mbatch_size\u001b[0m\u001b[0;34m)\u001b[0m\u001b[0;34m\u001b[0m\u001b[0;34m\u001b[0m\u001b[0m\n\u001b[0m",
            "\u001b[0;31mNameError\u001b[0m: name 'windowed_dataseto' is not defined"
          ]
        }
      ],
      "source": [
        "# Parameters\n",
        "window_size = 30\n",
        "batch_size = 128\n",
        "\n",
        "# Generate the dataset windows\n",
        "train_set = windowed_dataseto(X_train, window_size, batch_size)"
      ]
    },
    {
      "cell_type": "code",
      "execution_count": null,
      "metadata": {
        "colab": {
          "base_uri": "https://localhost:8080/"
        },
        "id": "YQJpsEnh9CNU",
        "outputId": "ea5bbbcb-13d4-491b-918f-2a5c53d3bacc"
      },
      "outputs": [
        {
          "data": {
            "text/plain": [
              "<PrefetchDataset element_spec=(TensorSpec(shape=(None, None, 128, 1), dtype=tf.float64, name=None), TensorSpec(shape=(None, 128, 1), dtype=tf.float64, name=None))>"
            ]
          },
          "execution_count": 62,
          "metadata": {},
          "output_type": "execute_result"
        }
      ],
      "source": [
        "train_set"
      ]
    },
    {
      "cell_type": "code",
      "execution_count": null,
      "metadata": {
        "colab": {
          "base_uri": "https://localhost:8080/"
        },
        "id": "l5PiZCYAIjPn",
        "outputId": "1ef3cbf4-310c-4d0a-95a6-947d43f79f9b"
      },
      "outputs": [
        {
          "name": "stdout",
          "output_type": "stream",
          "text": [
            "Train set shape (71346, 128)\n",
            "Validation set shape (47564, 128)\n"
          ]
        }
      ],
      "source": [
        "X_trains, X_valids, Y_trains, Y_valids = train_test_split(series, labels.values, test_size=0.4, random_state=0)\n",
        "print('Train set shape', X_trains.shape)\n",
        "print('Validation set shape', X_valids.shape)"
      ]
    },
    {
      "cell_type": "markdown",
      "metadata": {
        "id": "4AO9AuNQmbk5"
      },
      "source": [
        "# Features 30 windows"
      ]
    },
    {
      "cell_type": "code",
      "execution_count": null,
      "metadata": {
        "colab": {
          "base_uri": "https://localhost:8080/",
          "height": 317
        },
        "id": "x32rHHN0mgA8",
        "outputId": "c3209393-f065-424b-8912-650331c91843"
      },
      "outputs": [
        {
          "data": {
            "text/html": [
              "\n",
              "  <div id=\"df-d63a12bf-cfb2-4946-b8ce-f4876a03142d\">\n",
              "    <div class=\"colab-df-container\">\n",
              "      <div>\n",
              "<style scoped>\n",
              "    .dataframe tbody tr th:only-of-type {\n",
              "        vertical-align: middle;\n",
              "    }\n",
              "\n",
              "    .dataframe tbody tr th {\n",
              "        vertical-align: top;\n",
              "    }\n",
              "\n",
              "    .dataframe thead th {\n",
              "        text-align: right;\n",
              "    }\n",
              "</style>\n",
              "<table border=\"1\" class=\"dataframe\">\n",
              "  <thead>\n",
              "    <tr style=\"text-align: right;\">\n",
              "      <th></th>\n",
              "      <th>item(t-29)</th>\n",
              "      <th>store(t-29)</th>\n",
              "      <th>sales(t-29)</th>\n",
              "      <th>item(t-28)</th>\n",
              "      <th>store(t-28)</th>\n",
              "      <th>sales(t-28)</th>\n",
              "      <th>item(t-27)</th>\n",
              "      <th>store(t-27)</th>\n",
              "      <th>sales(t-27)</th>\n",
              "      <th>item(t-26)</th>\n",
              "      <th>...</th>\n",
              "      <th>sales(t-2)</th>\n",
              "      <th>item(t-1)</th>\n",
              "      <th>store(t-1)</th>\n",
              "      <th>sales(t-1)</th>\n",
              "      <th>item(t)</th>\n",
              "      <th>store(t)</th>\n",
              "      <th>sales(t)</th>\n",
              "      <th>item(t+90)</th>\n",
              "      <th>store(t+90)</th>\n",
              "      <th>sales(t+90)</th>\n",
              "    </tr>\n",
              "  </thead>\n",
              "  <tbody>\n",
              "    <tr>\n",
              "      <th>29</th>\n",
              "      <td>1.0</td>\n",
              "      <td>1.0</td>\n",
              "      <td>19.0</td>\n",
              "      <td>1.0</td>\n",
              "      <td>1.0</td>\n",
              "      <td>15.0</td>\n",
              "      <td>1.0</td>\n",
              "      <td>1.0</td>\n",
              "      <td>10.0</td>\n",
              "      <td>1.0</td>\n",
              "      <td>...</td>\n",
              "      <td>16.0</td>\n",
              "      <td>1.0</td>\n",
              "      <td>1.0</td>\n",
              "      <td>24.0</td>\n",
              "      <td>1</td>\n",
              "      <td>1</td>\n",
              "      <td>9.0</td>\n",
              "      <td>1.0</td>\n",
              "      <td>1.0</td>\n",
              "      <td>33.0</td>\n",
              "    </tr>\n",
              "    <tr>\n",
              "      <th>30</th>\n",
              "      <td>1.0</td>\n",
              "      <td>1.0</td>\n",
              "      <td>15.0</td>\n",
              "      <td>1.0</td>\n",
              "      <td>1.0</td>\n",
              "      <td>10.0</td>\n",
              "      <td>1.0</td>\n",
              "      <td>1.0</td>\n",
              "      <td>16.0</td>\n",
              "      <td>1.0</td>\n",
              "      <td>...</td>\n",
              "      <td>24.0</td>\n",
              "      <td>1.0</td>\n",
              "      <td>1.0</td>\n",
              "      <td>9.0</td>\n",
              "      <td>1</td>\n",
              "      <td>1</td>\n",
              "      <td>17.0</td>\n",
              "      <td>1.0</td>\n",
              "      <td>1.0</td>\n",
              "      <td>15.0</td>\n",
              "    </tr>\n",
              "    <tr>\n",
              "      <th>31</th>\n",
              "      <td>1.0</td>\n",
              "      <td>1.0</td>\n",
              "      <td>10.0</td>\n",
              "      <td>1.0</td>\n",
              "      <td>1.0</td>\n",
              "      <td>16.0</td>\n",
              "      <td>1.0</td>\n",
              "      <td>1.0</td>\n",
              "      <td>14.0</td>\n",
              "      <td>1.0</td>\n",
              "      <td>...</td>\n",
              "      <td>9.0</td>\n",
              "      <td>1.0</td>\n",
              "      <td>1.0</td>\n",
              "      <td>17.0</td>\n",
              "      <td>1</td>\n",
              "      <td>1</td>\n",
              "      <td>15.0</td>\n",
              "      <td>1.0</td>\n",
              "      <td>1.0</td>\n",
              "      <td>21.0</td>\n",
              "    </tr>\n",
              "    <tr>\n",
              "      <th>32</th>\n",
              "      <td>1.0</td>\n",
              "      <td>1.0</td>\n",
              "      <td>16.0</td>\n",
              "      <td>1.0</td>\n",
              "      <td>1.0</td>\n",
              "      <td>14.0</td>\n",
              "      <td>1.0</td>\n",
              "      <td>1.0</td>\n",
              "      <td>24.0</td>\n",
              "      <td>1.0</td>\n",
              "      <td>...</td>\n",
              "      <td>17.0</td>\n",
              "      <td>1.0</td>\n",
              "      <td>1.0</td>\n",
              "      <td>15.0</td>\n",
              "      <td>1</td>\n",
              "      <td>1</td>\n",
              "      <td>17.0</td>\n",
              "      <td>1.0</td>\n",
              "      <td>1.0</td>\n",
              "      <td>29.0</td>\n",
              "    </tr>\n",
              "    <tr>\n",
              "      <th>33</th>\n",
              "      <td>1.0</td>\n",
              "      <td>1.0</td>\n",
              "      <td>14.0</td>\n",
              "      <td>1.0</td>\n",
              "      <td>1.0</td>\n",
              "      <td>24.0</td>\n",
              "      <td>1.0</td>\n",
              "      <td>1.0</td>\n",
              "      <td>14.0</td>\n",
              "      <td>1.0</td>\n",
              "      <td>...</td>\n",
              "      <td>15.0</td>\n",
              "      <td>1.0</td>\n",
              "      <td>1.0</td>\n",
              "      <td>17.0</td>\n",
              "      <td>1</td>\n",
              "      <td>1</td>\n",
              "      <td>24.0</td>\n",
              "      <td>1.0</td>\n",
              "      <td>1.0</td>\n",
              "      <td>19.0</td>\n",
              "    </tr>\n",
              "  </tbody>\n",
              "</table>\n",
              "<p>5 rows × 93 columns</p>\n",
              "</div>\n",
              "      <button class=\"colab-df-convert\" onclick=\"convertToInteractive('df-d63a12bf-cfb2-4946-b8ce-f4876a03142d')\"\n",
              "              title=\"Convert this dataframe to an interactive table.\"\n",
              "              style=\"display:none;\">\n",
              "        \n",
              "  <svg xmlns=\"http://www.w3.org/2000/svg\" height=\"24px\"viewBox=\"0 0 24 24\"\n",
              "       width=\"24px\">\n",
              "    <path d=\"M0 0h24v24H0V0z\" fill=\"none\"/>\n",
              "    <path d=\"M18.56 5.44l.94 2.06.94-2.06 2.06-.94-2.06-.94-.94-2.06-.94 2.06-2.06.94zm-11 1L8.5 8.5l.94-2.06 2.06-.94-2.06-.94L8.5 2.5l-.94 2.06-2.06.94zm10 10l.94 2.06.94-2.06 2.06-.94-2.06-.94-.94-2.06-.94 2.06-2.06.94z\"/><path d=\"M17.41 7.96l-1.37-1.37c-.4-.4-.92-.59-1.43-.59-.52 0-1.04.2-1.43.59L10.3 9.45l-7.72 7.72c-.78.78-.78 2.05 0 2.83L4 21.41c.39.39.9.59 1.41.59.51 0 1.02-.2 1.41-.59l7.78-7.78 2.81-2.81c.8-.78.8-2.07 0-2.86zM5.41 20L4 18.59l7.72-7.72 1.47 1.35L5.41 20z\"/>\n",
              "  </svg>\n",
              "      </button>\n",
              "      \n",
              "  <style>\n",
              "    .colab-df-container {\n",
              "      display:flex;\n",
              "      flex-wrap:wrap;\n",
              "      gap: 12px;\n",
              "    }\n",
              "\n",
              "    .colab-df-convert {\n",
              "      background-color: #E8F0FE;\n",
              "      border: none;\n",
              "      border-radius: 50%;\n",
              "      cursor: pointer;\n",
              "      display: none;\n",
              "      fill: #1967D2;\n",
              "      height: 32px;\n",
              "      padding: 0 0 0 0;\n",
              "      width: 32px;\n",
              "    }\n",
              "\n",
              "    .colab-df-convert:hover {\n",
              "      background-color: #E2EBFA;\n",
              "      box-shadow: 0px 1px 2px rgba(60, 64, 67, 0.3), 0px 1px 3px 1px rgba(60, 64, 67, 0.15);\n",
              "      fill: #174EA6;\n",
              "    }\n",
              "\n",
              "    [theme=dark] .colab-df-convert {\n",
              "      background-color: #3B4455;\n",
              "      fill: #D2E3FC;\n",
              "    }\n",
              "\n",
              "    [theme=dark] .colab-df-convert:hover {\n",
              "      background-color: #434B5C;\n",
              "      box-shadow: 0px 1px 3px 1px rgba(0, 0, 0, 0.15);\n",
              "      filter: drop-shadow(0px 1px 2px rgba(0, 0, 0, 0.3));\n",
              "      fill: #FFFFFF;\n",
              "    }\n",
              "  </style>\n",
              "\n",
              "      <script>\n",
              "        const buttonEl =\n",
              "          document.querySelector('#df-d63a12bf-cfb2-4946-b8ce-f4876a03142d button.colab-df-convert');\n",
              "        buttonEl.style.display =\n",
              "          google.colab.kernel.accessAllowed ? 'block' : 'none';\n",
              "\n",
              "        async function convertToInteractive(key) {\n",
              "          const element = document.querySelector('#df-d63a12bf-cfb2-4946-b8ce-f4876a03142d');\n",
              "          const dataTable =\n",
              "            await google.colab.kernel.invokeFunction('convertToInteractive',\n",
              "                                                     [key], {});\n",
              "          if (!dataTable) return;\n",
              "\n",
              "          const docLinkHtml = 'Like what you see? Visit the ' +\n",
              "            '<a target=\"_blank\" href=https://colab.research.google.com/notebooks/data_table.ipynb>data table notebook</a>'\n",
              "            + ' to learn more about interactive tables.';\n",
              "          element.innerHTML = '';\n",
              "          dataTable['output_type'] = 'display_data';\n",
              "          await google.colab.output.renderOutput(dataTable, element);\n",
              "          const docLink = document.createElement('div');\n",
              "          docLink.innerHTML = docLinkHtml;\n",
              "          element.appendChild(docLink);\n",
              "        }\n",
              "      </script>\n",
              "    </div>\n",
              "  </div>\n",
              "  "
            ],
            "text/plain": [
              "    item(t-29)  store(t-29)  sales(t-29)  item(t-28)  store(t-28)  \\\n",
              "29         1.0          1.0         19.0         1.0          1.0   \n",
              "30         1.0          1.0         15.0         1.0          1.0   \n",
              "31         1.0          1.0         10.0         1.0          1.0   \n",
              "32         1.0          1.0         16.0         1.0          1.0   \n",
              "33         1.0          1.0         14.0         1.0          1.0   \n",
              "\n",
              "    sales(t-28)  item(t-27)  store(t-27)  sales(t-27)  item(t-26)  ...  \\\n",
              "29         15.0         1.0          1.0         10.0         1.0  ...   \n",
              "30         10.0         1.0          1.0         16.0         1.0  ...   \n",
              "31         16.0         1.0          1.0         14.0         1.0  ...   \n",
              "32         14.0         1.0          1.0         24.0         1.0  ...   \n",
              "33         24.0         1.0          1.0         14.0         1.0  ...   \n",
              "\n",
              "    sales(t-2)  item(t-1)  store(t-1)  sales(t-1)  item(t)  store(t)  \\\n",
              "29        16.0        1.0         1.0        24.0        1         1   \n",
              "30        24.0        1.0         1.0         9.0        1         1   \n",
              "31         9.0        1.0         1.0        17.0        1         1   \n",
              "32        17.0        1.0         1.0        15.0        1         1   \n",
              "33        15.0        1.0         1.0        17.0        1         1   \n",
              "\n",
              "    sales(t)  item(t+90)  store(t+90)  sales(t+90)  \n",
              "29       9.0         1.0          1.0         33.0  \n",
              "30      17.0         1.0          1.0         15.0  \n",
              "31      15.0         1.0          1.0         21.0  \n",
              "32      17.0         1.0          1.0         29.0  \n",
              "33      24.0         1.0          1.0         19.0  \n",
              "\n",
              "[5 rows x 93 columns]"
            ]
          },
          "execution_count": 63,
          "metadata": {},
          "output_type": "execute_result"
        }
      ],
      "source": [
        "window = 29\n",
        "lag = lag_size\n",
        "series3 = series_to_supervised(train_gp.drop('date', axis=1), window=window, lag=lag)\n",
        "series3.head()"
      ]
    },
    {
      "cell_type": "code",
      "execution_count": null,
      "metadata": {
        "id": "mxTV9zw2mmkM"
      },
      "outputs": [],
      "source": [
        "last_item = 'item(t-%d)' % window\n",
        "last_store = 'store(t-%d)' % window\n",
        "series3 = series3[(series3['store(t)'] == series3[last_store])]\n",
        "series3 = series3[(series3['item(t)'] == series3[last_item])]"
      ]
    },
    {
      "cell_type": "code",
      "execution_count": null,
      "metadata": {
        "id": "u6lFPLNxmxr8"
      },
      "outputs": [],
      "source": [
        "columns_to_drop = [('%s(t+%d)' % (col, lag)) for col in ['item', 'store']]\n",
        "for i in range(window, 0, -1):\n",
        "    columns_to_drop += [('%s(t-%d)' % (col, i)) for col in ['item', 'store']]\n",
        "series3.drop(columns_to_drop, axis=1, inplace=True)\n",
        "series3.drop(['item(t)', 'store(t)'], axis=1, inplace=True)"
      ]
    },
    {
      "cell_type": "code",
      "execution_count": null,
      "metadata": {
        "id": "K4_1VqRAnGkV"
      },
      "outputs": [],
      "source": [
        "labels_col = 'sales(t+%d)' % lag_size\n",
        "labels = series3[labels_col]\n",
        "series3 = series3.drop(labels_col, axis=1)"
      ]
    },
    {
      "cell_type": "code",
      "execution_count": null,
      "metadata": {
        "colab": {
          "base_uri": "https://localhost:8080/",
          "height": 53
        },
        "id": "Irslix5InTby",
        "outputId": "a925f3ec-ecab-4907-9db3-77ee5ed9712c"
      },
      "outputs": [
        {
          "data": {
            "application/vnd.google.colaboratory.intrinsic+json": {
              "type": "string"
            },
            "text/plain": [
              "\"\\nX_train, X_valid, Y_train, Y_valid = train_test_split(series3, labels.values, test_size=0.4, random_state=0)\\nprint('Train set shape', X_train.shape)\\nprint('Validation set shape', X_valid.shape)\\nX_train.head()\\n\""
            ]
          },
          "execution_count": 61,
          "metadata": {},
          "output_type": "execute_result"
        }
      ],
      "source": [
        "'''\n",
        "X_train, X_valid, Y_train, Y_valid = train_test_split(series3, labels.values, test_size=0.4, random_state=0)\n",
        "print('Train set shape', X_train.shape)\n",
        "print('Validation set shape', X_valid.shape)\n",
        "X_train.head()\n",
        "'''"
      ]
    },
    {
      "cell_type": "markdown",
      "metadata": {
        "id": "bz7jNWKHrlKG"
      },
      "source": [
        "# 3. Masking"
      ]
    },
    {
      "cell_type": "markdown",
      "metadata": {
        "id": "8swO-o1Zr12Q"
      },
      "source": [
        "**Look-Ahead Mask**\n",
        "\n",
        "In training, you will have access to the complete correct output of your training example. The look-ahead mask helps your model pretend that it correctly predicted a part of the output and see if, without looking ahead, it can correctly predict the next output.\n",
        "\n",
        "For example, if the expected correct output is [1, 2, 3] and you wanted to see if given that the model correctly predicted the first value it could predict the second value, you would mask out the second and third values. So you would input the masked sequence [1, -1e9, -1e9] and see if it could generate [1, 2, -1e9]."
      ]
    },
    {
      "cell_type": "code",
      "execution_count": null,
      "metadata": {
        "id": "aKOx9QhrrzMT"
      },
      "outputs": [],
      "source": [
        "def create_look_ahead_mask(size):\n",
        "    \"\"\"\n",
        "    Returns an upper triangular matrix filled with ones\n",
        "    \n",
        "    Arguments:\n",
        "        size -- matrix size\n",
        "    \n",
        "    Returns:\n",
        "        mask -- (size, size) tensor\n",
        "    \"\"\"\n",
        "    mask = tf.linalg.band_part(tf.ones((size, size)), -1, 0)\n",
        "    return mask "
      ]
    },
    {
      "cell_type": "markdown",
      "metadata": {
        "id": "OWKr_hHIKFzf"
      },
      "source": [
        "# SpecNorm"
      ]
    },
    {
      "cell_type": "code",
      "execution_count": null,
      "metadata": {
        "id": "TToPxcxxKJ3w"
      },
      "outputs": [],
      "source": [
        "from tensorflow.python.eager import def_function\n",
        "from tensorflow.python.framework import dtypes\n",
        "from tensorflow.python.framework import tensor_shape\n",
        "from tensorflow.python.keras import backend as K\n",
        "from tensorflow.python.keras import layers\n",
        "from tensorflow.python.keras import initializers\n",
        "from tensorflow.python.ops import array_ops\n",
        "from tensorflow.python.ops import math_ops\n",
        "# import tensorflow as tf\n",
        "class SpectralNormalization(tf.keras.layers.Wrapper):\n",
        "    \"\"\"\n",
        "    Attributes:\n",
        "       layer: tensorflow keras layers (with kernel attribute)\n",
        "    \"\"\"\n",
        "\n",
        "    def __init__(self, layer, **kwargs):\n",
        "        super(SpectralNormalization, self).__init__(layer, **kwargs)\n",
        "\n",
        "    def build(self, input_shape):\n",
        "        \"\"\"Build `Layer`\"\"\"\n",
        "\n",
        "        if not self.layer.built:\n",
        "            self.layer.build(input_shape)\n",
        "\n",
        "        if not hasattr(self.layer, 'kernel'):\n",
        "            raise ValueError(\n",
        "                '`SpectralNormalization` must wrap a layer that'\n",
        "                ' contains a `kernel` for weights')\n",
        "        if hasattr(self.layer, 'recurrent_kernel'):\n",
        "            print(\"YAYYYYYYYYY\")\n",
        "\n",
        "        self.w = self.layer.kernel\n",
        "        self.w_shape = self.w.shape.as_list()\n",
        "        self.u = self.add_weight(\n",
        "            shape=tuple([1, self.w_shape[-1]]),\n",
        "            initializer=initializers.TruncatedNormal(stddev=0.02),\n",
        "            name='sn_u',\n",
        "            trainable=False,\n",
        "            dtype=dtypes.float32)\n",
        "\n",
        "        super(SpectralNormalization, self).build()\n",
        "\n",
        "    @def_function.function\n",
        "    def call(self, inputs, training=None):\n",
        "        \"\"\"Call `Layer`\"\"\"\n",
        "        if training is None:\n",
        "            training = K.learning_phase()\n",
        "        \n",
        "        if training==True:\n",
        "            # Recompute weights for each forward pass\n",
        "            self._compute_weights()\n",
        "        \n",
        "        output = self.layer(inputs)\n",
        "        return output\n",
        "\n",
        "    def _compute_weights(self):\n",
        "        \"\"\"Generate normalized weights.\n",
        "        This method will update the value of self.layer.kernel with the\n",
        "        normalized value, so that the layer is ready for call().\n",
        "        \"\"\"\n",
        "        w_reshaped = array_ops.reshape(self.w, [-1, self.w_shape[-1]])\n",
        "        eps = 1e-12\n",
        "        _u = array_ops.identity(self.u)\n",
        "        _v = math_ops.matmul(_u, array_ops.transpose(w_reshaped))\n",
        "        _v = _v / math_ops.maximum(math_ops.reduce_sum(_v**2)**0.5, eps)\n",
        "        _u = math_ops.matmul(_v, w_reshaped)\n",
        "        _u = _u / math_ops.maximum(math_ops.reduce_sum(_u**2)**0.5, eps)\n",
        "\n",
        "        self.u.assign(_u)\n",
        "        sigma = math_ops.matmul(math_ops.matmul(_v, w_reshaped), array_ops.transpose(_u))\n",
        "\n",
        "        self.layer.kernel.assign(self.w / sigma)\n",
        "\n",
        "    def compute_output_shape(self, input_shape):\n",
        "        return tensor_shape.TensorShape(\n",
        "            self.layer.compute_output_shape(input_shape).as_list())\n",
        "\n",
        "class SpectralNormalization_RNN(tf.keras.layers.Wrapper):\n",
        "    \"\"\"\n",
        "    Attributes:\n",
        "       layer: tensorflow keras layers (with kernel attribute)\n",
        "    \"\"\"\n",
        "\n",
        "    def __init__(self, layer, **kwargs):\n",
        "        super(SpectralNormalization_RNN, self).__init__(layer, **kwargs)\n",
        "\n",
        "    def build(self, input_shape):\n",
        "        \"\"\"Build `Layer`\"\"\"\n",
        "\n",
        "        if not self.layer.built:\n",
        "            self.layer.build(input_shape)\n",
        "\n",
        "        if not hasattr(self.layer, 'kernel'):\n",
        "            raise ValueError(\n",
        "                '`SpectralNormalization` must wrap a layer that'\n",
        "                ' contains a `kernel` for weights')\n",
        "            \n",
        "        self.w = self.layer.kernel\n",
        "        self.w2 = self.layer.recurrent_kernel\n",
        "\n",
        "        self.w_shape = self.w.shape.as_list()\n",
        "        self.w2_shape = self.w2.shape.as_list()\n",
        "\n",
        "        self.u = self.add_weight(\n",
        "            shape=tuple([1, self.w_shape[-1]]),\n",
        "            initializer=initializers.TruncatedNormal(stddev=0.02),\n",
        "            name='sn_u',\n",
        "            trainable=False,\n",
        "            dtype=dtypes.float32)\n",
        "        self.u2 = self.add_weight(\n",
        "            shape=tuple([1, self.w2_shape[-1]]),\n",
        "            initializer=initializers.TruncatedNormal(stddev=0.02),\n",
        "            name='sn_u2',\n",
        "            trainable=False,\n",
        "            dtype=dtypes.float32)\n",
        "\n",
        "        super(SpectralNormalization_RNN, self).build()\n",
        "\n",
        "    @def_function.function\n",
        "    def call(self, inputs, training=None):\n",
        "        \"\"\"Call `Layer`\"\"\"\n",
        "        if training is None:\n",
        "            training = K.learning_phase()\n",
        "        \n",
        "        if training==True:\n",
        "            # Recompute weights for each forward pass\n",
        "            self._compute_weights()\n",
        "        \n",
        "        output = self.layer(inputs)\n",
        "        return output\n",
        "\n",
        "    def _compute_weights(self,it=5):\n",
        "        \"\"\"Generate normalized weights.\n",
        "        This method will update the value of self.layer.kernel with the\n",
        "        normalized value, so that the layer is ready for call().\n",
        "        \"\"\"\n",
        "        # w = tf.reshape(self.w, [-1, self.w_shape[-1]])\n",
        "        # u = self.u\n",
        "\n",
        "        # for _ in range(it):\n",
        "        #     v = tf.math.l2_normalize(tf.matmul(u, w, transpose_b=True))\n",
        "        #     u = tf.math.l2_normalize(tf.matmul(v, w))\n",
        "\n",
        "        # sigma = tf.matmul(tf.matmul(v, w), u, transpose_b=True)\n",
        "\n",
        "        # self.layer.kernel.assign(self.w / sigma)\n",
        "        # self.u.assign(u)\n",
        "\n",
        "        # w = tf.reshape(self.w2, [-1, self.w2_shape[-1]])\n",
        "        # u = self.u2\n",
        "\n",
        "        # for _ in range(it):\n",
        "        #     v = tf.math.l2_normalize(tf.matmul(u, w, transpose_b=True))\n",
        "        #     u = tf.math.l2_normalize(tf.matmul(v, w))\n",
        "\n",
        "        # sigma = tf.matmul(tf.matmul(v, w), u, transpose_b=True)\n",
        "\n",
        "        # self.layer.recurrent_kernel.assign(self.w2 / sigma)\n",
        "        # self.u2.assign(u)\n",
        "\n",
        "\n",
        "        w_reshaped = array_ops.reshape(self.w, [-1, self.w_shape[-1]])\n",
        "        eps = 1e-12\n",
        "        _u = self.u\n",
        "        for i in range(it):\n",
        "            _u = array_ops.identity(_u)\n",
        "            _v = math_ops.matmul(_u, array_ops.transpose(w_reshaped))\n",
        "            _v = _v / math_ops.maximum(math_ops.reduce_sum(_v**2)**0.5, eps)\n",
        "            _u = math_ops.matmul(_v, w_reshaped)\n",
        "            _u = _u / math_ops.maximum(math_ops.reduce_sum(_u**2)**0.5, eps)\n",
        "        \n",
        "        self.u.assign(_u)\n",
        "        sigma = math_ops.matmul(math_ops.matmul(_v, w_reshaped), array_ops.transpose(_u))\n",
        "\n",
        "        \n",
        "\n",
        "        w2_reshaped = array_ops.reshape(self.w2, [-1, self.w2_shape[-1]])\n",
        "        eps = 1e-12\n",
        "        _u2 = self.u2\n",
        "        for i in range(it):\n",
        "            _u2 = array_ops.identity(_u2)\n",
        "            _v2 = math_ops.matmul(_u2, array_ops.transpose(w2_reshaped))\n",
        "            _v2 = _v2 / math_ops.maximum(math_ops.reduce_sum(_v2**2)**0.5, eps)\n",
        "            _u2 = math_ops.matmul(_v2, w2_reshaped)\n",
        "            _u2 = _u2 / math_ops.maximum(math_ops.reduce_sum(_u2**2)**0.5, eps)\n",
        "\n",
        "        self.u2.assign(_u2)\n",
        "        sigma = math_ops.matmul(math_ops.matmul(_v2, w2_reshaped), array_ops.transpose(_u2))\n",
        "\n",
        "        \n",
        "\n",
        "    def compute_output_shape(self, input_shape):\n",
        "        return tensor_shape.TensorShape(\n",
        "            self.layer.compute_output_shape(input_shape).as_list())"
      ]
    },
    {
      "cell_type": "markdown",
      "metadata": {
        "id": "FAxaRS21KUw8"
      },
      "source": [
        "# 4. Model Sendiri"
      ]
    },
    {
      "cell_type": "markdown",
      "metadata": {
        "id": "akrFv_sbciwK"
      },
      "source": [
        "  \"The use of self-attention paired with traditional convolutional networks allows for the parallization which speeds up training. You will implement **scaled dot product attention** which takes in a query, key, value, and a mask as inputs to returns rich, attention-based vector representations of the words in your sequence. This type of self-attention can be mathematically expressed as:"
      ]
    },
    {
      "cell_type": "markdown",
      "metadata": {
        "id": "SCtvTdwKc-ES"
      },
      "source": [
        "![image.png](data:image/png;base64,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)"
      ]
    },
    {
      "cell_type": "code",
      "execution_count": null,
      "metadata": {
        "id": "tFHfJ2ihKWdM"
      },
      "outputs": [],
      "source": [
        "def scaled_dot_product_attention(q, k, v, mask):\n",
        "    \"\"\"\n",
        "    Calculate the attention weights.\n",
        "      q, k, v must have matching leading dimensions.\n",
        "      k, v must have matching penultimate dimension, i.e.: seq_len_k = seq_len_v.\n",
        "      The mask has different shapes depending on its type(padding or look ahead) \n",
        "      but it must be broadcastable for addition.\n",
        "\n",
        "    Arguments:\n",
        "        q -- query shape == (..., seq_len_q, depth)\n",
        "        k -- key shape == (..., seq_len_k, depth)\n",
        "        v -- value shape == (..., seq_len_v, depth_v)\n",
        "        mask: Float tensor with shape broadcastable \n",
        "              to (..., seq_len_q, seq_len_k). Defaults to None.\n",
        "\n",
        "    Returns:\n",
        "        output -- attention_weights\n",
        "    \"\"\"\n",
        "    \n",
        "    # Q*K'\n",
        "    matmul_qk = tf.matmul(q, k, transpose_b=True)\n",
        "\n",
        "    # scale matmul_qk\n",
        "    dk = tf.cast(tf.shape(k)[-1], tf.float32)\n",
        "    scaled_attention_logits = matmul_qk / tf.math.sqrt(dk)\n",
        "\n",
        "    # add the mask to the scaled tensor.\n",
        "    if mask is not None:\n",
        "        scaled_attention_logits += (mask * -1e9)\n",
        "\n",
        "    # softmax is normalized on the last axis (seq_len_k) so that the scores\n",
        "    # add up to 1.\n",
        "    attention_weights = tf.nn.softmax(scaled_attention_logits, axis=-1)  # (..., seq_len_q, seq_len_k)\n",
        "    # attention_weights * V\n",
        "    output = tf.matmul(attention_weights, v)   # (..., seq_len_q, depth_v)\n",
        "\n",
        "    return output, attention_weights"
      ]
    },
    {
      "cell_type": "markdown",
      "metadata": {
        "id": "5jxgfAr1l6Dg"
      },
      "source": [
        "Feed forward neural network contains two Dense layers which we'll implement as the function FullyConnected\n",
        "Your input sentence first passes through a multi-head attention layer, where the encoder looks at other words in the input sentence as it encodes a specific word. The outputs of the multi-head attention layer are then fed to a feed forward neural network. The exact same feed forward network is independently applied to each position."
      ]
    },
    {
      "cell_type": "code",
      "execution_count": null,
      "metadata": {
        "id": "e0CVraafly4t"
      },
      "outputs": [],
      "source": [
        "def FullyConnected(embedding_dim, fully_connected_dim):\n",
        "    return tf.keras.Sequential([\n",
        "        tf.keras.layers.Dense(fully_connected_dim, activation='relu'),  # (batch_size, seq_len, dff)\n",
        "        tf.keras.layers.Dense(embedding_dim)  # (batch_size, seq_len, d_model)\n",
        "    ])"
      ]
    },
    {
      "cell_type": "markdown",
      "metadata": {
        "id": "onZqYgp7mdV5"
      },
      "source": [
        "## Encoder Layer"
      ]
    },
    {
      "cell_type": "code",
      "execution_count": null,
      "metadata": {
        "id": "WcQSJaGrl0kl"
      },
      "outputs": [],
      "source": [
        "class EncoderLayer(tf.keras.layers.Layer):\n",
        "    \"\"\"\n",
        "    The encoder layer is composed by a multi-head self-attention mechanism,\n",
        "    followed by a simple, positionwise fully connected feed-forward network. \n",
        "    This archirecture includes a residual connection around each of the two \n",
        "    sub-layers, followed by layer normalization.\n",
        "    \"\"\"\n",
        "    def __init__(self, embedding_dim, num_heads, fully_connected_dim, dropout_rate=0.1, layernorm_eps=1e-6, spec_norm=False):\n",
        "        super(EncoderLayer, self).__init__()\n",
        "        self.spec_norm = spec_norm\n",
        "        self.mha = tf.keras.layers.MultiHeadAttention(num_heads=num_heads,\n",
        "                                      key_dim=embedding_dim)\n",
        "\n",
        "        self.ffn = FullyConnected(embedding_dim=embedding_dim,\n",
        "                                  fully_connected_dim=fully_connected_dim)\n",
        "        \n",
        "        self.ff_conv1D_1 = tf.keras.layers.Conv1D(filters=self.ff_dim, kernel_size=1, activation='relu')\n",
        "        self.ff_conv1D_2 = tf.keras.layers.Conv1D(filters=7, kernel_size=1) # input_shape[0]=(batch, seq_len, 7), input_shape[0][-1]=7 \n",
        "\n",
        "        self.layernorm1 = tf.keras.layers.LayerNormalization(epsilon=layernorm_eps)\n",
        "        self.layernorm2 = tf.keras.layers.LayerNormalization(epsilon=layernorm_eps)\n",
        "\n",
        "        self.dropout1 = tf.keras.layers.Dropout(dropout_rate)\n",
        "        self.dropout2 = tf.keras.layers.Dropout(dropout_rate)\n",
        "    \n",
        "    def call(self, x, training, mask):\n",
        "        \"\"\"\n",
        "        Forward pass for the Encoder Layer\n",
        "        \n",
        "        Arguments:\n",
        "            x -- Tensor of shape (batch_size, input_seq_len, embedding_dim)\n",
        "            training -- Boolean, set to true to activate\n",
        "                        the training mode for dropout layers\n",
        "            mask -- Boolean mask to ensure that the padding is not \n",
        "                    treated as part of the input\n",
        "        Returns:\n",
        "            out2 -- Tensor of shape (batch_size, input_seq_len, embedding_dim)\n",
        "        \"\"\"\n",
        "        # calculate self-attention using mha(~1 line)\n",
        "        #-> To compute self-attention Q, V and K should be the same (x)\n",
        "        self_attn_output = self.mha(x, x, x, mask) # Self attention (batch_size, input_seq_len, embedding_dim)\n",
        "        \n",
        "        # apply dropout layer to the self-attention output (~1 line)\n",
        "        self_attn_output = self.dropout1(self_attn_output, training=training)\n",
        "        \n",
        "        # apply layer normalization on sum of the input and the attention output to get the  \n",
        "        # output of the multi-head attention layer (~1 line)\n",
        "        mult_attn_out = self.layernorm1(x + self_attn_output)  # (batch_size, input_seq_len, embedding_dim)\n",
        "\n",
        "        # pass the output of the multi-head attention layer through a ffn (~1 line)\n",
        "        ffn_output = self.ffn(mult_attn_out)  # (batch_size, input_seq_len, embedding_dim)\n",
        "        \n",
        "        # apply dropout layer to ffn output (~1 line)\n",
        "        ffn_output = self.dropout2(ffn_output, training=training)\n",
        "        \n",
        "        # apply layer normalization on sum of the output from multi-head attention and ffn output to get the\n",
        "        # output of the encoder layer (~1 line)\n",
        "        encoder_layer_out = self.layernorm2(ffn_output + mult_attn_out)  # (batch_size, input_seq_len, embedding_dim)\n",
        "        \n",
        "        return encoder_layer_out"
      ]
    },
    {
      "cell_type": "code",
      "execution_count": null,
      "metadata": {
        "id": "iTCMipLR3N-a"
      },
      "outputs": [],
      "source": [
        "class Encoder(tf.keras.layers.Layer):\n",
        "    \"\"\"\n",
        "    The entire Encoder starts by passing the input to an embedding layer \n",
        "    and using positional encoding to then pass the output through a stack of\n",
        "    encoder Layers\n",
        "        \n",
        "    \"\"\"   \n",
        "    def __init__(self, num_layers, embedding_dim, num_heads, fully_connected_dim, dropout_rate=0.1, layernorm_eps=1e-6, spec_norm=False): #(self, num_layers, embedding_dim, num_heads, fully_connected_dim, input_vocab_size, maximum_position_encoding, dropout_rate=0.1, layernorm_eps=1e-6, spec_norm=False)\n",
        "        super(Encoder, self).__init__()\n",
        "\n",
        "        if spec_norm:\n",
        "          self.spec_norm = SpectralNormalization\n",
        "        else:\n",
        "          self.spec_norm = lambda x:x\n",
        "\n",
        "        self.embedding_dim = embedding_dim\n",
        "        self.num_layers = num_layers\n",
        "\n",
        "        self.time_embedding = Time2Vector(embedding_dim)\n",
        "\n",
        "        #self.embedding = TimeDistributed(self.spec_norm(tf.keras.layers.Dense(d_model,kernel_initializer = tf.keras.initializers.Orthogonal())))\n",
        "\n",
        "        \"\"\"self.enc_layers = [EncoderLayer(embedding_dim=self.embedding_dim,\n",
        "                                        num_heads=num_heads,\n",
        "                                        fully_connected_dim=fully_connected_dim,\n",
        "                                        dropout_rate=dropout_rate,\n",
        "                                        layernorm_eps=layernorm_eps, spec_norm) \n",
        "                           for _ in range(self.num_layers)]\"\"\"\n",
        "\n",
        "        self.dropout = tf.keras.layers.Dropout(dropout_rate)\n",
        "        \n",
        "    def call(self, x, training, mask):\n",
        "        \"\"\"\n",
        "        Forward pass for the Encoder\n",
        "        \n",
        "        Arguments:\n",
        "            x -- Tensor of shape (batch_size, input_seq_len)\n",
        "            training -- Boolean, set to true to activate\n",
        "                        the training mode for dropout layers\n",
        "            mask -- Boolean mask to ensure that the padding is not \n",
        "                    treated as part of the input\n",
        "        Returns:\n",
        "            out2 -- Tensor of shape (batch_size, input_seq_len, embedding_dim)\n",
        "        \"\"\"\n",
        "\n",
        "        seq_len = tf.shape(x)[1]\n",
        "        \n",
        "        # START CODE HERE\n",
        "        # Pass input through the Embedding layer\n",
        "        #x = self.embedding(x)  # (batch_size, input_seq_len, embedding_dim)\n",
        "        # Scale embedding by multiplying it by the square root of the embedding dimension\n",
        "        #x *= tf.math.sqrt(tf.cast(self.embedding_dim,tf.float32))\n",
        "        # Add the position encoding to embedding\n",
        "        #x += self.pos_encoding[:, :seq_len, :]\n",
        "        x = self.time_embedding(x)\n",
        "        # Pass the encoded embedding through a dropout layer\n",
        "        x = self.dropout(x, training=training)\n",
        "        # Pass the output through the stack of encoding layers \n",
        "        for i in range(self.num_layers):\n",
        "            x = self.enc_layers[i](x,training, mask)\n",
        "        # END CODE HERE\n",
        "\n",
        "        return x  # (batch_size, input_seq_len, embedding_dim)"
      ]
    },
    {
      "cell_type": "markdown",
      "metadata": {
        "id": "B7QXHArB06iQ"
      },
      "source": [
        "## DecoderLayer"
      ]
    },
    {
      "cell_type": "code",
      "execution_count": null,
      "metadata": {
        "id": "JSU_L1vf0-Rb"
      },
      "outputs": [],
      "source": [
        "class DecoderLayer(tf.keras.layers.Layer):\n",
        "    \"\"\"\n",
        "    The decoder layer is composed by two multi-head attention blocks, \n",
        "    one that takes the new input and uses self-attention, and the other \n",
        "    one that combines it with the output of the encoder, followed by a\n",
        "    fully connected block. \n",
        "    \"\"\"\n",
        "    def __init__(self, embedding_dim, num_heads, fully_connected_dim, dropout_rate=0.1, layernorm_eps=1e-6):\n",
        "        super(DecoderLayer, self).__init__()\n",
        "\n",
        "        self.mha1 = tf.keras.layers.MultiHeadAttention(num_heads=num_heads,\n",
        "                                      key_dim=embedding_dim)\n",
        "\n",
        "        self.mha2 = tf.keras.layers.MultiHeadAttention(num_heads=num_heads,\n",
        "                                      key_dim=embedding_dim)\n",
        "\n",
        "        self.ffn = FullyConnected(embedding_dim=embedding_dim,\n",
        "                                  fully_connected_dim=fully_connected_dim)\n",
        "\n",
        "        self.layernorm1 = tf.keras.layers.LayerNormalization(epsilon=layernorm_eps)\n",
        "        self.layernorm2 = tf.keras.layers.LayerNormalization(epsilon=layernorm_eps)\n",
        "        self.layernorm3 = tf.keras.layers.LayerNormalization(epsilon=layernorm_eps)\n",
        "\n",
        "        self.dropout1 = tf.keras.layers.Dropout(dropout_rate)\n",
        "        self.dropout2 = tf.keras.layers.Dropout(dropout_rate)\n",
        "        self.dropout3 = tf.keras.layers.Dropout(dropout_rate)\n",
        "    \n",
        "    def call(self, x, enc_output, training, look_ahead_mask, padding_mask):\n",
        "        \"\"\"\n",
        "        Forward pass for the Decoder Layer\n",
        "        \n",
        "        Arguments:\n",
        "            x -- Tensor of shape (batch_size, target_seq_len, embedding_dim)\n",
        "            enc_output --  Tensor of shape(batch_size, input_seq_len, embedding_dim)\n",
        "            training -- Boolean, set to true to activate\n",
        "                        the training mode for dropout layers\n",
        "            look_ahead_mask -- Boolean mask for the target_input\n",
        "            padding_mask -- Boolean mask for the second multihead attention layer\n",
        "        Returns:\n",
        "            out3 -- Tensor of shape (batch_size, target_seq_len, embedding_dim)\n",
        "            attn_weights_block1 -- Tensor of shape(batch_size, num_heads, target_seq_len, input_seq_len)\n",
        "            attn_weights_block2 -- Tensor of shape(batch_size, num_heads, target_seq_len, input_seq_len)\n",
        "        \"\"\"\n",
        "        # enc_output.shape == (batch_size, input_seq_len, embedding_dim)\n",
        "        \n",
        "        # BLOCK 1\n",
        "        # calculate self-attention and return attention scores as attn_weights_block1 (~1 line)\n",
        "        attn1, attn_weights_block1 = self.mha1(x, x, x,look_ahead_mask, return_attention_scores=True)  # (batch_size, target_seq_len, d_model)\n",
        "        \n",
        "        # apply dropout layer on the attention output (~1 line)\n",
        "        attn1 = self.dropout1(attn1, training = training)\n",
        "        \n",
        "        # apply layer normalization to the sum of the attention output and the input (~1 line)\n",
        "        out1 = self.layernorm1(attn1 + x)\n",
        "\n",
        "        # BLOCK 2\n",
        "        # calculate self-attention using the Q from the first block and K and V from the encoder output.\n",
        "        # MultiHeadAttention's call takes input (Query, Value, Key, attention_mask, return_attention_scores, training)\n",
        "        # Return attention scores as attn_weights_block2 (~1 line)\n",
        "        attn2, attn_weights_block2 = self.mha2( out1,enc_output, enc_output, padding_mask, return_attention_scores=True)  # (batch_size, target_seq_len, d_model)\n",
        "        \n",
        "        # apply dropout layer on the attention output (~1 line)\n",
        "        attn2 = self.dropout2(attn2, training=training)\n",
        "        \n",
        "        # apply layer normalization to the sum of the attention output and the output of the first block (~1 line)\n",
        "        out2 = self.layernorm2(attn2 + out1)  # (batch_size, target_seq_len, embedding_dim)\n",
        "        \n",
        "        #BLOCK 3\n",
        "        # pass the output of the second block through a ffn\n",
        "        ffn_output = self.ffn(out2) # (batch_size, target_seq_len, embedding_dim)\n",
        "        \n",
        "        # apply a dropout layer to the ffn output\n",
        "        ffn_output = self.dropout3(ffn_output, training=training)\n",
        "        \n",
        "        # apply layer normalization to the sum of the ffn output and the output of the second block\n",
        "        out3 =  self.layernorm3(ffn_output + out2) # (batch_size, target_seq_len, embedding_dim)\n",
        "\n",
        "        return out3, attn_weights_block1, attn_weights_block2"
      ]
    },
    {
      "cell_type": "code",
      "execution_count": null,
      "metadata": {
        "id": "nw0dqXj_3BKT"
      },
      "outputs": [],
      "source": [
        "class Decoder(tf.keras.layers.Layer):\n",
        "    \"\"\"\n",
        "    The entire Encoder is starts by passing the target input to an embedding layer \n",
        "    and using positional encoding to then pass the output through a stack of\n",
        "    decoder Layers\n",
        "        \n",
        "    \"\"\" \n",
        "    def __init__(self, num_layers, embedding_dim, num_heads, fully_connected_dim, dropout_rate=0.1, layernorm_eps=1e-6):\n",
        "      #(self, num_layers, embedding_dim, num_heads, fully_connected_dim, target_vocab_size, maximum_position_encoding, dropout_rate=0.1, layernorm_eps=1e-6)\n",
        "        super(Decoder, self).__init__()\n",
        "\n",
        "        self.embedding_dim = embedding_dim\n",
        "        self.num_layers = num_layers\n",
        "\n",
        "        #self.embedding = TimeDistributed(tf.keras.layers.Dense(d_model,kernel_initializer = tf.keras.initializers.Orthogonal()))\n",
        "        self.time_embedding = Time2Vector(embedding_dim)\n",
        "\n",
        "        self.dec_layers = [DecoderLayer(embedding_dim=self.embedding_dim,\n",
        "                                        num_heads=num_heads,\n",
        "                                        fully_connected_dim=fully_connected_dim,\n",
        "                                        dropout_rate=dropout_rate,\n",
        "                                        layernorm_eps=layernorm_eps) \n",
        "                           for _ in range(self.num_layers)]\n",
        "        self.dropout = tf.keras.layers.Dropout(dropout_rate)\n",
        "    \n",
        "    def call(self, x, enc_output, training, \n",
        "           look_ahead_mask, padding_mask):\n",
        "        \"\"\"\n",
        "        Forward  pass for the Decoder\n",
        "        \n",
        "        Arguments:\n",
        "            x -- Tensor of shape (batch_size, target_seq_len, embedding_dim)\n",
        "            enc_output --  Tensor of shape(batch_size, input_seq_len, embedding_dim)\n",
        "            training -- Boolean, set to true to activate\n",
        "                        the training mode for dropout layers\n",
        "            look_ahead_mask -- Boolean mask for the target_input\n",
        "            padding_mask -- Boolean mask for the second multihead attention layer\n",
        "        Returns:\n",
        "            x -- Tensor of shape (batch_size, target_seq_len, embedding_dim)\n",
        "            attention_weights - Dictionary of tensors containing all the attention weights\n",
        "                                each of shape Tensor of shape (batch_size, num_heads, target_seq_len, input_seq_len)\n",
        "        \"\"\"\n",
        "\n",
        "        seq_len = tf.shape(x)[1]\n",
        "        attention_weights = {}\n",
        "        \n",
        "        # create word embeddings \n",
        "        #x = self.embedding(x)  # (batch_size, target_seq_len, embedding_dim)\n",
        "        \n",
        "        # scale embeddings by multiplying by the square root of their dimension\n",
        "        #x *= tf.math.sqrt(tf.cast(self.embedding_dim, tf.float32))\n",
        "        \n",
        "        # calculate positional encodings and add to word embedding\n",
        "        #x += self.pos_encoding[:, :seq_len, :]\n",
        "\n",
        "        x = self.time_embedding(x)\n",
        "        \n",
        "        # apply a dropout layer to x\n",
        "        x = self.dropout(x, training=training)\n",
        "\n",
        "        # use a for loop to pass x through a stack of decoder layers and update attention_weights (~4 lines total)\n",
        "        for i in range(self.num_layers):\n",
        "            # pass x and the encoder output through a stack of decoder layers and save the attention weights\n",
        "            # of block 1 and 2 (~1 line)\n",
        "            x, block1, block2 = self.dec_layers[i](x, enc_output, training, look_ahead_mask, padding_mask)\n",
        "\n",
        "            #update attention_weights dictionary with the attention weights of block 1 and block 2\n",
        "            attention_weights['decoder_layer{}_block1_self_att'.format(i+1)] = block1\n",
        "            attention_weights['decoder_layer{}_block2_decenc_att'.format(i+1)] = block2\n",
        "        # END CODE HERE\n",
        "        \n",
        "        # x.shape == (batch_size, target_seq_len, embedding_dim)\n",
        "        return x, attention_weights"
      ]
    },
    {
      "cell_type": "markdown",
      "metadata": {
        "id": "ygMI1FwGTMZy"
      },
      "source": [
        "## Model"
      ]
    },
    {
      "cell_type": "code",
      "execution_count": null,
      "metadata": {
        "id": "7pXSrSdS9CEy"
      },
      "outputs": [],
      "source": [
        "class Transformer(tf.keras.Model):\n",
        "    \"\"\"\n",
        "    Complete transformer with an Encoder and a Decoder\n",
        "    \"\"\"\n",
        "    def __init__(self, n_target_features, num_layers, embedding_dim, num_heads, fully_connected_dim, dropout_rate=0.1, layernorm_eps=1e-6):\n",
        "      #(self, num_layers, embedding_dim, num_heads, fully_connected_dim, input_vocab_size, \n",
        "               #target_vocab_size, max_positional_encoding_input,\n",
        "               #max_positional_encoding_target, dropout_rate=0.1, layernorm_eps=1e-6)\n",
        "        super(Transformer, self).__init__()\n",
        "\n",
        "        self.n_target_features = n_target_features\n",
        "\n",
        "        self.encoder = Encoder(num_layers=num_layers,\n",
        "                               embedding_dim=embedding_dim,\n",
        "                               num_heads=num_heads,\n",
        "                               fully_connected_dim=fully_connected_dim,\n",
        "                               dropout_rate=dropout_rate,\n",
        "                               layernorm_eps=layernorm_eps)\n",
        "        '''(num_layers=num_layers,\n",
        "                               embedding_dim=embedding_dim,\n",
        "                               num_heads=num_heads,\n",
        "                               fully_connected_dim=fully_connected_dim,\n",
        "                               input_vocab_size=input_vocab_size,\n",
        "                               maximum_position_encoding=max_positional_encoding_input,\n",
        "                               dropout_rate=dropout_rate,\n",
        "                               layernorm_eps=layernorm_eps)'''\n",
        "\n",
        "        self.decoder = Decoder(num_layers=num_layers, \n",
        "                               embedding_dim=embedding_dim,\n",
        "                               num_heads=num_heads,\n",
        "                               fully_connected_dim=fully_connected_dim,\n",
        "                               dropout_rate=dropout_rate,\n",
        "                               layernorm_eps=layernorm_eps)\n",
        "        '''\n",
        "        (num_layers=num_layers, \n",
        "                               embedding_dim=embedding_dim,\n",
        "                               num_heads=num_heads,\n",
        "                               fully_connected_dim=fully_connected_dim,\n",
        "                               target_vocab_size=target_vocab_size, \n",
        "                               maximum_position_encoding=max_positional_encoding_target,\n",
        "                               dropout_rate=dropout_rate,\n",
        "                               layernorm_eps=layernorm_eps)\n",
        "        '''\n",
        "\n",
        "        self.final_layer = tf.keras.layers.Dense(1, activation='linear')\n",
        "        #self.final_layer = tf.keras.layers.Dense(self.n_target_features, activation='linear')\n",
        "    \n",
        "    def call(self, inp, tar, training, enc_padding_mask, look_ahead_mask, dec_padding_mask):\n",
        "        \"\"\"\n",
        "        Forward pass for the entire Transformer\n",
        "        Arguments:\n",
        "            inp -- Tensor of shape (batch_size, input_seq_len, fully_connected_dim)\n",
        "            tar -- Tensor of shape (batch_size, target_seq_len, fully_connected_dim)\n",
        "            training -- Boolean, set to true to activate\n",
        "                        the training mode for dropout layers\n",
        "            enc_padding_mask -- Boolean mask to ensure that the padding is not \n",
        "                    treated as part of the input\n",
        "            look_ahead_mask -- Boolean mask for the target_input\n",
        "            padding_mask -- Boolean mask for the second multihead attention layer\n",
        "        Returns:\n",
        "            final_output -- Describe me\n",
        "            attention_weights - Dictionary of tensors containing all the attention weights for the decoder\n",
        "                                each of shape Tensor of shape (batch_size, num_heads, target_seq_len, input_seq_len)\n",
        "        \n",
        "        \"\"\"\n",
        "        # call self.encoder with the appropriate arguments to get the encoder output\n",
        "        look_ahead_mask = create_look_ahead_mask(tf.shape(tar)[1])\n",
        "        \n",
        "        enc_output = self.encoder(inp,training,enc_padding_mask) # (batch_size, inp_seq_len, fully_connected_dim)\n",
        "        \n",
        "        # call self.decoder with the appropriate arguments to get the decoder output\n",
        "        # dec_output.shape == (batch_size, tar_seq_len, fully_connected_dim)\n",
        "        dec_output = self.decoder(tar, enc_output, training, look_ahead_mask, None) #(tar, enc_output, training, look_ahead_mask, dec_padding_mask)\n",
        "        \n",
        "        # pass decoder output through a linear layer and softmax (~2 lines)\n",
        "        final_output = self.final_layer(dec_output)  # (batch_size, tar_seq_len, target_vocab_size)\n",
        "        # START CODE HERE\n",
        "\n",
        "        return final_output"
      ]
    },
    {
      "cell_type": "code",
      "execution_count": null,
      "metadata": {
        "id": "emAB6TXL64S7"
      },
      "outputs": [],
      "source": [
        "num_layers = 6\n",
        "embedding_dim = 4\n",
        "num_heads = 4\n",
        "fully_connected_dim = 8\n",
        "input_vocab_size = 30\n",
        "target_vocab_size = 35\n",
        "max_positional_encoding_input = 5\n",
        "max_positional_encoding_target = 6"
      ]
    },
    {
      "cell_type": "code",
      "execution_count": null,
      "metadata": {
        "id": "31YIPRKO2Obm"
      },
      "outputs": [],
      "source": [
        "xformer = Transformer(3, num_layers=4, num_heads=4, fully_connected_dim = 256, embedding_dim = 32)"
      ]
    },
    {
      "cell_type": "code",
      "execution_count": null,
      "metadata": {
        "colab": {
          "base_uri": "https://localhost:8080/",
          "height": 287
        },
        "id": "iIXBq34krhDA",
        "outputId": "96e24cc1-c3e5-4802-e458-484e85814be3"
      },
      "outputs": [
        {
          "ename": "ValueError",
          "evalue": "ignored",
          "output_type": "error",
          "traceback": [
            "\u001b[0;31m---------------------------------------------------------------------------\u001b[0m",
            "\u001b[0;31mValueError\u001b[0m                                Traceback (most recent call last)",
            "\u001b[0;32m<ipython-input-80-1e2ecbdc2c68>\u001b[0m in \u001b[0;36m<module>\u001b[0;34m\u001b[0m\n\u001b[0;32m----> 1\u001b[0;31m \u001b[0mxformer\u001b[0m\u001b[0;34m.\u001b[0m\u001b[0msummary\u001b[0m\u001b[0;34m(\u001b[0m\u001b[0;34m)\u001b[0m\u001b[0;34m\u001b[0m\u001b[0;34m\u001b[0m\u001b[0m\n\u001b[0m",
            "\u001b[0;32m/usr/local/lib/python3.7/dist-packages/keras/engine/training.py\u001b[0m in \u001b[0;36msummary\u001b[0;34m(self, line_length, positions, print_fn, expand_nested, show_trainable)\u001b[0m\n\u001b[1;32m   2868\u001b[0m     \u001b[0;32mif\u001b[0m \u001b[0;32mnot\u001b[0m \u001b[0mself\u001b[0m\u001b[0;34m.\u001b[0m\u001b[0mbuilt\u001b[0m\u001b[0;34m:\u001b[0m\u001b[0;34m\u001b[0m\u001b[0;34m\u001b[0m\u001b[0m\n\u001b[1;32m   2869\u001b[0m       raise ValueError(\n\u001b[0;32m-> 2870\u001b[0;31m           \u001b[0;34m'This model has not yet been built. '\u001b[0m\u001b[0;34m\u001b[0m\u001b[0;34m\u001b[0m\u001b[0m\n\u001b[0m\u001b[1;32m   2871\u001b[0m           \u001b[0;34m'Build the model first by calling `build()` or by calling '\u001b[0m\u001b[0;34m\u001b[0m\u001b[0;34m\u001b[0m\u001b[0m\n\u001b[1;32m   2872\u001b[0m           'the model on a batch of data.')\n",
            "\u001b[0;31mValueError\u001b[0m: This model has not yet been built. Build the model first by calling `build()` or by calling the model on a batch of data."
          ]
        }
      ],
      "source": [
        "xformer.summary()"
      ]
    },
    {
      "cell_type": "code",
      "execution_count": null,
      "metadata": {
        "id": "qpL6ySf3nR4N"
      },
      "outputs": [],
      "source": [
        "tf.random.normal(3,24,4)"
      ]
    },
    {
      "cell_type": "code",
      "execution_count": null,
      "metadata": {
        "id": "18os434D4W8H"
      },
      "outputs": [],
      "source": [
        "pred = xformer(tf.random.normal((1,24,4)),tf.random.normal((1,6,3)),False)\n",
        "# xformer.load_weights(\"xformer.h5\")\n",
        "print(pred.shape)\n",
        "xformer.summary()"
      ]
    },
    {
      "cell_type": "markdown",
      "metadata": {
        "id": "n4ov0cslu1jb"
      },
      "source": [
        "# 5. Model"
      ]
    },
    {
      "cell_type": "code",
      "execution_count": null,
      "metadata": {
        "id": "cwipihppvT50"
      },
      "outputs": [],
      "source": [
        "import tensorflow as tf\n",
        "import numpy as np\n",
        "from tensorflow.keras.layers import Attention"
      ]
    },
    {
      "cell_type": "code",
      "execution_count": null,
      "metadata": {
        "id": "w_eug9ZYu5Zd"
      },
      "outputs": [],
      "source": [
        "def create_padding_mask(seq):\n",
        "    seq = tf.cast(tf.math.equal(seq, 0), tf.float32)\n",
        "\n",
        "    # add extra dimensions to add the padding\n",
        "    # to the attention logits.\n",
        "    return seq[:, tf.newaxis, tf.newaxis, :]  # (batch_size, 1, 1, seq_len)\n",
        "\n",
        "@tf.function\n",
        "def create_look_ahead_mask(size):\n",
        "    mask = 1 - tf.linalg.band_part(tf.ones((size, size)), -1, 0)\n",
        "    return mask  # (seq_len, seq_len)\n",
        "\n",
        "\n",
        "def create_masks(inp, tar):\n",
        "  # Encoder padding mask\n",
        "    enc_padding_mask = create_padding_mask(inp)\n",
        "\n",
        "  # Used in the 2nd attention block in the decoder.\n",
        "  # This padding mask is used to mask the encoder outputs.\n",
        "    dec_padding_mask = create_padding_mask(inp)\n",
        "\n",
        "    # Used in the 1st attention block in the decoder.\n",
        "    # It is used to pad and mask future tokens in the input received by\n",
        "    # the decoder.\n",
        "    look_ahead_mask = create_look_ahead_mask(tf.shape(tar)[1])\n",
        "    dec_target_padding_mask = create_padding_mask(tar)\n",
        "    combined_mask = tf.maximum(dec_target_padding_mask, look_ahead_mask)\n",
        "\n",
        "    return enc_padding_mask, combined_mask, dec_padding_mask\n",
        "\n",
        "@tf.function  \n",
        "def scaled_dot_product_attention(q, k, v, mask):\n",
        "    \"\"\"Calculate the attention weights.\n",
        "    q, k, v must have matching leading dimensions.\n",
        "    k, v must have matching penultimate dimension, i.e.: seq_len_k = seq_len_v.\n",
        "    The mask has different shapes depending on its type(padding or look ahead)\n",
        "    but it must be broadcastable for addition.\n",
        "\n",
        "    Args:\n",
        "    q: query shape == (..., seq_len_q, depth)\n",
        "    k: key shape == (..., seq_len_k, depth)\n",
        "    v: value shape == (..., seq_len_v, depth_v)\n",
        "    mask: Float tensor with shape broadcastable\n",
        "          to (..., seq_len_q, seq_len_k). Defaults to None.\n",
        "\n",
        "    Returns:\n",
        "    output, attention_weights\n",
        "    \"\"\"\n",
        "\n",
        "    matmul_qk = tf.matmul(q, k, transpose_b=True)  # (..., seq_len_q, seq_len_k)\n",
        "\n",
        "    # scale matmul_qk\n",
        "    dk = tf.cast(tf.shape(k)[-1], tf.float32)\n",
        "    # dk = k.get_shape().as_list()[-1]\n",
        "    scaled_attention_logits = matmul_qk / tf.math.sqrt(dk)\n",
        "\n",
        "    # add the mask to the scaled tensor.\n",
        "    if mask is not None:\n",
        "        scaled_attention_logits += (mask * -1e9)\n",
        "\n",
        "    # softmax is normalized on the last axis (seq_len_k) so that the scores\n",
        "    # add up to 1.\n",
        "    attention_weights = tf.nn.softmax(scaled_attention_logits, axis=-1)  # (..., seq_len_q, seq_len_k)\n",
        "\n",
        "    output = tf.matmul(attention_weights, v)  # (..., seq_len_q, depth_v)\n",
        "\n",
        "    return output\n",
        "\n",
        "class MultiHeadAttention(tf.keras.layers.Layer):\n",
        "    def __init__(self, d_model, num_heads,spec_norm=False):\n",
        "        super(MultiHeadAttention, self).__init__()\n",
        "        self.kernel_init = tf.keras.initializers.Orthogonal()\n",
        "        self.num_heads = num_heads\n",
        "        self.d_model = d_model\n",
        "        if spec_norm:\n",
        "            self.spec_norm = SpectralNormalization\n",
        "        else:\n",
        "            self.spec_norm = lambda x: x\n",
        "\n",
        "        assert d_model % self.num_heads == 0\n",
        "\n",
        "        self.depth = d_model // self.num_heads\n",
        "\n",
        "        self.wq = self.spec_norm(tf.keras.layers.Dense(d_model,kernel_initializer=self.kernel_init))\n",
        "        self.wk = self.spec_norm(tf.keras.layers.Dense(d_model,kernel_initializer=self.kernel_init))\n",
        "        self.wv = self.spec_norm(tf.keras.layers.Dense(d_model,kernel_initializer=self.kernel_init))\n",
        "\n",
        "        self.dense = self.spec_norm(tf.keras.layers.Dense(d_model,kernel_initializer=self.kernel_init))\n",
        "        # self.attn_layer = Attention(use_scale=True)\n",
        "        \n",
        "    @tf.function   \n",
        "    def split_heads(self, x, batch_size):\n",
        "        \"\"\"Split the last dimension into (num_heads, depth).\n",
        "        Transpose the result such that the shape is (batch_size, num_heads, seq_len, depth)\n",
        "        \"\"\"\n",
        "        x = tf.reshape(x, (batch_size, -1, self.num_heads, self.depth))\n",
        "        return tf.transpose(x, perm=[0, 2, 1, 3])\n",
        "    \n",
        "    def call(self, v, k, q, mask):\n",
        "        batch_size = tf.shape(q)[0]\n",
        "\n",
        "        q = self.wq(q)  # (batch_size, seq_len, d_model)\n",
        "        k = self.wk(k)  # (batch_size, seq_len, d_model)\n",
        "        v = self.wv(v)  # (batch_size, seq_len, d_model)\n",
        "\n",
        "        q = self.split_heads(q, batch_size)  # (batch_size, num_heads, seq_len_q, depth)\n",
        "        k = self.split_heads(k, batch_size)  # (batch_size, num_heads, seq_len_k, depth)\n",
        "        v = self.split_heads(v, batch_size)  # (batch_size, num_heads, seq_len_v, depth)\n",
        "\n",
        "        # scaled_attention.shape == (batch_size, num_heads, seq_len_q, depth)\n",
        "        # attention_weights.shape == (batch_size, num_heads, seq_len_q, seq_len_k)\n",
        "        scaled_attention= scaled_dot_product_attention(q, k, v, mask)\n",
        "        # scaled_attention = self.attn_layer([q,v,k],[mask,None])\n",
        "        # attention_weights = None\n",
        "\n",
        "        scaled_attention = tf.transpose(scaled_attention, perm=[0, 2, 1, 3])  # (batch_size, seq_len_q, num_heads, depth)\n",
        "\n",
        "        concat_attention = tf.reshape(scaled_attention, (batch_size, -1, self.d_model))  # (batch_size, seq_len_q, d_model)\n",
        "\n",
        "        output = self.dense(concat_attention)  # (batch_size, seq_len_q, d_model)\n",
        "\n",
        "        return output\n",
        "    \n",
        "def point_wise_feed_forward_network(d_model, dff,spec_norm=False):\n",
        "    if spec_norm:\n",
        "        wrapper = SpectralNormalization\n",
        "    else:\n",
        "        wrapper = lambda x: x\n",
        "    kernel_init = tf.keras.initializers.Orthogonal()\n",
        "    return tf.keras.Sequential([\n",
        "      wrapper(tf.keras.layers.Dense(dff, activation='relu',kernel_initializer=kernel_init)),  # (batch_size, seq_len, dff)\n",
        "      wrapper(tf.keras.layers.Dense(d_model,kernel_initializer=kernel_init))  # (batch_size, seq_len, d_model)\n",
        "    ])\n",
        "\n",
        "class EncoderLayer(tf.keras.layers.Layer):\n",
        "    def __init__(self, d_model, num_heads, dff, rate=0.1,spec_norm=False):\n",
        "        super(EncoderLayer, self).__init__()\n",
        "        self.spec_norm = spec_norm\n",
        "        self.mha = MultiHeadAttention(d_model, num_heads,self.spec_norm)\n",
        "        self.ffn = point_wise_feed_forward_network(d_model, dff,self.spec_norm)\n",
        "\n",
        "        self.layernorm1 = tf.keras.layers.LayerNormalization(epsilon=1e-6)\n",
        "        self.layernorm2 = tf.keras.layers.LayerNormalization(epsilon=1e-6)\n",
        "\n",
        "        self.dropout1 = tf.keras.layers.Dropout(rate)\n",
        "        self.dropout2 = tf.keras.layers.Dropout(rate)\n",
        "         \n",
        "    def call(self, x, training, mask):\n",
        "\n",
        "        attn_output = self.mha(x, x, x, mask)  # (batch_size, input_seq_len, d_model)\n",
        "        attn_output = self.dropout1(attn_output, training=training)\n",
        "        out1 = self.layernorm1(x + attn_output)  # (batch_size, input_seq_len, d_model)\n",
        "\n",
        "        ffn_output = self.ffn(out1)  # (batch_size, input_seq_len, d_model)\n",
        "        ffn_output = self.dropout2(ffn_output, training=training)\n",
        "        out2 = self.layernorm2(out1 + ffn_output)  # (batch_size, input_seq_len, d_model)\n",
        "\n",
        "        return out2\n",
        "    \n",
        "class DecoderLayer(tf.keras.layers.Layer):\n",
        "    def __init__(self, d_model, num_heads, dff, rate=0.1):\n",
        "        super(DecoderLayer, self).__init__()\n",
        "\n",
        "        self.mha1 = MultiHeadAttention(d_model, num_heads)\n",
        "        self.mha2 = MultiHeadAttention(d_model, num_heads)\n",
        "\n",
        "        self.ffn = point_wise_feed_forward_network(d_model, dff)\n",
        "\n",
        "        self.layernorm1 = tf.keras.layers.LayerNormalization(epsilon=1e-6)\n",
        "        self.layernorm2 = tf.keras.layers.LayerNormalization(epsilon=1e-6)\n",
        "        self.layernorm3 = tf.keras.layers.LayerNormalization(epsilon=1e-6)\n",
        "\n",
        "        self.dropout1 = tf.keras.layers.Dropout(rate)\n",
        "        self.dropout2 = tf.keras.layers.Dropout(rate)\n",
        "        self.dropout3 = tf.keras.layers.Dropout(rate)\n",
        "        \n",
        "    def call(self, x, enc_output, training, look_ahead_mask, padding_mask):\n",
        "        # enc_output.shape == (batch_size, input_seq_len, d_model)\n",
        "\n",
        "        attn1= self.mha1(x, x, x, look_ahead_mask)  # (batch_size, target_seq_len, d_model)\n",
        "        attn1 = self.dropout1(attn1, training=training)\n",
        "        out1 = self.layernorm1(attn1 + x)\n",
        "\n",
        "        attn2 = self.mha2(enc_output, enc_output, out1, padding_mask)  # (batch_size, target_seq_len, d_model)\n",
        "        attn2 = self.dropout2(attn2, training=training)\n",
        "        out2 = self.layernorm2(attn2 + out1)  # (batch_size, target_seq_len, d_model)\n",
        "\n",
        "        ffn_output = self.ffn(out2)  # (batch_size, target_seq_len, d_model)\n",
        "        ffn_output = self.dropout3(ffn_output, training=training)\n",
        "        out3 = self.layernorm3(ffn_output + out2)  # (batch_size, target_seq_len, d_model)\n",
        "\n",
        "        return out3\n",
        "    \n",
        "from tensorflow.keras.layers import TimeDistributed\n",
        "class Encoder(tf.keras.layers.Layer):\n",
        "    def __init__(self, num_layers, d_model, num_heads, dff, rate=0.1,spec_norm=False):\n",
        "        super(Encoder, self).__init__()\n",
        "        \n",
        "        if spec_norm:\n",
        "            self.spec_norm = SpectralNormalization\n",
        "        else:\n",
        "            self.spec_norm = lambda x: x\n",
        "\n",
        "\n",
        "        self.d_model = d_model\n",
        "        self.num_layers = num_layers\n",
        "        \n",
        "        self.embedding = TimeDistributed(self.spec_norm(tf.keras.layers.Dense(d_model,kernel_initializer = tf.keras.initializers.Orthogonal())))\n",
        "        \n",
        "        self.enc_layers = [EncoderLayer(d_model, num_heads, dff, rate,spec_norm) for _ in range(num_layers)]\n",
        "\n",
        "        self.dropout = tf.keras.layers.Dropout(rate)\n",
        "        \n",
        "    def build(self, input_shape):\n",
        "        self.n_timesteps = input_shape.as_list()[1]\n",
        "        self.pos_encoding = positional_encoding(self.n_timesteps, self.d_model)\n",
        "           \n",
        "    def transform(self,x):\n",
        "        seq_len = x.get_shape().as_list()[1]\n",
        "\n",
        "        # adding embedding and position encoding.\n",
        "        x = self.embedding(x)  # (batch_size, input_seq_len, d_model)\n",
        "        # x *= tf.math.sqrt(tf.cast(self.d_model, tf.float32))\n",
        "        x = x * np.sqrt(self.d_model)\n",
        "        x = x + self.pos_encoding[:, :seq_len, :]\n",
        "        return x\n",
        "\n",
        "    def call(self, x, training, mask):\n",
        "\n",
        "        # seq_len = tf.shape(x)[1]\n",
        "\n",
        "        # adding embedding and position encoding.\n",
        "        # x = self.embedding(x)  # (batch_size, input_seq_len, d_model)\n",
        "        # x *= tf.math.sqrt(tf.cast(self.d_model, tf.float32))\n",
        "        # x = x * np.sqrt(self.d_model)\n",
        "        # x = x + self.pos_encoding[:, :seq_len, :]\n",
        "        x = self.transform(x)\n",
        "        x = self.dropout(x, training=training)\n",
        "\n",
        "        for i in range(self.num_layers):\n",
        "            x = self.enc_layers[i](x, training, mask)\n",
        "\n",
        "        return x  # (batch_size, input_seq_len, d_model)\n",
        "    \n",
        "class Decoder(tf.keras.layers.Layer):\n",
        "    def __init__(self, num_layers, d_model, num_heads, dff, rate=0.1):\n",
        "        super(Decoder, self).__init__()\n",
        "\n",
        "        self.d_model = d_model\n",
        "        self.num_layers = num_layers\n",
        "\n",
        "        self.embedding = TimeDistributed(tf.keras.layers.Dense(d_model,kernel_initializer = tf.keras.initializers.Orthogonal()))\n",
        "\n",
        "        self.dec_layers = [DecoderLayer(d_model, num_heads, dff, rate)\n",
        "                           for _ in range(num_layers)]\n",
        "        self.dropout = tf.keras.layers.Dropout(rate)\n",
        "        \n",
        "    def build(self, input_shape):\n",
        "        self.n_timesteps = input_shape.as_list()[1]\n",
        "        self.pos_encoding = positional_encoding(self.n_timesteps, self.d_model)\n",
        "\n",
        "    def call(self, x, enc_output, training, look_ahead_mask, padding_mask):\n",
        "\n",
        "        seq_len = tf.shape(x)[1]\n",
        "        attention_weights = {}\n",
        "\n",
        "        x = self.embedding(x)  # (batch_size, target_seq_len, d_model)\n",
        "        x *= tf.math.sqrt(tf.cast(self.d_model, tf.float32))\n",
        "        x += self.pos_encoding[:, :seq_len, :]\n",
        "\n",
        "        x = self.dropout(x, training=training)\n",
        "\n",
        "        for i in range(self.num_layers):\n",
        "            x = self.dec_layers[i](x, enc_output, training,\n",
        "                                                 look_ahead_mask, padding_mask)\n",
        "\n",
        "            # attention_weights[f'decoder_layer{i+1}_block1'] = block1\n",
        "            # attention_weights[f'decoder_layer{i+1}_block2'] = block2\n",
        "\n",
        "        # x.shape == (batch_size, target_seq_len, d_model)\n",
        "        return x\n",
        "    \n",
        "def get_angles(pos, i, d_model):\n",
        "    angle_rates = 1 / np.power(10000, (2 * (i//2)) / np.float32(d_model))\n",
        "    return pos * angle_rates\n",
        "\n",
        "def positional_encoding(position, d_model):\n",
        "    angle_rads = get_angles(np.arange(position)[:, np.newaxis],\n",
        "                          np.arange(d_model)[np.newaxis, :],\n",
        "                          d_model)\n",
        "\n",
        "    # apply sin to even indices in the array; 2i\n",
        "    angle_rads[:, 0::2] = np.sin(angle_rads[:, 0::2])\n",
        "\n",
        "    # apply cos to odd indices in the array; 2i+1\n",
        "    angle_rads[:, 1::2] = np.cos(angle_rads[:, 1::2])\n",
        "\n",
        "    pos_encoding = angle_rads[np.newaxis, ...]\n",
        "\n",
        "    # return tf.cast(pos_encoding, dtype=tf.float32)\n",
        "    return pos_encoding\n",
        "\n",
        "class Transformer(tf.keras.Model):\n",
        "    def __init__(self,n_target_features, num_layers=4, d_model=128, num_heads=8, dff=512, rate=0.1):\n",
        "        super(Transformer, self).__init__()\n",
        "        \n",
        "        self.n_target_features = n_target_features\n",
        "        self.tokenizer = Encoder(num_layers, d_model, num_heads, dff, rate)\n",
        "\n",
        "        self.decoder = Decoder(num_layers, d_model, num_heads, dff, rate)\n",
        "\n",
        "        # self.final_layer = TimeDistributed(tf.keras.layers.Dense(self.n_target_features))\n",
        "        self.final_layer = tf.keras.layers.Dense(self.n_target_features)\n",
        "\n",
        "    def call(self, inp, tar, training):\n",
        "\n",
        "        look_ahead_mask = create_look_ahead_mask(tf.shape(tar)[1])\n",
        "        \n",
        "        enc_output = self.tokenizer(inp, training, None)  # (batch_size, inp_seq_len, d_model)\n",
        "\n",
        "        # dec_output.shape == (batch_size, tar_seq_len, d_model)\n",
        "        dec_output = self.decoder(tar, enc_output, training, look_ahead_mask, None)\n",
        "\n",
        "        final_output = self.final_layer(dec_output)  # (batch_size, tar_seq_len, target_vocab_size)\n",
        "\n",
        "        return final_output"
      ]
    },
    {
      "cell_type": "code",
      "execution_count": null,
      "metadata": {
        "id": "1FiIdshiv1o9"
      },
      "outputs": [],
      "source": [
        "xformer = Transformer(1,num_layers=4,num_heads=4,dff=256,d_model=32)\n",
        "pred = xformer(tf.random.normal((3,24,1)),tf.random.normal((3,7,1)),False)\n",
        "# xformer.load_weights(\"xformer.h5\")\n",
        "print(pred.shape)\n",
        "xformer.summary()"
      ]
    },
    {
      "cell_type": "code",
      "execution_count": null,
      "metadata": {
        "id": "RtycmkZWcZl_"
      },
      "outputs": [],
      "source": [
        "xformer.compile(loss='mse', optimizer=adam, metrics=['mae', 'mape'])"
      ]
    },
    {
      "cell_type": "code",
      "execution_count": null,
      "metadata": {
        "id": "M_muLatUb0RB"
      },
      "outputs": [],
      "source": [
        "history = xformer.fit(X_train_series, Y_train, \n",
        "                      batch_size=batch_size, \n",
        "                      epochs=35,\n",
        "                      validation_data=(X_valid_series, Y_valid))"
      ]
    },
    {
      "cell_type": "code",
      "execution_count": null,
      "metadata": {
        "id": "exXXSNd6o4WU"
      },
      "outputs": [],
      "source": [
        "pred"
      ]
    },
    {
      "cell_type": "code",
      "execution_count": null,
      "metadata": {
        "id": "9EtznqckzLD0"
      },
      "outputs": [],
      "source": [
        "d_model = 32\n",
        "class CustomSchedule(tf.keras.optimizers.schedules.LearningRateSchedule):\n",
        "    def __init__(self, d_model, warmup_steps=4000):\n",
        "        super(CustomSchedule, self).__init__()\n",
        "\n",
        "        self.d_model = d_model\n",
        "        self.d_model = tf.cast(self.d_model, tf.float32)\n",
        "\n",
        "        self.warmup_steps = warmup_steps\n",
        "\n",
        "    def __call__(self, step):\n",
        "        arg1 = tf.math.rsqrt(step)\n",
        "        arg2 = step * (self.warmup_steps ** -1.5)\n",
        "\n",
        "        return tf.math.rsqrt(self.d_model) * tf.math.minimum(arg1, arg2)\n",
        "    \n",
        "learning_rate = CustomSchedule(d_model)\n",
        "\n",
        "optimizer = tf.keras.optimizers.Adam(learning_rate, beta_1=0.9, beta_2=0.98,epsilon=1e-9)\n",
        "optimizer2 = tf.keras.optimizers.Adam(beta_1=0.9, beta_2=0.98,epsilon=1e-9)"
      ]
    },
    {
      "cell_type": "code",
      "execution_count": null,
      "metadata": {
        "id": "lEq72V9pzPh-"
      },
      "outputs": [],
      "source": [
        "len_data = sum(1 for _ in input_dataset)"
      ]
    },
    {
      "cell_type": "code",
      "execution_count": null,
      "metadata": {
        "id": "sjKGiaZ5zUE4"
      },
      "outputs": [],
      "source": [
        "for e in range(200):\n",
        "    for i,batch in enumerate(zip(input_dataset, target_dataset)):\n",
        "\n",
        "        if i<len_data-1:\n",
        "            in1, tar = batch\n",
        "            \n",
        "            tar_inp = tf.ones((256,1,1))*-0.1\n",
        "            tar_inp = tf.concat([tar_inp,tar[:, :-1]],axis=1)\n",
        "            tar_real = tar[:, 1:]\n",
        "\n",
        "            with tf.GradientTape() as tape:\n",
        "                predictions = xformer(in1, tar_inp,True)\n",
        "                loss = tf.reduce_mean(tf.square(tar_real-predictions[:,:-1]))\n",
        "            gradients = tape.gradient(loss, xformer.trainable_variables)\n",
        "            optimizer.apply_gradients(zip(gradients, xformer.trainable_variables))\n",
        "    print(f\"epoch {e}| Transformer:{loss.numpy()}\")"
      ]
    },
    {
      "cell_type": "code",
      "execution_count": null,
      "metadata": {
        "id": "0EktUQ8F7Eld"
      },
      "outputs": [],
      "source": [
        "train_eval = xformer.evaluate(input_dataset, target_dataset, verbose=0)"
      ]
    },
    {
      "cell_type": "markdown",
      "metadata": {
        "id": "Ry3mTOKHpkJn"
      },
      "source": [
        "# Trans+Timeem"
      ]
    },
    {
      "cell_type": "code",
      "execution_count": null,
      "metadata": {
        "id": "G68OFF2crILE"
      },
      "outputs": [],
      "source": [
        "batch_size = 32\n",
        "seq_len = 128\n",
        "\n",
        "d_k = 256\n",
        "d_v = 256\n",
        "n_heads = 12\n",
        "ff_dim = 256\n",
        "\n",
        "lr = 1e-5\n",
        "adam = tf.keras.optimizers.Adam(lr)"
      ]
    },
    {
      "cell_type": "code",
      "execution_count": null,
      "metadata": {
        "colab": {
          "base_uri": "https://localhost:8080/"
        },
        "id": "ygF2ZdUusJ2t",
        "outputId": "7e82fd0c-80b5-43a3-e8b7-a1d4a06204f0"
      },
      "outputs": [
        {
          "name": "stdout",
          "output_type": "stream",
          "text": [
            "Tensorflow version: 2.9.2\n"
          ]
        }
      ],
      "source": [
        "import numpy as np\n",
        "import pandas as pd\n",
        "import os, datetime\n",
        "import tensorflow as tf\n",
        "from tensorflow.keras.models import *\n",
        "from tensorflow.keras.layers import *\n",
        "print('Tensorflow version: {}'.format(tf.__version__))\n",
        "\n",
        "import matplotlib.pyplot as plt\n",
        "plt.style.use('seaborn')\n",
        "\n",
        "import warnings\n",
        "warnings.filterwarnings('ignore')"
      ]
    },
    {
      "cell_type": "code",
      "execution_count": null,
      "metadata": {
        "id": "7xdUiNunpoUm"
      },
      "outputs": [],
      "source": [
        "class SingleAttention(Layer):\n",
        "  def __init__(self, d_k, d_v):\n",
        "    super(SingleAttention, self).__init__()\n",
        "    self.d_k = d_k\n",
        "    self.d_v = d_v\n",
        "\n",
        "  def build(self, input_shape):\n",
        "    self.query = Dense(self.d_k, \n",
        "                       input_shape=input_shape, \n",
        "                       kernel_initializer='glorot_uniform', \n",
        "                       bias_initializer='glorot_uniform')\n",
        "    \n",
        "    self.key = Dense(self.d_k, \n",
        "                     input_shape=input_shape, \n",
        "                     kernel_initializer='glorot_uniform', \n",
        "                     bias_initializer='glorot_uniform')\n",
        "    \n",
        "    self.value = Dense(self.d_v, \n",
        "                       input_shape=input_shape, \n",
        "                       kernel_initializer='glorot_uniform', \n",
        "                       bias_initializer='glorot_uniform')\n",
        "\n",
        "  def call(self, inputs): # inputs = (in_seq, in_seq, in_seq)\n",
        "    q = self.query(inputs[0])\n",
        "    k = self.key(inputs[1])\n",
        "\n",
        "    attn_weights = tf.matmul(q, k, transpose_b=True)\n",
        "    attn_weights = tf.map_fn(lambda x: x/np.sqrt(self.d_k), attn_weights)\n",
        "    attn_weights = tf.nn.softmax(attn_weights, axis=-1)\n",
        "    \n",
        "    v = self.value(inputs[2])\n",
        "    attn_out = tf.matmul(attn_weights, v)\n",
        "    return attn_out    \n",
        "\n",
        "#############################################################################\n",
        "\n",
        "class MultiAttention(Layer):\n",
        "  def __init__(self, d_k, d_v, n_heads):\n",
        "    super(MultiAttention, self).__init__()\n",
        "    self.d_k = d_k\n",
        "    self.d_v = d_v\n",
        "    self.n_heads = n_heads\n",
        "    self.attn_heads = list()\n",
        "\n",
        "  def build(self, input_shape):\n",
        "    for n in range(self.n_heads):\n",
        "      self.attn_heads.append(SingleAttention(self.d_k, self.d_v))  \n",
        "    \n",
        "    # input_shape[0]=(batch, seq_len, 7), input_shape[0][-1]=7 \n",
        "    self.linear = Dense(input_shape[0][-1], \n",
        "                        input_shape=input_shape, \n",
        "                        kernel_initializer='glorot_uniform', \n",
        "                        bias_initializer='glorot_uniform')\n",
        "\n",
        "  def call(self, inputs):\n",
        "    attn = [self.attn_heads[i](inputs) for i in range(self.n_heads)]\n",
        "    concat_attn = tf.concat(attn, axis=-1)\n",
        "    multi_linear = self.linear(concat_attn)\n",
        "    return multi_linear   \n",
        "\n",
        "#############################################################################\n",
        "\n",
        "class TransformerEncoder(Layer):\n",
        "  def __init__(self, d_k, d_v, n_heads, ff_dim, dropout=0.1, **kwargs):\n",
        "    super(TransformerEncoder, self).__init__()\n",
        "    self.d_k = d_k\n",
        "    self.d_v = d_v\n",
        "    self.n_heads = n_heads\n",
        "    self.ff_dim = ff_dim\n",
        "    self.attn_heads = list()\n",
        "    self.dropout_rate = dropout\n",
        "\n",
        "  def build(self, input_shape):\n",
        "    self.attn_multi = MultiAttention(self.d_k, self.d_v, self.n_heads)\n",
        "    self.attn_dropout = Dropout(self.dropout_rate)\n",
        "    self.attn_normalize = LayerNormalization(input_shape=input_shape, epsilon=1e-6)\n",
        "\n",
        "    self.ff_conv1D_1 = Conv1D(filters=self.ff_dim, kernel_size=1, activation='relu')\n",
        "    # input_shape[0]=(batch, seq_len, 7), input_shape[0][-1] = 7 \n",
        "    self.ff_conv1D_2 = Conv1D(filters=input_shape[0][-1], kernel_size=1) \n",
        "    self.ff_dropout = Dropout(self.dropout_rate)\n",
        "    self.ff_normalize = LayerNormalization(input_shape=input_shape, epsilon=1e-6)    \n",
        "  \n",
        "  def call(self, inputs): # inputs = (in_seq, in_seq, in_seq)\n",
        "    attn_layer = self.attn_multi(inputs)\n",
        "    attn_layer = self.attn_dropout(attn_layer)\n",
        "    attn_layer = self.attn_normalize(inputs[0] + attn_layer)\n",
        "\n",
        "    ff_layer = self.ff_conv1D_1(attn_layer)\n",
        "    ff_layer = self.ff_conv1D_2(ff_layer)\n",
        "    ff_layer = self.ff_dropout(ff_layer)\n",
        "    ff_layer = self.ff_normalize(inputs[0] + ff_layer)\n",
        "    return ff_layer \n",
        "\n",
        "  def get_config(self): # Needed for saving and loading model with custom layer\n",
        "    config = super().get_config().copy()\n",
        "    config.update({'d_k': self.d_k,\n",
        "                   'd_v': self.d_v,\n",
        "                   'n_heads': self.n_heads,\n",
        "                   'ff_dim': self.ff_dim,\n",
        "                   'attn_heads': self.attn_heads,\n",
        "                   'dropout_rate': self.dropout_rate})\n",
        "    return config"
      ]
    },
    {
      "cell_type": "code",
      "execution_count": null,
      "metadata": {
        "colab": {
          "base_uri": "https://localhost:8080/"
        },
        "id": "SRoQRmJAo_s-",
        "outputId": "22414a49-4de8-4cf7-a5ff-7bdafeb7a4bf"
      },
      "outputs": [
        {
          "data": {
            "text/plain": [
              "(71346, 128, 1)"
            ]
          },
          "execution_count": 57,
          "metadata": {},
          "output_type": "execute_result"
        }
      ],
      "source": [
        "X_train_series.shape"
      ]
    },
    {
      "cell_type": "code",
      "execution_count": null,
      "metadata": {
        "colab": {
          "base_uri": "https://localhost:8080/"
        },
        "id": "kO1fY696ptqu",
        "outputId": "83e02e90-8bd4-4b15-8a09-6f99d2e4a27b"
      },
      "outputs": [
        {
          "name": "stdout",
          "output_type": "stream",
          "text": [
            "Model: \"model\"\n",
            "__________________________________________________________________________________________________\n",
            " Layer (type)                   Output Shape         Param #     Connected to                     \n",
            "==================================================================================================\n",
            " input_1 (InputLayer)           [(None, 128, 1)]     0           []                               \n",
            "                                                                                                  \n",
            " time2_vector (Time2Vector)     (None, 128, 2)       512         ['input_1[0][0]']                \n",
            "                                                                                                  \n",
            " concatenate (Concatenate)      (None, 128, 3)       0           ['input_1[0][0]',                \n",
            "                                                                  'time2_vector[0][0]']           \n",
            "                                                                                                  \n",
            " transformer_encoder (Transform  (None, 128, 3)      47890       ['concatenate[0][0]',            \n",
            " erEncoder)                                                       'concatenate[0][0]',            \n",
            "                                                                  'concatenate[0][0]']            \n",
            "                                                                                                  \n",
            " transformer_encoder_1 (Transfo  (None, 128, 3)      47890       ['transformer_encoder[0][0]',    \n",
            " rmerEncoder)                                                     'transformer_encoder[0][0]',    \n",
            "                                                                  'transformer_encoder[0][0]']    \n",
            "                                                                                                  \n",
            " transformer_encoder_2 (Transfo  (None, 128, 3)      47890       ['transformer_encoder_1[0][0]',  \n",
            " rmerEncoder)                                                     'transformer_encoder_1[0][0]',  \n",
            "                                                                  'transformer_encoder_1[0][0]']  \n",
            "                                                                                                  \n",
            " global_average_pooling1d (Glob  (None, 128)         0           ['transformer_encoder_2[0][0]']  \n",
            " alAveragePooling1D)                                                                              \n",
            "                                                                                                  \n",
            " dropout (Dropout)              (None, 128)          0           ['global_average_pooling1d[0][0]'\n",
            "                                                                 ]                                \n",
            "                                                                                                  \n",
            " dense (Dense)                  (None, 64)           8256        ['dropout[0][0]']                \n",
            "                                                                                                  \n",
            " dropout_1 (Dropout)            (None, 64)           0           ['dense[0][0]']                  \n",
            "                                                                                                  \n",
            " dense_1 (Dense)                (None, 1)            65          ['dropout_1[0][0]']              \n",
            "                                                                                                  \n",
            "==================================================================================================\n",
            "Total params: 152,503\n",
            "Trainable params: 152,503\n",
            "Non-trainable params: 0\n",
            "__________________________________________________________________________________________________\n"
          ]
        }
      ],
      "source": [
        "def create_model():\n",
        "  '''Initialize time and transformer layers'''\n",
        "  time_embedding = Time2Vector(seq_len)\n",
        "  attn_layer1 = TransformerEncoder(d_k, d_v, n_heads, ff_dim)\n",
        "  attn_layer2 = TransformerEncoder(d_k, d_v, n_heads, ff_dim)\n",
        "  attn_layer3 = TransformerEncoder(d_k, d_v, n_heads, ff_dim)\n",
        "\n",
        "  '''Construct model'''\n",
        "  in_seq = Input(shape=((X_train_series.shape[1], X_train_series.shape[2])))\n",
        "  x = time_embedding(in_seq)\n",
        "  x = Concatenate(axis=-1)([in_seq, x])\n",
        "  x = attn_layer1((x, x, x))\n",
        "  x = attn_layer2((x, x, x))\n",
        "  x = attn_layer3((x, x, x))\n",
        "  x = GlobalAveragePooling1D(data_format='channels_first')(x)\n",
        "  x = Dropout(0.1)(x)\n",
        "  x = Dense(64, activation='relu')(x)\n",
        "  x = Dropout(0.1)(x)\n",
        "  out = Dense(1, activation='linear')(x)\n",
        "\n",
        "  model = Model(inputs=in_seq, outputs=out)\n",
        "  model.compile(loss='mse', optimizer='adam', metrics=['mae', 'mape'])\n",
        "  return model\n",
        "\n",
        "\n",
        "model = create_model()\n",
        "model.summary()\n",
        "\n",
        "callback = tf.keras.callbacks.ModelCheckpoint('Transformer+TimeEmbedding.hdf5', \n",
        "                                              monitor='val_loss', \n",
        "                                              save_best_only=True, verbose=1)"
      ]
    },
    {
      "cell_type": "code",
      "execution_count": null,
      "metadata": {
        "colab": {
          "base_uri": "https://localhost:8080/"
        },
        "id": "jS6vM07Ysz5S",
        "outputId": "34cc2bad-b985-46e0-c247-97b3e310dfbd"
      },
      "outputs": [
        {
          "data": {
            "text/plain": [
              "(71346, 128, 1)"
            ]
          },
          "execution_count": 57,
          "metadata": {},
          "output_type": "execute_result"
        }
      ],
      "source": [
        "X_train_series.shape"
      ]
    },
    {
      "cell_type": "code",
      "execution_count": null,
      "metadata": {
        "colab": {
          "background_save": true,
          "base_uri": "https://localhost:8080/"
        },
        "id": "S26wq2g8spXn",
        "outputId": "5dff2f00-e44d-4a12-c22d-c65db17d9ec3"
      },
      "outputs": [
        {
          "name": "stdout",
          "output_type": "stream",
          "text": [
            "Epoch 1/35\n",
            "2230/2230 [==============================] - ETA: 0s - loss: 0.0046 - mae: 0.0497 - mape: 2072.8035\n",
            "Epoch 1: val_loss improved from inf to 0.00367, saving model to Transformer+TimeEmbedding.hdf5\n",
            "2230/2230 [==============================] - 7266s 3s/step - loss: 0.0046 - mae: 0.0497 - mape: 2072.8035 - val_loss: 0.0037 - val_mae: 0.0445 - val_mape: 24.6795\n",
            "Epoch 2/35\n",
            "2230/2230 [==============================] - ETA: 0s - loss: 0.0035 - mae: 0.0437 - mape: 2158.0388\n",
            "Epoch 2: val_loss did not improve from 0.00367\n",
            "2230/2230 [==============================] - 6776s 3s/step - loss: 0.0035 - mae: 0.0437 - mape: 2158.0388 - val_loss: 0.0039 - val_mae: 0.0474 - val_mape: 29.0739\n",
            "Epoch 3/35\n",
            " 146/2230 [>.............................] - ETA: 1:25:16 - loss: 0.0034 - mae: 0.0434 - mape: 26.4584"
          ]
        }
      ],
      "source": [
        "history = model.fit(X_train_series, Y_train, \n",
        "                    batch_size=batch_size, \n",
        "                    epochs=35, \n",
        "                    callbacks=[callback],\n",
        "                    validation_data=(X_valid_series, Y_valid))\n",
        "\n",
        "model = tf.keras.models.load_model('/content/Transformer+TimeEmbedding.hdf5',\n",
        "                                   custom_objects={'Time2Vector': Time2Vector, \n",
        "                                                   'SingleAttention': SingleAttention,\n",
        "                                                   'MultiAttention': MultiAttention,\n",
        "                                                   'TransformerEncoder': TransformerEncoder})"
      ]
    },
    {
      "cell_type": "code",
      "execution_count": null,
      "metadata": {
        "id": "Bcnm4q1XR-b7"
      },
      "outputs": [],
      "source": [
        "history = model.fit(X_train_series, Y_train,\n",
        "                    epochs=35, \n",
        "                    callbacks=[callback],\n",
        "                    validation_data=(X_valid_series, Y_valid))\n",
        "\n",
        "model = tf.keras.models.load_model('/content/Transformer+TimeEmbedding.hdf5',\n",
        "                                   custom_objects={'Time2Vector': Time2Vector, \n",
        "                                                   'SingleAttention': SingleAttention,\n",
        "                                                   'MultiAttention': MultiAttention,\n",
        "                                                   'TransformerEncoder': TransformerEncoder})"
      ]
    },
    {
      "cell_type": "markdown",
      "metadata": {
        "id": "7nQbExImLfrl"
      },
      "source": [
        "# MLP for Time Series Forecasting"
      ]
    },
    {
      "cell_type": "code",
      "execution_count": null,
      "metadata": {
        "id": "DhYqjbSfLk2r"
      },
      "outputs": [],
      "source": [
        "epochs = 40\n",
        "batch = 256\n",
        "lr = 0.0003\n",
        "adam = tf.keras.optimizers.Adam(lr)"
      ]
    },
    {
      "cell_type": "code",
      "execution_count": null,
      "metadata": {
        "id": "T7pCkVUYLm-G"
      },
      "outputs": [],
      "source": [
        "model_mlp = Sequential()\n",
        "model_mlp.add(Dense(100, activation='relu', input_dim=X_train.shape[1]))\n",
        "model_mlp.add(Dense(1))\n",
        "model_mlp.compile(loss='mse', optimizer=adam)\n",
        "model_mlp.summary()"
      ]
    },
    {
      "cell_type": "code",
      "execution_count": null,
      "metadata": {
        "id": "uqYQMNYKL6TO"
      },
      "outputs": [],
      "source": [
        "mlp_history = model_mlp.fit(X_train.values, Y_train, validation_data=(X_valid.values, Y_valid), epochs=epochs, verbose=2)"
      ]
    },
    {
      "cell_type": "code",
      "execution_count": null,
      "metadata": {
        "id": "OX322ROCAKXD"
      },
      "outputs": [],
      "source": [
        "mlp_history = model_mlp.fit(X_train, Y_train, validation_data=(X_valid, Y_valid), epochs=epochs, verbose=2)"
      ]
    },
    {
      "cell_type": "markdown",
      "metadata": {
        "id": "wZWNYVMOQ6SQ"
      },
      "source": [
        "# CNN"
      ]
    },
    {
      "cell_type": "code",
      "execution_count": null,
      "metadata": {
        "id": "1FFGld05_lU_"
      },
      "outputs": [],
      "source": [
        "X_train"
      ]
    },
    {
      "cell_type": "code",
      "execution_count": null,
      "metadata": {
        "colab": {
          "base_uri": "https://localhost:8080/",
          "height": 218
        },
        "id": "o2wynT23Q8eO",
        "outputId": "bcf05d10-b8a7-42f5-8bab-9c8fed2494dd"
      },
      "outputs": [
        {
          "ename": "NameError",
          "evalue": "ignored",
          "output_type": "error",
          "traceback": [
            "\u001b[0;31m---------------------------------------------------------------------------\u001b[0m",
            "\u001b[0;31mNameError\u001b[0m                                 Traceback (most recent call last)",
            "\u001b[0;32m<ipython-input-29-bdbcf4694ca8>\u001b[0m in \u001b[0;36m<module>\u001b[0;34m\u001b[0m\n\u001b[0;32m----> 1\u001b[0;31m \u001b[0mX_train_series\u001b[0m \u001b[0;34m=\u001b[0m \u001b[0mX_trains\u001b[0m\u001b[0;34m.\u001b[0m\u001b[0mvalues\u001b[0m\u001b[0;34m.\u001b[0m\u001b[0mreshape\u001b[0m\u001b[0;34m(\u001b[0m\u001b[0;34m(\u001b[0m\u001b[0mX_trains\u001b[0m\u001b[0;34m.\u001b[0m\u001b[0mshape\u001b[0m\u001b[0;34m[\u001b[0m\u001b[0;36m0\u001b[0m\u001b[0;34m]\u001b[0m\u001b[0;34m,\u001b[0m \u001b[0mX_trains\u001b[0m\u001b[0;34m.\u001b[0m\u001b[0mshape\u001b[0m\u001b[0;34m[\u001b[0m\u001b[0;36m1\u001b[0m\u001b[0;34m]\u001b[0m\u001b[0;34m,\u001b[0m \u001b[0;36m1\u001b[0m\u001b[0;34m)\u001b[0m\u001b[0;34m)\u001b[0m\u001b[0;34m\u001b[0m\u001b[0;34m\u001b[0m\u001b[0m\n\u001b[0m\u001b[1;32m      2\u001b[0m \u001b[0mX_valid_series\u001b[0m \u001b[0;34m=\u001b[0m \u001b[0mX_valids\u001b[0m\u001b[0;34m.\u001b[0m\u001b[0mvalues\u001b[0m\u001b[0;34m.\u001b[0m\u001b[0mreshape\u001b[0m\u001b[0;34m(\u001b[0m\u001b[0;34m(\u001b[0m\u001b[0mX_valids\u001b[0m\u001b[0;34m.\u001b[0m\u001b[0mshape\u001b[0m\u001b[0;34m[\u001b[0m\u001b[0;36m0\u001b[0m\u001b[0;34m]\u001b[0m\u001b[0;34m,\u001b[0m \u001b[0mX_valids\u001b[0m\u001b[0;34m.\u001b[0m\u001b[0mshape\u001b[0m\u001b[0;34m[\u001b[0m\u001b[0;36m1\u001b[0m\u001b[0;34m]\u001b[0m\u001b[0;34m,\u001b[0m \u001b[0;36m1\u001b[0m\u001b[0;34m)\u001b[0m\u001b[0;34m)\u001b[0m\u001b[0;34m\u001b[0m\u001b[0;34m\u001b[0m\u001b[0m\n\u001b[1;32m      3\u001b[0m \u001b[0mprint\u001b[0m\u001b[0;34m(\u001b[0m\u001b[0;34m'Train set shape'\u001b[0m\u001b[0;34m,\u001b[0m \u001b[0mX_train_series\u001b[0m\u001b[0;34m.\u001b[0m\u001b[0mshape\u001b[0m\u001b[0;34m)\u001b[0m\u001b[0;34m\u001b[0m\u001b[0;34m\u001b[0m\u001b[0m\n\u001b[1;32m      4\u001b[0m \u001b[0mprint\u001b[0m\u001b[0;34m(\u001b[0m\u001b[0;34m'Validation set shape'\u001b[0m\u001b[0;34m,\u001b[0m \u001b[0mX_valid_series\u001b[0m\u001b[0;34m.\u001b[0m\u001b[0mshape\u001b[0m\u001b[0;34m)\u001b[0m\u001b[0;34m\u001b[0m\u001b[0;34m\u001b[0m\u001b[0m\n",
            "\u001b[0;31mNameError\u001b[0m: name 'X_trains' is not defined"
          ]
        }
      ],
      "source": [
        "X_train_series = X_trains.values.reshape((X_trains.shape[0], X_trains.shape[1], 1))\n",
        "X_valid_series = X_valids.values.reshape((X_valids.shape[0], X_valids.shape[1], 1))\n",
        "print('Train set shape', X_train_series.shape)\n",
        "print('Validation set shape', X_valid_series.shape)"
      ]
    },
    {
      "cell_type": "code",
      "execution_count": null,
      "metadata": {
        "id": "Hskzvm-M4sZj"
      },
      "outputs": [],
      "source": [
        "X_train.shape"
      ]
    },
    {
      "cell_type": "code",
      "execution_count": null,
      "metadata": {
        "id": "gtfNInHo50HM"
      },
      "outputs": [],
      "source": [
        "X_train.shape[0]"
      ]
    },
    {
      "cell_type": "code",
      "execution_count": null,
      "metadata": {
        "id": "fkzdMfvl5J9j"
      },
      "outputs": [],
      "source": [
        "X_train.shape[1]"
      ]
    },
    {
      "cell_type": "code",
      "execution_count": null,
      "metadata": {
        "id": "6C2jiuQD5vp5"
      },
      "outputs": [],
      "source": [
        "X_train_series.shape"
      ]
    },
    {
      "cell_type": "code",
      "execution_count": null,
      "metadata": {
        "colab": {
          "base_uri": "https://localhost:8080/"
        },
        "id": "uphK2xCxoOHy",
        "outputId": "55a25bea-dc0e-429e-ba4d-bc4d82c9804d"
      },
      "outputs": [
        {
          "name": "stdout",
          "output_type": "stream",
          "text": [
            "Train set shape (71346, 128, 1)\n",
            "Validation set shape (47564, 128, 1)\n"
          ]
        }
      ],
      "source": [
        "X_train_series = X_train.values.reshape((X_train.shape[0], X_train.shape[1], 1))\n",
        "X_valid_series = X_valid.values.reshape((X_valid.shape[0], X_valid.shape[1], 1))\n",
        "print('Train set shape', X_train_series.shape)\n",
        "print('Validation set shape', X_valid_series.shape)"
      ]
    },
    {
      "cell_type": "code",
      "execution_count": null,
      "metadata": {
        "id": "Vyx-mgjgQ-6F"
      },
      "outputs": [],
      "source": [
        "model_cnn = Sequential()\n",
        "model_cnn.add(Conv1D(filters=64, kernel_size=2, activation='relu', input_shape=(X_train_series.shape[1], X_train_series.shape[2])))\n",
        "model_cnn.add(MaxPooling1D(pool_size=2))\n",
        "model_cnn.add(Flatten())\n",
        "model_cnn.add(Dense(50, activation='relu'))\n",
        "model_cnn.add(Dense(1))\n",
        "model_cnn.compile(loss='mse', optimizer=adam)\n",
        "model_cnn.summary()"
      ]
    },
    {
      "cell_type": "code",
      "execution_count": null,
      "metadata": {
        "id": "dM1DrNF8Bgd8"
      },
      "outputs": [],
      "source": [
        "model_cnn = Sequential()\n",
        "model_cnn.add(Conv1D(filters=64, kernel_size=2, activation='relu', input_shape=(X_train.shape[1], X_train.shape[2])))\n",
        "model_cnn.add(MaxPooling1D(pool_size=2))\n",
        "model_cnn.add(Flatten())\n",
        "model_cnn.add(Dense(50, activation='relu'))\n",
        "model_cnn.add(Dense(1))\n",
        "model_cnn.compile(loss='mse', optimizer=adam)\n",
        "model_cnn.summary()"
      ]
    },
    {
      "cell_type": "code",
      "execution_count": null,
      "metadata": {
        "id": "CsWfsquOAgQ8"
      },
      "outputs": [],
      "source": [
        "cnn_history = model_cnn.fit(X_train, Y_train, validation_data=(X_valid, Y_valid), epochs=epochs, verbose=2)"
      ]
    },
    {
      "cell_type": "code",
      "execution_count": null,
      "metadata": {
        "id": "gqz7yVNARASM"
      },
      "outputs": [],
      "source": [
        "cnn_history = model_cnn.fit(X_train_series, Y_train, validation_data=(X_valid_series, Y_valid), epochs=epochs, verbose=2)"
      ]
    },
    {
      "cell_type": "markdown",
      "metadata": {
        "id": "8Q3RWyZqRGnT"
      },
      "source": [
        "# LSTM"
      ]
    },
    {
      "cell_type": "code",
      "execution_count": null,
      "metadata": {
        "id": "fkkPPjmJRKtT"
      },
      "outputs": [],
      "source": [
        "model_lstm = Sequential()\n",
        "model_lstm.add(LSTM(50, activation='relu', input_shape=(X_train_series.shape[1], X_train_series.shape[2])))\n",
        "model_lstm.add(Dense(1))\n",
        "model_lstm.compile(loss='mse', optimizer=adam)\n",
        "model_lstm.summary()"
      ]
    },
    {
      "cell_type": "code",
      "execution_count": null,
      "metadata": {
        "colab": {
          "base_uri": "https://localhost:8080/"
        },
        "id": "9qApD0YxA0X-",
        "outputId": "be02ba89-56ca-44ce-8ad2-ca961ee2935e"
      },
      "outputs": [
        {
          "data": {
            "text/plain": [
              "128"
            ]
          },
          "execution_count": 83,
          "metadata": {},
          "output_type": "execute_result"
        }
      ],
      "source": [
        "X_train_series.shape[1]"
      ]
    },
    {
      "cell_type": "code",
      "execution_count": null,
      "metadata": {
        "colab": {
          "base_uri": "https://localhost:8080/"
        },
        "id": "lJQnVumvAaZG",
        "outputId": "2aa33081-0527-472e-edca-d09955d6b4d0"
      },
      "outputs": [
        {
          "name": "stdout",
          "output_type": "stream",
          "text": [
            "Model: \"sequential\"\n",
            "_________________________________________________________________\n",
            " Layer (type)                Output Shape              Param #   \n",
            "=================================================================\n",
            " lstm (LSTM)                 (None, 128, 64)           16896     \n",
            "                                                                 \n",
            " lstm_1 (LSTM)               (None, 64)                33024     \n",
            "                                                                 \n",
            " dense (Dense)               (None, 30)                1950      \n",
            "                                                                 \n",
            " dense_1 (Dense)             (None, 10)                310       \n",
            "                                                                 \n",
            " dense_2 (Dense)             (None, 1)                 11        \n",
            "                                                                 \n",
            "=================================================================\n",
            "Total params: 52,191\n",
            "Trainable params: 52,191\n",
            "Non-trainable params: 0\n",
            "_________________________________________________________________\n"
          ]
        }
      ],
      "source": [
        "model_coba = tf.keras.models.Sequential([\n",
        "  tf.keras.layers.LSTM(64, return_sequences=True, input_shape=(X_train_series.shape[1], X_train_series.shape[2])),\n",
        "  tf.keras.layers.LSTM(64),\n",
        "  tf.keras.layers.Dense(30, activation=\"relu\"),\n",
        "  tf.keras.layers.Dense(10, activation=\"relu\"),\n",
        "  tf.keras.layers.Dense(1)\n",
        "])\n",
        "\n",
        " # Print the model summary \n",
        "model_coba.summary()"
      ]
    },
    {
      "cell_type": "code",
      "execution_count": null,
      "metadata": {
        "id": "_O5iF0XvBdQ8"
      },
      "outputs": [],
      "source": [
        "model_coba.compile(loss='mse', optimizer=adam, metrics=['mae', 'mape'])"
      ]
    },
    {
      "cell_type": "code",
      "execution_count": null,
      "metadata": {
        "id": "4kU6b7XdBHga"
      },
      "outputs": [],
      "source": [
        "# Initialize the optimizer\n",
        "optimizer = tf.keras.optimizers.SGD(momentum=0.9)\n",
        "\n",
        "# Set the training parameters\n",
        "model_coba.compile(loss=tf.keras.losses.Huber(), optimizer=optimizer)\n",
        "\n",
        "# Train the model\n",
        "history = model_coba.fit(train_set, epochs=100, callbacks=[lr_schedule])"
      ]
    },
    {
      "cell_type": "code",
      "execution_count": null,
      "metadata": {
        "colab": {
          "base_uri": "https://localhost:8080/",
          "height": 676
        },
        "id": "RmPiAJgMBRaG",
        "outputId": "4c9de298-b0d2-4888-8c4c-594e6a103bc5"
      },
      "outputs": [
        {
          "name": "stdout",
          "output_type": "stream",
          "text": [
            "Epoch 1/20\n",
            "2230/2230 - 320s - loss: 285.3871 - mae: 12.6337 - mape: 30.0093 - val_loss: 244.5484 - val_mae: 11.7167 - val_mape: 28.2303 - 320s/epoch - 144ms/step\n",
            "Epoch 2/20\n",
            "2230/2230 - 318s - loss: 238.7890 - mae: 11.5336 - mape: 27.5291 - val_loss: 230.4790 - val_mae: 11.4485 - val_mape: 28.1899 - 318s/epoch - 143ms/step\n",
            "Epoch 3/20\n",
            "2230/2230 - 318s - loss: 231.0022 - mae: 11.3292 - mape: 26.9472 - val_loss: 226.6081 - val_mae: 11.0598 - val_mape: 25.0566 - 318s/epoch - 142ms/step\n",
            "Epoch 4/20\n",
            "2230/2230 - 317s - loss: 226.7205 - mae: 11.2026 - mape: 26.5965 - val_loss: 221.8380 - val_mae: 11.2264 - val_mape: 27.6511 - 317s/epoch - 142ms/step\n",
            "Epoch 5/20\n",
            "2230/2230 - 323s - loss: 223.2923 - mae: 11.0981 - mape: 26.3027 - val_loss: 215.8766 - val_mae: 10.9152 - val_mape: 25.7549 - 323s/epoch - 145ms/step\n",
            "Epoch 6/20\n",
            "2230/2230 - 322s - loss: 219.6700 - mae: 11.0046 - mape: 26.0754 - val_loss: 214.4937 - val_mae: 10.9157 - val_mape: 25.7270 - 322s/epoch - 144ms/step\n",
            "Epoch 7/20\n",
            "2230/2230 - 321s - loss: 216.5081 - mae: 10.9140 - mape: 25.8452 - val_loss: 209.4823 - val_mae: 10.6715 - val_mape: 24.7481 - 321s/epoch - 144ms/step\n",
            "Epoch 8/20\n",
            "2230/2230 - 317s - loss: 213.1542 - mae: 10.8096 - mape: 25.5576 - val_loss: 210.7785 - val_mae: 10.8933 - val_mape: 26.7784 - 317s/epoch - 142ms/step\n",
            "Epoch 9/20\n",
            "2230/2230 - 319s - loss: 211.0906 - mae: 10.7543 - mape: 25.4397 - val_loss: 205.6443 - val_mae: 10.6572 - val_mape: 25.5772 - 319s/epoch - 143ms/step\n",
            "Epoch 10/20\n",
            "2230/2230 - 318s - loss: 209.2676 - mae: 10.7017 - mape: 25.2936 - val_loss: 204.2006 - val_mae: 10.6131 - val_mape: 25.5189 - 318s/epoch - 143ms/step\n",
            "Epoch 11/20\n"
          ]
        },
        {
          "ename": "KeyboardInterrupt",
          "evalue": "ignored",
          "output_type": "error",
          "traceback": [
            "\u001b[0;31m---------------------------------------------------------------------------\u001b[0m",
            "\u001b[0;31mKeyboardInterrupt\u001b[0m                         Traceback (most recent call last)",
            "\u001b[0;32m<ipython-input-93-121d430eb8c7>\u001b[0m in \u001b[0;36m<module>\u001b[0;34m\u001b[0m\n\u001b[0;32m----> 1\u001b[0;31m \u001b[0mcoba_history\u001b[0m \u001b[0;34m=\u001b[0m \u001b[0mmodel_coba\u001b[0m\u001b[0;34m.\u001b[0m\u001b[0mfit\u001b[0m\u001b[0;34m(\u001b[0m\u001b[0mX_train\u001b[0m\u001b[0;34m,\u001b[0m \u001b[0mY_train\u001b[0m\u001b[0;34m,\u001b[0m \u001b[0mbatch_size\u001b[0m\u001b[0;34m=\u001b[0m\u001b[0mbatch_size\u001b[0m\u001b[0;34m,\u001b[0m \u001b[0mvalidation_data\u001b[0m\u001b[0;34m=\u001b[0m\u001b[0;34m(\u001b[0m\u001b[0mX_valid\u001b[0m\u001b[0;34m,\u001b[0m \u001b[0mY_valid\u001b[0m\u001b[0;34m)\u001b[0m\u001b[0;34m,\u001b[0m \u001b[0mepochs\u001b[0m\u001b[0;34m=\u001b[0m\u001b[0;36m20\u001b[0m\u001b[0;34m,\u001b[0m \u001b[0mverbose\u001b[0m\u001b[0;34m=\u001b[0m\u001b[0;36m2\u001b[0m\u001b[0;34m)\u001b[0m\u001b[0;34m\u001b[0m\u001b[0;34m\u001b[0m\u001b[0m\n\u001b[0m",
            "\u001b[0;32m/usr/local/lib/python3.7/dist-packages/keras/utils/traceback_utils.py\u001b[0m in \u001b[0;36merror_handler\u001b[0;34m(*args, **kwargs)\u001b[0m\n\u001b[1;32m     62\u001b[0m     \u001b[0mfiltered_tb\u001b[0m \u001b[0;34m=\u001b[0m \u001b[0;32mNone\u001b[0m\u001b[0;34m\u001b[0m\u001b[0;34m\u001b[0m\u001b[0m\n\u001b[1;32m     63\u001b[0m     \u001b[0;32mtry\u001b[0m\u001b[0;34m:\u001b[0m\u001b[0;34m\u001b[0m\u001b[0;34m\u001b[0m\u001b[0m\n\u001b[0;32m---> 64\u001b[0;31m       \u001b[0;32mreturn\u001b[0m \u001b[0mfn\u001b[0m\u001b[0;34m(\u001b[0m\u001b[0;34m*\u001b[0m\u001b[0margs\u001b[0m\u001b[0;34m,\u001b[0m \u001b[0;34m**\u001b[0m\u001b[0mkwargs\u001b[0m\u001b[0;34m)\u001b[0m\u001b[0;34m\u001b[0m\u001b[0;34m\u001b[0m\u001b[0m\n\u001b[0m\u001b[1;32m     65\u001b[0m     \u001b[0;32mexcept\u001b[0m \u001b[0mException\u001b[0m \u001b[0;32mas\u001b[0m \u001b[0me\u001b[0m\u001b[0;34m:\u001b[0m  \u001b[0;31m# pylint: disable=broad-except\u001b[0m\u001b[0;34m\u001b[0m\u001b[0;34m\u001b[0m\u001b[0m\n\u001b[1;32m     66\u001b[0m       \u001b[0mfiltered_tb\u001b[0m \u001b[0;34m=\u001b[0m \u001b[0m_process_traceback_frames\u001b[0m\u001b[0;34m(\u001b[0m\u001b[0me\u001b[0m\u001b[0;34m.\u001b[0m\u001b[0m__traceback__\u001b[0m\u001b[0;34m)\u001b[0m\u001b[0;34m\u001b[0m\u001b[0;34m\u001b[0m\u001b[0m\n",
            "\u001b[0;32m/usr/local/lib/python3.7/dist-packages/keras/engine/training.py\u001b[0m in \u001b[0;36mfit\u001b[0;34m(self, x, y, batch_size, epochs, verbose, callbacks, validation_split, validation_data, shuffle, class_weight, sample_weight, initial_epoch, steps_per_epoch, validation_steps, validation_batch_size, validation_freq, max_queue_size, workers, use_multiprocessing)\u001b[0m\n\u001b[1;32m   1407\u001b[0m                 _r=1):\n\u001b[1;32m   1408\u001b[0m               \u001b[0mcallbacks\u001b[0m\u001b[0;34m.\u001b[0m\u001b[0mon_train_batch_begin\u001b[0m\u001b[0;34m(\u001b[0m\u001b[0mstep\u001b[0m\u001b[0;34m)\u001b[0m\u001b[0;34m\u001b[0m\u001b[0;34m\u001b[0m\u001b[0m\n\u001b[0;32m-> 1409\u001b[0;31m               \u001b[0mtmp_logs\u001b[0m \u001b[0;34m=\u001b[0m \u001b[0mself\u001b[0m\u001b[0;34m.\u001b[0m\u001b[0mtrain_function\u001b[0m\u001b[0;34m(\u001b[0m\u001b[0miterator\u001b[0m\u001b[0;34m)\u001b[0m\u001b[0;34m\u001b[0m\u001b[0;34m\u001b[0m\u001b[0m\n\u001b[0m\u001b[1;32m   1410\u001b[0m               \u001b[0;32mif\u001b[0m \u001b[0mdata_handler\u001b[0m\u001b[0;34m.\u001b[0m\u001b[0mshould_sync\u001b[0m\u001b[0;34m:\u001b[0m\u001b[0;34m\u001b[0m\u001b[0;34m\u001b[0m\u001b[0m\n\u001b[1;32m   1411\u001b[0m                 \u001b[0mcontext\u001b[0m\u001b[0;34m.\u001b[0m\u001b[0masync_wait\u001b[0m\u001b[0;34m(\u001b[0m\u001b[0;34m)\u001b[0m\u001b[0;34m\u001b[0m\u001b[0;34m\u001b[0m\u001b[0m\n",
            "\u001b[0;32m/usr/local/lib/python3.7/dist-packages/tensorflow/python/util/traceback_utils.py\u001b[0m in \u001b[0;36merror_handler\u001b[0;34m(*args, **kwargs)\u001b[0m\n\u001b[1;32m    148\u001b[0m     \u001b[0mfiltered_tb\u001b[0m \u001b[0;34m=\u001b[0m \u001b[0;32mNone\u001b[0m\u001b[0;34m\u001b[0m\u001b[0;34m\u001b[0m\u001b[0m\n\u001b[1;32m    149\u001b[0m     \u001b[0;32mtry\u001b[0m\u001b[0;34m:\u001b[0m\u001b[0;34m\u001b[0m\u001b[0;34m\u001b[0m\u001b[0m\n\u001b[0;32m--> 150\u001b[0;31m       \u001b[0;32mreturn\u001b[0m \u001b[0mfn\u001b[0m\u001b[0;34m(\u001b[0m\u001b[0;34m*\u001b[0m\u001b[0margs\u001b[0m\u001b[0;34m,\u001b[0m \u001b[0;34m**\u001b[0m\u001b[0mkwargs\u001b[0m\u001b[0;34m)\u001b[0m\u001b[0;34m\u001b[0m\u001b[0;34m\u001b[0m\u001b[0m\n\u001b[0m\u001b[1;32m    151\u001b[0m     \u001b[0;32mexcept\u001b[0m \u001b[0mException\u001b[0m \u001b[0;32mas\u001b[0m \u001b[0me\u001b[0m\u001b[0;34m:\u001b[0m\u001b[0;34m\u001b[0m\u001b[0;34m\u001b[0m\u001b[0m\n\u001b[1;32m    152\u001b[0m       \u001b[0mfiltered_tb\u001b[0m \u001b[0;34m=\u001b[0m \u001b[0m_process_traceback_frames\u001b[0m\u001b[0;34m(\u001b[0m\u001b[0me\u001b[0m\u001b[0;34m.\u001b[0m\u001b[0m__traceback__\u001b[0m\u001b[0;34m)\u001b[0m\u001b[0;34m\u001b[0m\u001b[0;34m\u001b[0m\u001b[0m\n",
            "\u001b[0;32m/usr/local/lib/python3.7/dist-packages/tensorflow/python/eager/def_function.py\u001b[0m in \u001b[0;36m__call__\u001b[0;34m(self, *args, **kwds)\u001b[0m\n\u001b[1;32m    913\u001b[0m \u001b[0;34m\u001b[0m\u001b[0m\n\u001b[1;32m    914\u001b[0m       \u001b[0;32mwith\u001b[0m \u001b[0mOptionalXlaContext\u001b[0m\u001b[0;34m(\u001b[0m\u001b[0mself\u001b[0m\u001b[0;34m.\u001b[0m\u001b[0m_jit_compile\u001b[0m\u001b[0;34m)\u001b[0m\u001b[0;34m:\u001b[0m\u001b[0;34m\u001b[0m\u001b[0;34m\u001b[0m\u001b[0m\n\u001b[0;32m--> 915\u001b[0;31m         \u001b[0mresult\u001b[0m \u001b[0;34m=\u001b[0m \u001b[0mself\u001b[0m\u001b[0;34m.\u001b[0m\u001b[0m_call\u001b[0m\u001b[0;34m(\u001b[0m\u001b[0;34m*\u001b[0m\u001b[0margs\u001b[0m\u001b[0;34m,\u001b[0m \u001b[0;34m**\u001b[0m\u001b[0mkwds\u001b[0m\u001b[0;34m)\u001b[0m\u001b[0;34m\u001b[0m\u001b[0;34m\u001b[0m\u001b[0m\n\u001b[0m\u001b[1;32m    916\u001b[0m \u001b[0;34m\u001b[0m\u001b[0m\n\u001b[1;32m    917\u001b[0m       \u001b[0mnew_tracing_count\u001b[0m \u001b[0;34m=\u001b[0m \u001b[0mself\u001b[0m\u001b[0;34m.\u001b[0m\u001b[0mexperimental_get_tracing_count\u001b[0m\u001b[0;34m(\u001b[0m\u001b[0;34m)\u001b[0m\u001b[0;34m\u001b[0m\u001b[0;34m\u001b[0m\u001b[0m\n",
            "\u001b[0;32m/usr/local/lib/python3.7/dist-packages/tensorflow/python/eager/def_function.py\u001b[0m in \u001b[0;36m_call\u001b[0;34m(self, *args, **kwds)\u001b[0m\n\u001b[1;32m    945\u001b[0m       \u001b[0;31m# In this case we have created variables on the first call, so we run the\u001b[0m\u001b[0;34m\u001b[0m\u001b[0;34m\u001b[0m\u001b[0;34m\u001b[0m\u001b[0m\n\u001b[1;32m    946\u001b[0m       \u001b[0;31m# defunned version which is guaranteed to never create variables.\u001b[0m\u001b[0;34m\u001b[0m\u001b[0;34m\u001b[0m\u001b[0;34m\u001b[0m\u001b[0m\n\u001b[0;32m--> 947\u001b[0;31m       \u001b[0;32mreturn\u001b[0m \u001b[0mself\u001b[0m\u001b[0;34m.\u001b[0m\u001b[0m_stateless_fn\u001b[0m\u001b[0;34m(\u001b[0m\u001b[0;34m*\u001b[0m\u001b[0margs\u001b[0m\u001b[0;34m,\u001b[0m \u001b[0;34m**\u001b[0m\u001b[0mkwds\u001b[0m\u001b[0;34m)\u001b[0m  \u001b[0;31m# pylint: disable=not-callable\u001b[0m\u001b[0;34m\u001b[0m\u001b[0;34m\u001b[0m\u001b[0m\n\u001b[0m\u001b[1;32m    948\u001b[0m     \u001b[0;32melif\u001b[0m \u001b[0mself\u001b[0m\u001b[0;34m.\u001b[0m\u001b[0m_stateful_fn\u001b[0m \u001b[0;32mis\u001b[0m \u001b[0;32mnot\u001b[0m \u001b[0;32mNone\u001b[0m\u001b[0;34m:\u001b[0m\u001b[0;34m\u001b[0m\u001b[0;34m\u001b[0m\u001b[0m\n\u001b[1;32m    949\u001b[0m       \u001b[0;31m# Release the lock early so that multiple threads can perform the call\u001b[0m\u001b[0;34m\u001b[0m\u001b[0;34m\u001b[0m\u001b[0;34m\u001b[0m\u001b[0m\n",
            "\u001b[0;32m/usr/local/lib/python3.7/dist-packages/tensorflow/python/eager/function.py\u001b[0m in \u001b[0;36m__call__\u001b[0;34m(self, *args, **kwargs)\u001b[0m\n\u001b[1;32m   2452\u001b[0m        filtered_flat_args) = self._maybe_define_function(args, kwargs)\n\u001b[1;32m   2453\u001b[0m     return graph_function._call_flat(\n\u001b[0;32m-> 2454\u001b[0;31m         filtered_flat_args, captured_inputs=graph_function.captured_inputs)  # pylint: disable=protected-access\n\u001b[0m\u001b[1;32m   2455\u001b[0m \u001b[0;34m\u001b[0m\u001b[0m\n\u001b[1;32m   2456\u001b[0m   \u001b[0;34m@\u001b[0m\u001b[0mproperty\u001b[0m\u001b[0;34m\u001b[0m\u001b[0;34m\u001b[0m\u001b[0m\n",
            "\u001b[0;32m/usr/local/lib/python3.7/dist-packages/tensorflow/python/eager/function.py\u001b[0m in \u001b[0;36m_call_flat\u001b[0;34m(self, args, captured_inputs, cancellation_manager)\u001b[0m\n\u001b[1;32m   1859\u001b[0m       \u001b[0;31m# No tape is watching; skip to running the function.\u001b[0m\u001b[0;34m\u001b[0m\u001b[0;34m\u001b[0m\u001b[0;34m\u001b[0m\u001b[0m\n\u001b[1;32m   1860\u001b[0m       return self._build_call_outputs(self._inference_function.call(\n\u001b[0;32m-> 1861\u001b[0;31m           ctx, args, cancellation_manager=cancellation_manager))\n\u001b[0m\u001b[1;32m   1862\u001b[0m     forward_backward = self._select_forward_and_backward_functions(\n\u001b[1;32m   1863\u001b[0m         \u001b[0margs\u001b[0m\u001b[0;34m,\u001b[0m\u001b[0;34m\u001b[0m\u001b[0;34m\u001b[0m\u001b[0m\n",
            "\u001b[0;32m/usr/local/lib/python3.7/dist-packages/tensorflow/python/eager/function.py\u001b[0m in \u001b[0;36mcall\u001b[0;34m(self, ctx, args, cancellation_manager)\u001b[0m\n\u001b[1;32m    500\u001b[0m               \u001b[0minputs\u001b[0m\u001b[0;34m=\u001b[0m\u001b[0margs\u001b[0m\u001b[0;34m,\u001b[0m\u001b[0;34m\u001b[0m\u001b[0;34m\u001b[0m\u001b[0m\n\u001b[1;32m    501\u001b[0m               \u001b[0mattrs\u001b[0m\u001b[0;34m=\u001b[0m\u001b[0mattrs\u001b[0m\u001b[0;34m,\u001b[0m\u001b[0;34m\u001b[0m\u001b[0;34m\u001b[0m\u001b[0m\n\u001b[0;32m--> 502\u001b[0;31m               ctx=ctx)\n\u001b[0m\u001b[1;32m    503\u001b[0m         \u001b[0;32melse\u001b[0m\u001b[0;34m:\u001b[0m\u001b[0;34m\u001b[0m\u001b[0;34m\u001b[0m\u001b[0m\n\u001b[1;32m    504\u001b[0m           outputs = execute.execute_with_cancellation(\n",
            "\u001b[0;32m/usr/local/lib/python3.7/dist-packages/tensorflow/python/eager/execute.py\u001b[0m in \u001b[0;36mquick_execute\u001b[0;34m(op_name, num_outputs, inputs, attrs, ctx, name)\u001b[0m\n\u001b[1;32m     53\u001b[0m     \u001b[0mctx\u001b[0m\u001b[0;34m.\u001b[0m\u001b[0mensure_initialized\u001b[0m\u001b[0;34m(\u001b[0m\u001b[0;34m)\u001b[0m\u001b[0;34m\u001b[0m\u001b[0;34m\u001b[0m\u001b[0m\n\u001b[1;32m     54\u001b[0m     tensors = pywrap_tfe.TFE_Py_Execute(ctx._handle, device_name, op_name,\n\u001b[0;32m---> 55\u001b[0;31m                                         inputs, attrs, num_outputs)\n\u001b[0m\u001b[1;32m     56\u001b[0m   \u001b[0;32mexcept\u001b[0m \u001b[0mcore\u001b[0m\u001b[0;34m.\u001b[0m\u001b[0m_NotOkStatusException\u001b[0m \u001b[0;32mas\u001b[0m \u001b[0me\u001b[0m\u001b[0;34m:\u001b[0m\u001b[0;34m\u001b[0m\u001b[0;34m\u001b[0m\u001b[0m\n\u001b[1;32m     57\u001b[0m     \u001b[0;32mif\u001b[0m \u001b[0mname\u001b[0m \u001b[0;32mis\u001b[0m \u001b[0;32mnot\u001b[0m \u001b[0;32mNone\u001b[0m\u001b[0;34m:\u001b[0m\u001b[0;34m\u001b[0m\u001b[0;34m\u001b[0m\u001b[0m\n",
            "\u001b[0;31mKeyboardInterrupt\u001b[0m: "
          ]
        }
      ],
      "source": [
        "coba_history = model_coba.fit(X_train, Y_train, batch_size=batch_size, validation_data=(X_valid, Y_valid), epochs=20, verbose=2)"
      ]
    },
    {
      "cell_type": "code",
      "execution_count": null,
      "metadata": {
        "colab": {
          "base_uri": "https://localhost:8080/",
          "height": 505
        },
        "id": "E5jiVhrwfJKi",
        "outputId": "a08b38e6-bd33-4be0-b4c6-c9da03fe990f"
      },
      "outputs": [
        {
          "data": {
            "text/html": [
              "\n",
              "  <div id=\"df-f4464bf7-ffc9-44b5-aadb-d77af42bbf0e\">\n",
              "    <div class=\"colab-df-container\">\n",
              "      <div>\n",
              "<style scoped>\n",
              "    .dataframe tbody tr th:only-of-type {\n",
              "        vertical-align: middle;\n",
              "    }\n",
              "\n",
              "    .dataframe tbody tr th {\n",
              "        vertical-align: top;\n",
              "    }\n",
              "\n",
              "    .dataframe thead th {\n",
              "        text-align: right;\n",
              "    }\n",
              "</style>\n",
              "<table border=\"1\" class=\"dataframe\">\n",
              "  <thead>\n",
              "    <tr style=\"text-align: right;\">\n",
              "      <th></th>\n",
              "      <th>sales(t-127)</th>\n",
              "      <th>sales(t-126)</th>\n",
              "      <th>sales(t-125)</th>\n",
              "      <th>sales(t-124)</th>\n",
              "      <th>sales(t-123)</th>\n",
              "      <th>sales(t-122)</th>\n",
              "      <th>sales(t-121)</th>\n",
              "      <th>sales(t-120)</th>\n",
              "      <th>sales(t-119)</th>\n",
              "      <th>sales(t-118)</th>\n",
              "      <th>...</th>\n",
              "      <th>sales(t-9)</th>\n",
              "      <th>sales(t-8)</th>\n",
              "      <th>sales(t-7)</th>\n",
              "      <th>sales(t-6)</th>\n",
              "      <th>sales(t-5)</th>\n",
              "      <th>sales(t-4)</th>\n",
              "      <th>sales(t-3)</th>\n",
              "      <th>sales(t-2)</th>\n",
              "      <th>sales(t-1)</th>\n",
              "      <th>sales(t)</th>\n",
              "    </tr>\n",
              "  </thead>\n",
              "  <tbody>\n",
              "    <tr>\n",
              "      <th>180636</th>\n",
              "      <td>0.331878</td>\n",
              "      <td>0.310044</td>\n",
              "      <td>0.340611</td>\n",
              "      <td>0.340611</td>\n",
              "      <td>0.353712</td>\n",
              "      <td>0.305677</td>\n",
              "      <td>0.288210</td>\n",
              "      <td>0.275109</td>\n",
              "      <td>0.327511</td>\n",
              "      <td>0.283843</td>\n",
              "      <td>...</td>\n",
              "      <td>0.209607</td>\n",
              "      <td>0.187773</td>\n",
              "      <td>0.218341</td>\n",
              "      <td>0.270742</td>\n",
              "      <td>0.323144</td>\n",
              "      <td>0.231441</td>\n",
              "      <td>0.205240</td>\n",
              "      <td>0.196507</td>\n",
              "      <td>0.253275</td>\n",
              "      <td>0.257642</td>\n",
              "    </tr>\n",
              "    <tr>\n",
              "      <th>179077</th>\n",
              "      <td>0.318777</td>\n",
              "      <td>0.244541</td>\n",
              "      <td>0.288210</td>\n",
              "      <td>0.318777</td>\n",
              "      <td>0.323144</td>\n",
              "      <td>0.353712</td>\n",
              "      <td>0.266376</td>\n",
              "      <td>0.292576</td>\n",
              "      <td>0.209607</td>\n",
              "      <td>0.327511</td>\n",
              "      <td>...</td>\n",
              "      <td>0.283843</td>\n",
              "      <td>0.266376</td>\n",
              "      <td>0.257642</td>\n",
              "      <td>0.310044</td>\n",
              "      <td>0.384279</td>\n",
              "      <td>0.397380</td>\n",
              "      <td>0.353712</td>\n",
              "      <td>0.292576</td>\n",
              "      <td>0.340611</td>\n",
              "      <td>0.296943</td>\n",
              "    </tr>\n",
              "    <tr>\n",
              "      <th>148431</th>\n",
              "      <td>0.056769</td>\n",
              "      <td>0.052402</td>\n",
              "      <td>0.065502</td>\n",
              "      <td>0.082969</td>\n",
              "      <td>0.074236</td>\n",
              "      <td>0.091703</td>\n",
              "      <td>0.048035</td>\n",
              "      <td>0.113537</td>\n",
              "      <td>0.087336</td>\n",
              "      <td>0.082969</td>\n",
              "      <td>...</td>\n",
              "      <td>0.065502</td>\n",
              "      <td>0.096070</td>\n",
              "      <td>0.104803</td>\n",
              "      <td>0.061135</td>\n",
              "      <td>0.074236</td>\n",
              "      <td>0.074236</td>\n",
              "      <td>0.100437</td>\n",
              "      <td>0.082969</td>\n",
              "      <td>0.056769</td>\n",
              "      <td>0.074236</td>\n",
              "    </tr>\n",
              "    <tr>\n",
              "      <th>108332</th>\n",
              "      <td>0.152838</td>\n",
              "      <td>0.148472</td>\n",
              "      <td>0.218341</td>\n",
              "      <td>0.196507</td>\n",
              "      <td>0.100437</td>\n",
              "      <td>0.122271</td>\n",
              "      <td>0.126638</td>\n",
              "      <td>0.152838</td>\n",
              "      <td>0.170306</td>\n",
              "      <td>0.161572</td>\n",
              "      <td>...</td>\n",
              "      <td>0.135371</td>\n",
              "      <td>0.144105</td>\n",
              "      <td>0.126638</td>\n",
              "      <td>0.131004</td>\n",
              "      <td>0.152838</td>\n",
              "      <td>0.104803</td>\n",
              "      <td>0.117904</td>\n",
              "      <td>0.139738</td>\n",
              "      <td>0.135371</td>\n",
              "      <td>0.135371</td>\n",
              "    </tr>\n",
              "    <tr>\n",
              "      <th>116657</th>\n",
              "      <td>0.253275</td>\n",
              "      <td>0.340611</td>\n",
              "      <td>0.270742</td>\n",
              "      <td>0.257642</td>\n",
              "      <td>0.157205</td>\n",
              "      <td>0.179039</td>\n",
              "      <td>0.227074</td>\n",
              "      <td>0.222707</td>\n",
              "      <td>0.248908</td>\n",
              "      <td>0.235808</td>\n",
              "      <td>...</td>\n",
              "      <td>0.235808</td>\n",
              "      <td>0.227074</td>\n",
              "      <td>0.283843</td>\n",
              "      <td>0.401747</td>\n",
              "      <td>0.327511</td>\n",
              "      <td>0.165939</td>\n",
              "      <td>0.253275</td>\n",
              "      <td>0.218341</td>\n",
              "      <td>0.240175</td>\n",
              "      <td>0.310044</td>\n",
              "    </tr>\n",
              "    <tr>\n",
              "      <th>...</th>\n",
              "      <td>...</td>\n",
              "      <td>...</td>\n",
              "      <td>...</td>\n",
              "      <td>...</td>\n",
              "      <td>...</td>\n",
              "      <td>...</td>\n",
              "      <td>...</td>\n",
              "      <td>...</td>\n",
              "      <td>...</td>\n",
              "      <td>...</td>\n",
              "      <td>...</td>\n",
              "      <td>...</td>\n",
              "      <td>...</td>\n",
              "      <td>...</td>\n",
              "      <td>...</td>\n",
              "      <td>...</td>\n",
              "      <td>...</td>\n",
              "      <td>...</td>\n",
              "      <td>...</td>\n",
              "      <td>...</td>\n",
              "      <td>...</td>\n",
              "    </tr>\n",
              "    <tr>\n",
              "      <th>70402</th>\n",
              "      <td>0.366812</td>\n",
              "      <td>0.310044</td>\n",
              "      <td>0.227074</td>\n",
              "      <td>0.344978</td>\n",
              "      <td>0.288210</td>\n",
              "      <td>0.344978</td>\n",
              "      <td>0.253275</td>\n",
              "      <td>0.423581</td>\n",
              "      <td>0.406114</td>\n",
              "      <td>0.257642</td>\n",
              "      <td>...</td>\n",
              "      <td>0.362445</td>\n",
              "      <td>0.327511</td>\n",
              "      <td>0.275109</td>\n",
              "      <td>0.235808</td>\n",
              "      <td>0.292576</td>\n",
              "      <td>0.253275</td>\n",
              "      <td>0.318777</td>\n",
              "      <td>0.336245</td>\n",
              "      <td>0.353712</td>\n",
              "      <td>0.301310</td>\n",
              "    </tr>\n",
              "    <tr>\n",
              "      <th>180944</th>\n",
              "      <td>0.174672</td>\n",
              "      <td>0.266376</td>\n",
              "      <td>0.323144</td>\n",
              "      <td>0.296943</td>\n",
              "      <td>0.296943</td>\n",
              "      <td>0.305677</td>\n",
              "      <td>0.270742</td>\n",
              "      <td>0.257642</td>\n",
              "      <td>0.257642</td>\n",
              "      <td>0.266376</td>\n",
              "      <td>...</td>\n",
              "      <td>0.218341</td>\n",
              "      <td>0.248908</td>\n",
              "      <td>0.235808</td>\n",
              "      <td>0.231441</td>\n",
              "      <td>0.279476</td>\n",
              "      <td>0.283843</td>\n",
              "      <td>0.310044</td>\n",
              "      <td>0.170306</td>\n",
              "      <td>0.209607</td>\n",
              "      <td>0.344978</td>\n",
              "    </tr>\n",
              "    <tr>\n",
              "      <th>65473</th>\n",
              "      <td>0.296943</td>\n",
              "      <td>0.283843</td>\n",
              "      <td>0.358079</td>\n",
              "      <td>0.344978</td>\n",
              "      <td>0.275109</td>\n",
              "      <td>0.253275</td>\n",
              "      <td>0.301310</td>\n",
              "      <td>0.266376</td>\n",
              "      <td>0.248908</td>\n",
              "      <td>0.283843</td>\n",
              "      <td>...</td>\n",
              "      <td>0.436681</td>\n",
              "      <td>0.506550</td>\n",
              "      <td>0.593886</td>\n",
              "      <td>0.580786</td>\n",
              "      <td>0.554585</td>\n",
              "      <td>0.406114</td>\n",
              "      <td>0.480349</td>\n",
              "      <td>0.419214</td>\n",
              "      <td>0.554585</td>\n",
              "      <td>0.506550</td>\n",
              "    </tr>\n",
              "    <tr>\n",
              "      <th>66935</th>\n",
              "      <td>0.144105</td>\n",
              "      <td>0.148472</td>\n",
              "      <td>0.113537</td>\n",
              "      <td>0.131004</td>\n",
              "      <td>0.104803</td>\n",
              "      <td>0.135371</td>\n",
              "      <td>0.183406</td>\n",
              "      <td>0.157205</td>\n",
              "      <td>0.135371</td>\n",
              "      <td>0.126638</td>\n",
              "      <td>...</td>\n",
              "      <td>0.257642</td>\n",
              "      <td>0.213974</td>\n",
              "      <td>0.270742</td>\n",
              "      <td>0.192140</td>\n",
              "      <td>0.222707</td>\n",
              "      <td>0.152838</td>\n",
              "      <td>0.170306</td>\n",
              "      <td>0.231441</td>\n",
              "      <td>0.262009</td>\n",
              "      <td>0.266376</td>\n",
              "    </tr>\n",
              "    <tr>\n",
              "      <th>104717</th>\n",
              "      <td>0.305677</td>\n",
              "      <td>0.331878</td>\n",
              "      <td>0.296943</td>\n",
              "      <td>0.301310</td>\n",
              "      <td>0.227074</td>\n",
              "      <td>0.257642</td>\n",
              "      <td>0.248908</td>\n",
              "      <td>0.266376</td>\n",
              "      <td>0.266376</td>\n",
              "      <td>0.292576</td>\n",
              "      <td>...</td>\n",
              "      <td>0.244541</td>\n",
              "      <td>0.213974</td>\n",
              "      <td>0.157205</td>\n",
              "      <td>0.262009</td>\n",
              "      <td>0.323144</td>\n",
              "      <td>0.235808</td>\n",
              "      <td>0.262009</td>\n",
              "      <td>0.270742</td>\n",
              "      <td>0.288210</td>\n",
              "      <td>0.248908</td>\n",
              "    </tr>\n",
              "  </tbody>\n",
              "</table>\n",
              "<p>71346 rows × 128 columns</p>\n",
              "</div>\n",
              "      <button class=\"colab-df-convert\" onclick=\"convertToInteractive('df-f4464bf7-ffc9-44b5-aadb-d77af42bbf0e')\"\n",
              "              title=\"Convert this dataframe to an interactive table.\"\n",
              "              style=\"display:none;\">\n",
              "        \n",
              "  <svg xmlns=\"http://www.w3.org/2000/svg\" height=\"24px\"viewBox=\"0 0 24 24\"\n",
              "       width=\"24px\">\n",
              "    <path d=\"M0 0h24v24H0V0z\" fill=\"none\"/>\n",
              "    <path d=\"M18.56 5.44l.94 2.06.94-2.06 2.06-.94-2.06-.94-.94-2.06-.94 2.06-2.06.94zm-11 1L8.5 8.5l.94-2.06 2.06-.94-2.06-.94L8.5 2.5l-.94 2.06-2.06.94zm10 10l.94 2.06.94-2.06 2.06-.94-2.06-.94-.94-2.06-.94 2.06-2.06.94z\"/><path d=\"M17.41 7.96l-1.37-1.37c-.4-.4-.92-.59-1.43-.59-.52 0-1.04.2-1.43.59L10.3 9.45l-7.72 7.72c-.78.78-.78 2.05 0 2.83L4 21.41c.39.39.9.59 1.41.59.51 0 1.02-.2 1.41-.59l7.78-7.78 2.81-2.81c.8-.78.8-2.07 0-2.86zM5.41 20L4 18.59l7.72-7.72 1.47 1.35L5.41 20z\"/>\n",
              "  </svg>\n",
              "      </button>\n",
              "      \n",
              "  <style>\n",
              "    .colab-df-container {\n",
              "      display:flex;\n",
              "      flex-wrap:wrap;\n",
              "      gap: 12px;\n",
              "    }\n",
              "\n",
              "    .colab-df-convert {\n",
              "      background-color: #E8F0FE;\n",
              "      border: none;\n",
              "      border-radius: 50%;\n",
              "      cursor: pointer;\n",
              "      display: none;\n",
              "      fill: #1967D2;\n",
              "      height: 32px;\n",
              "      padding: 0 0 0 0;\n",
              "      width: 32px;\n",
              "    }\n",
              "\n",
              "    .colab-df-convert:hover {\n",
              "      background-color: #E2EBFA;\n",
              "      box-shadow: 0px 1px 2px rgba(60, 64, 67, 0.3), 0px 1px 3px 1px rgba(60, 64, 67, 0.15);\n",
              "      fill: #174EA6;\n",
              "    }\n",
              "\n",
              "    [theme=dark] .colab-df-convert {\n",
              "      background-color: #3B4455;\n",
              "      fill: #D2E3FC;\n",
              "    }\n",
              "\n",
              "    [theme=dark] .colab-df-convert:hover {\n",
              "      background-color: #434B5C;\n",
              "      box-shadow: 0px 1px 3px 1px rgba(0, 0, 0, 0.15);\n",
              "      filter: drop-shadow(0px 1px 2px rgba(0, 0, 0, 0.3));\n",
              "      fill: #FFFFFF;\n",
              "    }\n",
              "  </style>\n",
              "\n",
              "      <script>\n",
              "        const buttonEl =\n",
              "          document.querySelector('#df-f4464bf7-ffc9-44b5-aadb-d77af42bbf0e button.colab-df-convert');\n",
              "        buttonEl.style.display =\n",
              "          google.colab.kernel.accessAllowed ? 'block' : 'none';\n",
              "\n",
              "        async function convertToInteractive(key) {\n",
              "          const element = document.querySelector('#df-f4464bf7-ffc9-44b5-aadb-d77af42bbf0e');\n",
              "          const dataTable =\n",
              "            await google.colab.kernel.invokeFunction('convertToInteractive',\n",
              "                                                     [key], {});\n",
              "          if (!dataTable) return;\n",
              "\n",
              "          const docLinkHtml = 'Like what you see? Visit the ' +\n",
              "            '<a target=\"_blank\" href=https://colab.research.google.com/notebooks/data_table.ipynb>data table notebook</a>'\n",
              "            + ' to learn more about interactive tables.';\n",
              "          element.innerHTML = '';\n",
              "          dataTable['output_type'] = 'display_data';\n",
              "          await google.colab.output.renderOutput(dataTable, element);\n",
              "          const docLink = document.createElement('div');\n",
              "          docLink.innerHTML = docLinkHtml;\n",
              "          element.appendChild(docLink);\n",
              "        }\n",
              "      </script>\n",
              "    </div>\n",
              "  </div>\n",
              "  "
            ],
            "text/plain": [
              "        sales(t-127)  sales(t-126)  sales(t-125)  sales(t-124)  sales(t-123)  \\\n",
              "180636      0.331878      0.310044      0.340611      0.340611      0.353712   \n",
              "179077      0.318777      0.244541      0.288210      0.318777      0.323144   \n",
              "148431      0.056769      0.052402      0.065502      0.082969      0.074236   \n",
              "108332      0.152838      0.148472      0.218341      0.196507      0.100437   \n",
              "116657      0.253275      0.340611      0.270742      0.257642      0.157205   \n",
              "...              ...           ...           ...           ...           ...   \n",
              "70402       0.366812      0.310044      0.227074      0.344978      0.288210   \n",
              "180944      0.174672      0.266376      0.323144      0.296943      0.296943   \n",
              "65473       0.296943      0.283843      0.358079      0.344978      0.275109   \n",
              "66935       0.144105      0.148472      0.113537      0.131004      0.104803   \n",
              "104717      0.305677      0.331878      0.296943      0.301310      0.227074   \n",
              "\n",
              "        sales(t-122)  sales(t-121)  sales(t-120)  sales(t-119)  sales(t-118)  \\\n",
              "180636      0.305677      0.288210      0.275109      0.327511      0.283843   \n",
              "179077      0.353712      0.266376      0.292576      0.209607      0.327511   \n",
              "148431      0.091703      0.048035      0.113537      0.087336      0.082969   \n",
              "108332      0.122271      0.126638      0.152838      0.170306      0.161572   \n",
              "116657      0.179039      0.227074      0.222707      0.248908      0.235808   \n",
              "...              ...           ...           ...           ...           ...   \n",
              "70402       0.344978      0.253275      0.423581      0.406114      0.257642   \n",
              "180944      0.305677      0.270742      0.257642      0.257642      0.266376   \n",
              "65473       0.253275      0.301310      0.266376      0.248908      0.283843   \n",
              "66935       0.135371      0.183406      0.157205      0.135371      0.126638   \n",
              "104717      0.257642      0.248908      0.266376      0.266376      0.292576   \n",
              "\n",
              "        ...  sales(t-9)  sales(t-8)  sales(t-7)  sales(t-6)  sales(t-5)  \\\n",
              "180636  ...    0.209607    0.187773    0.218341    0.270742    0.323144   \n",
              "179077  ...    0.283843    0.266376    0.257642    0.310044    0.384279   \n",
              "148431  ...    0.065502    0.096070    0.104803    0.061135    0.074236   \n",
              "108332  ...    0.135371    0.144105    0.126638    0.131004    0.152838   \n",
              "116657  ...    0.235808    0.227074    0.283843    0.401747    0.327511   \n",
              "...     ...         ...         ...         ...         ...         ...   \n",
              "70402   ...    0.362445    0.327511    0.275109    0.235808    0.292576   \n",
              "180944  ...    0.218341    0.248908    0.235808    0.231441    0.279476   \n",
              "65473   ...    0.436681    0.506550    0.593886    0.580786    0.554585   \n",
              "66935   ...    0.257642    0.213974    0.270742    0.192140    0.222707   \n",
              "104717  ...    0.244541    0.213974    0.157205    0.262009    0.323144   \n",
              "\n",
              "        sales(t-4)  sales(t-3)  sales(t-2)  sales(t-1)  sales(t)  \n",
              "180636    0.231441    0.205240    0.196507    0.253275  0.257642  \n",
              "179077    0.397380    0.353712    0.292576    0.340611  0.296943  \n",
              "148431    0.074236    0.100437    0.082969    0.056769  0.074236  \n",
              "108332    0.104803    0.117904    0.139738    0.135371  0.135371  \n",
              "116657    0.165939    0.253275    0.218341    0.240175  0.310044  \n",
              "...            ...         ...         ...         ...       ...  \n",
              "70402     0.253275    0.318777    0.336245    0.353712  0.301310  \n",
              "180944    0.283843    0.310044    0.170306    0.209607  0.344978  \n",
              "65473     0.406114    0.480349    0.419214    0.554585  0.506550  \n",
              "66935     0.152838    0.170306    0.231441    0.262009  0.266376  \n",
              "104717    0.235808    0.262009    0.270742    0.288210  0.248908  \n",
              "\n",
              "[71346 rows x 128 columns]"
            ]
          },
          "execution_count": 59,
          "metadata": {},
          "output_type": "execute_result"
        }
      ],
      "source": [
        "X_train"
      ]
    },
    {
      "cell_type": "code",
      "execution_count": null,
      "metadata": {
        "colab": {
          "base_uri": "https://localhost:8080/"
        },
        "id": "-uwH0TzmfHHL",
        "outputId": "56cdc36f-6d60-4b22-d95c-348a7e7c63cd"
      },
      "outputs": [
        {
          "name": "stdout",
          "output_type": "stream",
          "text": [
            "Epoch 1/20\n",
            "2230/2230 - 223s - loss: 646.0332 - mae: 17.4969 - mape: 37.5793 - val_loss: 322.0630 - val_mae: 13.0726 - val_mape: 29.3126 - 223s/epoch - 100ms/step\n",
            "Epoch 2/20\n",
            "2230/2230 - 220s - loss: 277.6379 - mae: 12.2037 - mape: 28.2618 - val_loss: 245.3239 - val_mae: 11.4954 - val_mape: 26.6880 - 220s/epoch - 99ms/step\n",
            "Epoch 3/20\n",
            "2230/2230 - 220s - loss: 237.5035 - mae: 11.4045 - mape: 27.0187 - val_loss: 226.1263 - val_mae: 11.0923 - val_mape: 25.7639 - 220s/epoch - 98ms/step\n",
            "Epoch 4/20\n",
            "2230/2230 - 219s - loss: 227.7129 - mae: 11.1865 - mape: 26.6249 - val_loss: 220.3195 - val_mae: 10.9503 - val_mape: 25.6188 - 219s/epoch - 98ms/step\n",
            "Epoch 5/20\n",
            "2230/2230 - 219s - loss: 221.6074 - mae: 11.0473 - mape: 26.3436 - val_loss: 214.6993 - val_mae: 10.8687 - val_mape: 25.6978 - 219s/epoch - 98ms/step\n",
            "Epoch 6/20\n",
            "2230/2230 - 220s - loss: 215.5723 - mae: 10.8943 - mape: 26.0016 - val_loss: 210.1137 - val_mae: 10.8249 - val_mape: 26.0380 - 220s/epoch - 99ms/step\n",
            "Epoch 7/20\n",
            "2230/2230 - 220s - loss: 209.6331 - mae: 10.7531 - mape: 25.6635 - val_loss: 204.8460 - val_mae: 10.6809 - val_mape: 25.8405 - 220s/epoch - 99ms/step\n",
            "Epoch 8/20\n",
            "2230/2230 - 221s - loss: 205.1858 - mae: 10.6250 - mape: 25.3445 - val_loss: 203.5969 - val_mae: 10.6044 - val_mape: 25.3553 - 221s/epoch - 99ms/step\n",
            "Epoch 9/20\n",
            "2230/2230 - 221s - loss: 202.4852 - mae: 10.5453 - mape: 25.1209 - val_loss: 200.5943 - val_mae: 10.4731 - val_mape: 24.7901 - 221s/epoch - 99ms/step\n",
            "Epoch 10/20\n",
            "2230/2230 - 220s - loss: 200.3756 - mae: 10.4717 - mape: 24.9316 - val_loss: 198.0418 - val_mae: 10.3021 - val_mape: 23.5409 - 220s/epoch - 98ms/step\n",
            "Epoch 11/20\n",
            "2230/2230 - 221s - loss: 198.2572 - mae: 10.4190 - mape: 24.7400 - val_loss: 197.0853 - val_mae: 10.4322 - val_mape: 24.9435 - 221s/epoch - 99ms/step\n",
            "Epoch 12/20\n",
            "2230/2230 - 217s - loss: 196.7417 - mae: 10.3645 - mape: 24.5649 - val_loss: 194.7474 - val_mae: 10.2490 - val_mape: 23.8241 - 217s/epoch - 97ms/step\n",
            "Epoch 13/20\n",
            "2230/2230 - 216s - loss: 195.7776 - mae: 10.3272 - mape: 24.4556 - val_loss: 192.7995 - val_mae: 10.1941 - val_mape: 23.5669 - 216s/epoch - 97ms/step\n",
            "Epoch 14/20\n",
            "2230/2230 - 218s - loss: 195.0380 - mae: 10.3056 - mape: 24.3636 - val_loss: 193.9790 - val_mae: 10.2955 - val_mape: 24.4435 - 218s/epoch - 98ms/step\n",
            "Epoch 15/20\n",
            "2230/2230 - 216s - loss: 193.9223 - mae: 10.2605 - mape: 24.2404 - val_loss: 190.7388 - val_mae: 10.1868 - val_mape: 23.8936 - 216s/epoch - 97ms/step\n",
            "Epoch 16/20\n",
            "2230/2230 - 216s - loss: 193.2786 - mae: 10.2464 - mape: 24.2081 - val_loss: 190.4641 - val_mae: 10.2217 - val_mape: 24.1894 - 216s/epoch - 97ms/step\n",
            "Epoch 17/20\n",
            "2230/2230 - 218s - loss: 192.1177 - mae: 10.2095 - mape: 24.1351 - val_loss: 189.6981 - val_mae: 10.1520 - val_mape: 23.8952 - 218s/epoch - 98ms/step\n",
            "Epoch 18/20\n",
            "2230/2230 - 218s - loss: 191.6910 - mae: 10.1978 - mape: 24.1006 - val_loss: 191.4684 - val_mae: 10.1039 - val_mape: 23.1328 - 218s/epoch - 98ms/step\n",
            "Epoch 19/20\n",
            "2230/2230 - 218s - loss: 190.7351 - mae: 10.1684 - mape: 24.0645 - val_loss: 192.7600 - val_mae: 10.1132 - val_mape: 22.7698 - 218s/epoch - 98ms/step\n",
            "Epoch 20/20\n",
            "2230/2230 - 218s - loss: 189.9858 - mae: 10.1444 - mape: 24.0105 - val_loss: 195.6370 - val_mae: 10.5177 - val_mape: 25.8562 - 218s/epoch - 98ms/step\n"
          ]
        }
      ],
      "source": [
        "coba_history = model_coba.fit(X_train, Y_train, batch_size=batch_size, validation_data=(X_valid, Y_valid), epochs=20, verbose=2)"
      ]
    },
    {
      "cell_type": "code",
      "execution_count": null,
      "metadata": {
        "colab": {
          "background_save": true,
          "base_uri": "https://localhost:8080/"
        },
        "id": "TOg0IinceGn-",
        "outputId": "1e6ce16c-c222-4277-8240-8a368e3fa8d5"
      },
      "outputs": [
        {
          "name": "stdout",
          "output_type": "stream",
          "text": [
            "Epoch 1/20\n",
            "2230/2230 - 340s - loss: 0.0055 - mae: 0.0544 - mape: 1829.5112 - val_loss: 0.0045 - val_mae: 0.0496 - val_mape: 28.3709 - 340s/epoch - 152ms/step\n",
            "Epoch 2/20\n",
            "2230/2230 - 335s - loss: 0.0040 - mae: 0.0469 - mape: 1600.4358 - val_loss: 0.0038 - val_mae: 0.0451 - val_mape: 26.2477 - 335s/epoch - 150ms/step\n",
            "Epoch 3/20\n",
            "2230/2230 - 329s - loss: 0.0039 - mae: 0.0459 - mape: 2074.6831 - val_loss: 0.0038 - val_mae: 0.0447 - val_mape: 25.1064 - 329s/epoch - 147ms/step\n",
            "Epoch 4/20\n",
            "2230/2230 - 328s - loss: 0.0037 - mae: 0.0450 - mape: 1955.9257 - val_loss: 0.0036 - val_mae: 0.0444 - val_mape: 26.3431 - 328s/epoch - 147ms/step\n",
            "Epoch 5/20\n",
            "2230/2230 - 330s - loss: 0.0036 - mae: 0.0443 - mape: 1998.6318 - val_loss: 0.0036 - val_mae: 0.0442 - val_mape: 25.5680 - 330s/epoch - 148ms/step\n",
            "Epoch 6/20\n",
            "2230/2230 - 350s - loss: 0.0035 - mae: 0.0436 - mape: 1717.4258 - val_loss: 0.0036 - val_mae: 0.0440 - val_mape: 25.7683 - 350s/epoch - 157ms/step\n",
            "Epoch 7/20\n",
            "2230/2230 - 338s - loss: 0.0034 - mae: 0.0427 - mape: 2100.9414 - val_loss: 0.0032 - val_mae: 0.0425 - val_mape: 26.4630 - 338s/epoch - 152ms/step\n",
            "Epoch 8/20\n",
            "2230/2230 - 336s - loss: 0.0031 - mae: 0.0410 - mape: 1828.5514 - val_loss: 0.0030 - val_mae: 0.0401 - val_mape: 24.9325 - 336s/epoch - 150ms/step\n",
            "Epoch 9/20\n",
            "2230/2230 - 338s - loss: 0.0030 - mae: 0.0401 - mape: 2385.4312 - val_loss: 0.0031 - val_mae: 0.0406 - val_mape: 23.9558 - 338s/epoch - 151ms/step\n",
            "Epoch 10/20\n",
            "2230/2230 - 337s - loss: 0.0030 - mae: 0.0396 - mape: 2171.4575 - val_loss: 0.0029 - val_mae: 0.0394 - val_mape: 24.2182 - 337s/epoch - 151ms/step\n",
            "Epoch 11/20\n",
            "2230/2230 - 330s - loss: 0.0029 - mae: 0.0395 - mape: 2097.2024 - val_loss: 0.0029 - val_mae: 0.0395 - val_mape: 24.5336 - 330s/epoch - 148ms/step\n",
            "Epoch 12/20\n",
            "2230/2230 - 332s - loss: 0.0029 - mae: 0.0393 - mape: 1782.4807 - val_loss: 0.0029 - val_mae: 0.0393 - val_mape: 24.0361 - 332s/epoch - 149ms/step\n",
            "Epoch 13/20\n",
            "2230/2230 - 332s - loss: 0.0029 - mae: 0.0391 - mape: 2001.1816 - val_loss: 0.0028 - val_mae: 0.0385 - val_mape: 23.1136 - 332s/epoch - 149ms/step\n",
            "Epoch 14/20\n",
            "2230/2230 - 332s - loss: 0.0029 - mae: 0.0390 - mape: 2195.7590 - val_loss: 0.0028 - val_mae: 0.0380 - val_mape: 23.1512 - 332s/epoch - 149ms/step\n",
            "Epoch 15/20\n",
            "2230/2230 - 380s - loss: 0.0029 - mae: 0.0388 - mape: 1952.7461 - val_loss: 0.0028 - val_mae: 0.0378 - val_mape: 22.1731 - 380s/epoch - 171ms/step\n",
            "Epoch 16/20\n",
            "2230/2230 - 330s - loss: 0.0028 - mae: 0.0387 - mape: 2022.6100 - val_loss: 0.0030 - val_mae: 0.0392 - val_mape: 23.1973 - 330s/epoch - 148ms/step\n",
            "Epoch 17/20\n",
            "2230/2230 - 332s - loss: 0.0028 - mae: 0.0387 - mape: 2231.1174 - val_loss: 0.0028 - val_mae: 0.0384 - val_mape: 23.1652 - 332s/epoch - 149ms/step\n",
            "Epoch 18/20\n",
            "2230/2230 - 332s - loss: 0.0028 - mae: 0.0386 - mape: 1777.4022 - val_loss: 0.0029 - val_mae: 0.0391 - val_mape: 23.4560 - 332s/epoch - 149ms/step\n",
            "Epoch 19/20\n",
            "2230/2230 - 331s - loss: 0.0028 - mae: 0.0384 - mape: 2074.5955 - val_loss: 0.0028 - val_mae: 0.0383 - val_mape: 23.5400 - 331s/epoch - 148ms/step\n",
            "Epoch 20/20\n",
            "2230/2230 - 331s - loss: 0.0028 - mae: 0.0384 - mape: 2028.2246 - val_loss: 0.0028 - val_mae: 0.0388 - val_mape: 23.5470 - 331s/epoch - 149ms/step\n"
          ]
        }
      ],
      "source": [
        "coba_history = model_coba.fit(X_train, Y_train, batch_size=batch_size, validation_data=(X_valid, Y_valid), epochs=20, verbose=2)"
      ]
    },
    {
      "cell_type": "code",
      "execution_count": null,
      "metadata": {
        "id": "jDv4KXcyHkvC"
      },
      "outputs": [],
      "source": [
        "X_train_series.shape"
      ]
    },
    {
      "cell_type": "code",
      "execution_count": null,
      "metadata": {
        "id": "7LXzwW1MHoHJ"
      },
      "outputs": [],
      "source": [
        "X_train.shape[1]"
      ]
    },
    {
      "cell_type": "code",
      "execution_count": null,
      "metadata": {
        "id": "Gjfmijw4H1rK"
      },
      "outputs": [],
      "source": [
        "X_train.shape[2]"
      ]
    },
    {
      "cell_type": "code",
      "execution_count": null,
      "metadata": {
        "id": "eWk5FnArFwYg"
      },
      "outputs": [],
      "source": [
        "model_lstm = Sequential()\n",
        "model_lstm.add(LSTM(50, activation='relu', input_shape=(X_train.shape[1], X_train.shape[2])))\n",
        "model_lstm.add(Dense(1))\n",
        "model_lstm.compile(loss='mse', optimizer=adam)\n",
        "model_lstm.summary()"
      ]
    },
    {
      "cell_type": "code",
      "execution_count": null,
      "metadata": {
        "id": "tf8C-7wWF_uk"
      },
      "outputs": [],
      "source": [
        "lstm_history = model_lstm.fit(X_train, Y_train, validation_data=(X_valid, Y_valid), epochs=epochs, verbose=2)"
      ]
    },
    {
      "cell_type": "code",
      "execution_count": null,
      "metadata": {
        "id": "fXyy9rRDTgQZ"
      },
      "outputs": [],
      "source": [
        "lstm_history = model_lstm.fit(X_train_series, Y_train, batch_size=batch_size, validation_data=(X_valid_series, Y_valid), epochs=epochs, verbose=2)"
      ]
    },
    {
      "cell_type": "markdown",
      "metadata": {
        "id": "pu8GYrnqViz1"
      },
      "source": [
        "# CNN - LSTM"
      ]
    },
    {
      "cell_type": "code",
      "execution_count": null,
      "metadata": {
        "id": "86ChJvMpVnJt"
      },
      "outputs": [],
      "source": [
        "subsequences = 2\n",
        "timesteps = X_train_series.shape[1]//subsequences\n",
        "X_train_series_sub = X_train_series.reshape((X_train_series.shape[0], subsequences, timesteps, 1))\n",
        "X_valid_series_sub = X_valid_series.reshape((X_valid_series.shape[0], subsequences, timesteps, 1))\n",
        "print('Train set shape', X_train_series_sub.shape)\n",
        "print('Validation set shape', X_valid_series_sub.shape)"
      ]
    },
    {
      "cell_type": "code",
      "execution_count": null,
      "metadata": {
        "id": "rKA13t1ZLJH3"
      },
      "outputs": [],
      "source": [
        "model_cnn_lstm = Sequential()\n",
        "model_cnn_lstm.add(TimeDistributed(Conv1D(filters=64, kernel_size=1, activation='relu'), input_shape=(X_train.shape[1], X_train.shape[2])))\n",
        "model_cnn_lstm.add(TimeDistributed(MaxPooling1D(pool_size=2)))\n",
        "model_cnn_lstm.add(TimeDistributed(Flatten()))\n",
        "model_cnn_lstm.add(LSTM(50, activation='relu'))\n",
        "model_cnn_lstm.add(Dense(1))\n",
        "model_cnn_lstm.compile(loss='mse', optimizer=adam)"
      ]
    },
    {
      "cell_type": "code",
      "execution_count": null,
      "metadata": {
        "id": "f7DWILvtLSxP"
      },
      "outputs": [],
      "source": [
        "cnn_lstm_history = model_cnn_lstm.fit(X_train, Y_train, validation_data=(X_valid, Y_valid), epochs=epochs, verbose=2)"
      ]
    },
    {
      "cell_type": "code",
      "execution_count": null,
      "metadata": {
        "id": "gSd71tK_Vq3H"
      },
      "outputs": [],
      "source": [
        "model_cnn_lstm = Sequential()\n",
        "model_cnn_lstm.add(TimeDistributed(Conv1D(filters=64, kernel_size=1, activation='relu'), input_shape=(None, X_train_series_sub.shape[2], X_train_series_sub.shape[3])))\n",
        "model_cnn_lstm.add(TimeDistributed(MaxPooling1D(pool_size=2)))\n",
        "model_cnn_lstm.add(TimeDistributed(Flatten()))\n",
        "model_cnn_lstm.add(LSTM(50, activation='relu'))\n",
        "model_cnn_lstm.add(Dense(1))\n",
        "model_cnn_lstm.compile(loss='mse', optimizer=adam)"
      ]
    },
    {
      "cell_type": "code",
      "execution_count": null,
      "metadata": {
        "id": "35EsjgfkbQVA"
      },
      "outputs": [],
      "source": [
        "cnn_lstm_history = model_cnn_lstm.fit(X_train_series_sub, Y_train, validation_data=(X_valid_series_sub, Y_valid), epochs=epochs, verbose=2)"
      ]
    },
    {
      "cell_type": "markdown",
      "metadata": {
        "id": "G1hNb4uu_FTR"
      },
      "source": [
        "# GRU"
      ]
    },
    {
      "cell_type": "code",
      "execution_count": null,
      "metadata": {
        "colab": {
          "base_uri": "https://localhost:8080/"
        },
        "id": "6iR8qxCr_JNN",
        "outputId": "3c388f3e-1235-433a-dd3b-685d6cbcaccd"
      },
      "outputs": [
        {
          "name": "stdout",
          "output_type": "stream",
          "text": [
            "Model: \"sequential\"\n",
            "_________________________________________________________________\n",
            " Layer (type)                Output Shape              Param #   \n",
            "=================================================================\n",
            " gru (GRU)                   (None, 128, 64)           12864     \n",
            "                                                                 \n",
            " gru_1 (GRU)                 (None, 64)                24960     \n",
            "                                                                 \n",
            " dense (Dense)               (None, 30)                1950      \n",
            "                                                                 \n",
            " dense_1 (Dense)             (None, 10)                310       \n",
            "                                                                 \n",
            " dense_2 (Dense)             (None, 1)                 11        \n",
            "                                                                 \n",
            "=================================================================\n",
            "Total params: 40,095\n",
            "Trainable params: 40,095\n",
            "Non-trainable params: 0\n",
            "_________________________________________________________________\n"
          ]
        }
      ],
      "source": [
        "model_GRU = tf.keras.models.Sequential([\n",
        "  tf.keras.layers.GRU(64, return_sequences=True, input_shape=(X_train_series.shape[1], X_train_series.shape[2])),\n",
        "  tf.keras.layers.GRU(64),\n",
        "  tf.keras.layers.Dense(30, activation=\"relu\"),\n",
        "  tf.keras.layers.Dense(10, activation=\"relu\"),\n",
        "  tf.keras.layers.Dense(1)\n",
        "])\n",
        "\n",
        " # Print the model summary \n",
        "model_GRU.summary()"
      ]
    },
    {
      "cell_type": "code",
      "execution_count": null,
      "metadata": {
        "id": "QVV5VUHU_rLK"
      },
      "outputs": [],
      "source": [
        "model_GRU.compile(loss='mse', optimizer=adam, metrics=['mae', 'mape'])"
      ]
    },
    {
      "cell_type": "code",
      "execution_count": null,
      "metadata": {
        "colab": {
          "background_save": true,
          "base_uri": "https://localhost:8080/"
        },
        "id": "mMR6wd3e_7hB",
        "outputId": "cae74bb6-22fc-4ae3-f4a7-3983505bac9c"
      },
      "outputs": [
        {
          "name": "stdout",
          "output_type": "stream",
          "text": [
            "Epoch 1/20\n",
            "2230/2230 - 337s - loss: 705.7475 - mae: 18.0592 - mape: 38.2026 - val_loss: 227.1707 - val_mae: 11.2329 - val_mape: 26.9992 - 337s/epoch - 151ms/step\n",
            "Epoch 2/20\n",
            "2230/2230 - 304s - loss: 209.8280 - mae: 10.7142 - mape: 25.8159 - val_loss: 196.4422 - val_mae: 10.3537 - val_mape: 24.9303 - 304s/epoch - 136ms/step\n",
            "Epoch 3/20\n",
            "2230/2230 - 302s - loss: 191.6341 - mae: 10.1867 - mape: 24.6109 - val_loss: 190.9884 - val_mae: 9.9321 - val_mape: 21.5868 - 302s/epoch - 135ms/step\n",
            "Epoch 4/20\n",
            "2230/2230 - 304s - loss: 174.8376 - mae: 9.6947 - mape: 23.3861 - val_loss: 168.7135 - val_mae: 9.5116 - val_mape: 22.9617 - 304s/epoch - 136ms/step\n",
            "Epoch 5/20\n",
            "2230/2230 - 300s - loss: 169.5233 - mae: 9.5315 - mape: 23.0550 - val_loss: 165.0359 - val_mae: 9.5351 - val_mape: 23.7658 - 300s/epoch - 134ms/step\n",
            "Epoch 6/20\n",
            "2230/2230 - 304s - loss: 166.1737 - mae: 9.4270 - mape: 22.7825 - val_loss: 166.4389 - val_mae: 9.6653 - val_mape: 24.5863 - 304s/epoch - 137ms/step\n",
            "Epoch 7/20\n",
            "2230/2230 - 300s - loss: 162.6742 - mae: 9.3087 - mape: 22.5581 - val_loss: 166.8226 - val_mae: 9.5482 - val_mape: 23.3239 - 300s/epoch - 135ms/step\n",
            "Epoch 8/20\n",
            "2230/2230 - 300s - loss: 160.5899 - mae: 9.2434 - mape: 22.3443 - val_loss: 160.6755 - val_mae: 9.1346 - val_mape: 21.5035 - 300s/epoch - 135ms/step\n",
            "Epoch 9/20\n",
            "2230/2230 - 300s - loss: 158.2154 - mae: 9.1619 - mape: 22.2019 - val_loss: 152.2889 - val_mae: 8.9076 - val_mape: 20.7870 - 300s/epoch - 135ms/step\n",
            "Epoch 10/20\n",
            "2230/2230 - 300s - loss: 154.5714 - mae: 9.0559 - mape: 21.9444 - val_loss: 149.6755 - val_mae: 8.9169 - val_mape: 21.3777 - 300s/epoch - 135ms/step\n",
            "Epoch 11/20\n",
            "2230/2230 - 302s - loss: 152.3026 - mae: 8.9803 - mape: 21.7424 - val_loss: 149.3509 - val_mae: 8.8536 - val_mape: 20.7600 - 302s/epoch - 136ms/step\n",
            "Epoch 12/20\n",
            "2230/2230 - 309s - loss: 150.2469 - mae: 8.9274 - mape: 21.6260 - val_loss: 144.5298 - val_mae: 8.8211 - val_mape: 21.6902 - 309s/epoch - 138ms/step\n",
            "Epoch 13/20\n",
            "2230/2230 - 302s - loss: 151.4430 - mae: 8.9694 - mape: 21.7201 - val_loss: 150.1833 - val_mae: 8.7635 - val_mape: 19.9978 - 302s/epoch - 135ms/step\n",
            "Epoch 14/20\n",
            "2230/2230 - 298s - loss: 146.8844 - mae: 8.8254 - mape: 21.4227 - val_loss: 145.1222 - val_mae: 8.7983 - val_mape: 21.3907 - 298s/epoch - 134ms/step\n",
            "Epoch 15/20\n",
            "2230/2230 - 303s - loss: 144.8204 - mae: 8.7657 - mape: 21.2703 - val_loss: 140.1773 - val_mae: 8.5921 - val_mape: 20.8590 - 303s/epoch - 136ms/step\n",
            "Epoch 16/20\n",
            "2230/2230 - 301s - loss: 147.1300 - mae: 8.8715 - mape: 21.7475 - val_loss: 142.7584 - val_mae: 8.6710 - val_mape: 21.2009 - 301s/epoch - 135ms/step\n",
            "Epoch 17/20\n",
            "2230/2230 - 301s - loss: 146.9722 - mae: 8.8311 - mape: 21.4661 - val_loss: 158.5297 - val_mae: 9.2219 - val_mape: 22.6256 - 301s/epoch - 135ms/step\n",
            "Epoch 18/20\n",
            "2230/2230 - 298s - loss: 148.6467 - mae: 8.8831 - mape: 21.6524 - val_loss: 146.8090 - val_mae: 8.8207 - val_mape: 20.3936 - 298s/epoch - 134ms/step\n",
            "Epoch 19/20\n",
            "2230/2230 - 300s - loss: 142.0000 - mae: 8.6850 - mape: 21.0917 - val_loss: 142.8767 - val_mae: 8.7280 - val_mape: 21.3389 - 300s/epoch - 135ms/step\n",
            "Epoch 20/20\n",
            "2230/2230 - 301s - loss: 147.0958 - mae: 8.8447 - mape: 21.5172 - val_loss: 138.5306 - val_mae: 8.5750 - val_mape: 20.5394 - 301s/epoch - 135ms/step\n"
          ]
        }
      ],
      "source": [
        "gru_history = model_GRU.fit(X_train, Y_train, batch_size=batch_size, validation_data=(X_valid, Y_valid), epochs=20, verbose=2)"
      ]
    },
    {
      "cell_type": "markdown",
      "metadata": {
        "id": "Bi3ee5ah1gb9"
      },
      "source": [
        "# Giraffe"
      ]
    },
    {
      "cell_type": "code",
      "execution_count": null,
      "metadata": {
        "id": "fDZbvmW3VvnX"
      },
      "outputs": [],
      "source": [
        "fig, axes = plt.subplots(2, 2, sharex=True, sharey=True,figsize=(22,12))\n",
        "ax1, ax2 = axes[0]\n",
        "ax3, ax4 = axes[1]\n",
        "\n",
        "ax1.plot(mlp_history.history['loss'], label='Train loss')\n",
        "ax1.plot(mlp_history.history['val_loss'], label='Validation loss')\n",
        "ax1.legend(loc='best')\n",
        "ax1.set_title('MLP')\n",
        "ax1.set_xlabel('Epochs')\n",
        "ax1.set_ylabel('MSE')\n",
        "\n",
        "ax2.plot(cnn_history.history['loss'], label='Train loss')\n",
        "ax2.plot(cnn_history.history['val_loss'], label='Validation loss')\n",
        "ax2.legend(loc='best')\n",
        "ax2.set_title('CNN')\n",
        "ax2.set_xlabel('Epochs')\n",
        "ax2.set_ylabel('MSE')\n",
        "\n",
        "ax3.plot(lstm_history.history['loss'], label='Train loss')\n",
        "ax3.plot(lstm_history.history['val_loss'], label='Validation loss')\n",
        "ax3.legend(loc='best')\n",
        "ax3.set_title('LSTM')\n",
        "ax3.set_xlabel('Epochs')\n",
        "ax3.set_ylabel('MSE')\n",
        "\n",
        "ax4.plot(cnn_lstm_history.history['loss'], label='Train loss')\n",
        "ax4.plot(cnn_lstm_history.history['val_loss'], label='Validation loss')\n",
        "ax4.legend(loc='best')\n",
        "ax4.set_title('CNN-LSTM')\n",
        "ax4.set_xlabel('Epochs')\n",
        "ax4.set_ylabel('MSE')\n",
        "\n",
        "plt.show()"
      ]
    },
    {
      "cell_type": "code",
      "execution_count": null,
      "metadata": {
        "id": "hiOdNT9x1kiN"
      },
      "outputs": [],
      "source": [
        "coba_history"
      ]
    },
    {
      "cell_type": "code",
      "execution_count": null,
      "metadata": {
        "colab": {
          "base_uri": "https://localhost:8080/",
          "height": 437
        },
        "id": "wR11C5Sd11Jt",
        "outputId": "4e79db25-ac9e-4caa-d48a-54b4f212186a"
      },
      "outputs": [
        {
          "data": {
            "image/png": "[encoded data removed]",
            "text/plain": [
              "<Figure size 1584x864 with 4 Axes>"
            ]
          },
          "metadata": {},
          "output_type": "display_data"
        }
      ],
      "source": [
        "fig, axes = plt.subplots(2, 2, sharex=True, sharey=True,figsize=(22,12))\n",
        "ax1, ax2 = axes[0]\n",
        "ax3, ax4 = axes[1]"
      ]
    },
    {
      "cell_type": "code",
      "execution_count": null,
      "metadata": {
        "id": "dN3LCRXF1nxm"
      },
      "outputs": [],
      "source": [
        "ax4.plot(coba_history.history['loss'], label='Train loss')\n",
        "ax4.plot(coba_history.history['val_loss'], label='Validation loss')\n",
        "ax4.legend(loc='best')\n",
        "ax4.set_title('CNN-LSTM')\n",
        "ax4.set_xlabel('Epochs')\n",
        "ax4.set_ylabel('MSE')\n",
        "plt.show()"
      ]
    },
    {
      "cell_type": "code",
      "execution_count": null,
      "metadata": {
        "id": "dcMGUA4zPZL_"
      },
      "outputs": [],
      "source": [
        "fig, axes = plt.subplots(2, 2, sharex=True, sharey=True,figsize=(22,12))\n",
        "ax1, ax2 = axes[0]\n",
        "ax3, ax4 = axes[1]\n",
        "\n",
        "ax1.plot(mlp_history.history['loss'], label='Train loss')\n",
        "ax1.plot(mlp_history.history['val_loss'], label='Validation loss')\n",
        "ax1.legend(loc='best')\n",
        "ax1.set_title('MLP')\n",
        "ax1.set_xlabel('Epochs')\n",
        "ax1.set_ylabel('MSE')\n",
        "\n",
        "ax2.plot(cnn_history.history['loss'], label='Train loss')\n",
        "ax2.plot(cnn_history.history['val_loss'], label='Validation loss')\n",
        "ax2.legend(loc='best')\n",
        "ax2.set_title('CNN')\n",
        "ax2.set_xlabel('Epochs')\n",
        "ax2.set_ylabel('MSE')\n",
        "\n",
        "ax4.plot(cnn_lstm_history.history['loss'], label='Train loss')\n",
        "ax4.plot(cnn_lstm_history.history['val_loss'], label='Validation loss')\n",
        "ax4.legend(loc='best')\n",
        "ax4.set_title('CNN-LSTM')\n",
        "ax4.set_xlabel('Epochs')\n",
        "ax4.set_ylabel('MSE')\n",
        "\n",
        "plt.show()"
      ]
    },
    {
      "cell_type": "code",
      "execution_count": null,
      "metadata": {
        "id": "2-bHVX3zSi1u"
      },
      "outputs": [],
      "source": [
        "#Defining MAPE function\n",
        "def MAPE(Y_actual,Y_Predicted):\n",
        "    mape = np.mean(np.abs((Y_actual - Y_Predicted)/Y_actual))*100\n",
        "    return mape"
      ]
    },
    {
      "cell_type": "code",
      "execution_count": null,
      "metadata": {
        "id": "01vjyeLaV0B4"
      },
      "outputs": [],
      "source": [
        "mlp_train_pred = model_mlp.predict(X_train.values)\n",
        "mlp_valid_pred = model_mlp.predict(X_valid.values)\n",
        "print('Train rmse:', np.sqrt(mean_squared_error(Y_train, mlp_train_pred)))\n",
        "print('Validation rmse:', np.sqrt(mean_squared_error(Y_valid, mlp_valid_pred)))"
      ]
    },
    {
      "cell_type": "code",
      "execution_count": null,
      "metadata": {
        "colab": {
          "base_uri": "https://localhost:8080/"
        },
        "id": "s5ZQOLpz2Hp1",
        "outputId": "796528ca-35cd-4340-e616-b7bd98cec642"
      },
      "outputs": [
        {
          "name": "stdout",
          "output_type": "stream",
          "text": [
            "2230/2230 [==============================] - 54s 24ms/step\n",
            "1487/1487 [==============================] - 35s 24ms/step\n",
            "Train rmse: 14.019393743135188\n",
            "Validation rmse: 13.98702817845736\n"
          ]
        }
      ],
      "source": [
        "coba_train_pred = model_coba.predict(X_train.values)\n",
        "coba_valid_pred = model_coba.predict(X_valid.values)\n",
        "print('Train rmse:', np.sqrt(mean_squared_error(Y_train, coba_train_pred)))\n",
        "print('Validation rmse:', np.sqrt(mean_squared_error(Y_valid, coba_valid_pred)))"
      ]
    },
    {
      "cell_type": "code",
      "execution_count": null,
      "metadata": {
        "colab": {
          "background_save": true
        },
        "id": "nb-pnWmNwgBQ",
        "outputId": "19887a70-9721-4567-a52b-7a450fcd1b59"
      },
      "outputs": [
        {
          "name": "stdout",
          "output_type": "stream",
          "text": [
            "2230/2230 [==============================] - 83s 37ms/step\n",
            "1487/1487 [==============================] - 54s 36ms/step\n",
            "Train rmse: 0.05290386106968984\n",
            "Validation rmse: 0.05302939730740976\n"
          ]
        }
      ],
      "source": [
        "coba_train_pred = model_coba.predict(X_train.values)\n",
        "coba_valid_pred = model_coba.predict(X_valid.values)\n",
        "print('Train rmse:', np.sqrt(mean_squared_error(Y_train, coba_train_pred)))\n",
        "print('Validation rmse:', np.sqrt(mean_squared_error(Y_valid, coba_valid_pred)))"
      ]
    },
    {
      "cell_type": "code",
      "execution_count": null,
      "metadata": {
        "id": "hslK7vXqBTAN"
      },
      "outputs": [],
      "source": [
        "gru_train_pred = model_GRU.predict(X_train.values)\n",
        "gru_valid_pred = model_GRU.predict(X_valid.values)\n",
        "print('Train rmse:', np.sqrt(mean_squared_error(Y_train, gru_train_pred)))\n",
        "print('Validation rmse:', np.sqrt(mean_squared_error(Y_valid, gru_valid_pred)))"
      ]
    },
    {
      "cell_type": "code",
      "execution_count": null,
      "metadata": {
        "id": "NEGHhw-Wwh3X"
      },
      "outputs": [],
      "source": [
        "plot(X_valid, Y_valid, X_valid, coba_train_pred)"
      ]
    },
    {
      "cell_type": "code",
      "execution_count": null,
      "metadata": {
        "colab": {
          "base_uri": "https://localhost:8080/",
          "height": 1000
        },
        "id": "ngWbkpA020kc",
        "outputId": "f1a4b409-6bf2-4f00-f5e4-a9655e2bbe36"
      },
      "outputs": [
        {
          "ename": "NameError",
          "evalue": "ignored",
          "output_type": "error",
          "traceback": [
            "\u001b[0;31m---------------------------------------------------------------------------\u001b[0m",
            "\u001b[0;31mNameError\u001b[0m                                 Traceback (most recent call last)",
            "\u001b[0;32m<ipython-input-1-a1facc8cb19d>\u001b[0m in \u001b[0;36m<module>\u001b[0;34m\u001b[0m\n\u001b[0;32m----> 1\u001b[0;31m \u001b[0mprint\u001b[0m\u001b[0;34m(\u001b[0m\u001b[0;34m'Train mape:'\u001b[0m\u001b[0;34m,\u001b[0m \u001b[0;34m(\u001b[0m\u001b[0mMAPE\u001b[0m\u001b[0;34m(\u001b[0m\u001b[0mY_train\u001b[0m\u001b[0;34m,\u001b[0m \u001b[0mcoba_train_pred\u001b[0m\u001b[0;34m)\u001b[0m\u001b[0;34m)\u001b[0m\u001b[0;34m)\u001b[0m\u001b[0;34m\u001b[0m\u001b[0;34m\u001b[0m\u001b[0m\n\u001b[0m\u001b[1;32m      2\u001b[0m \u001b[0mprint\u001b[0m\u001b[0;34m(\u001b[0m\u001b[0;34m'Validation mape:'\u001b[0m\u001b[0;34m,\u001b[0m \u001b[0;34m(\u001b[0m\u001b[0mMAPE\u001b[0m\u001b[0;34m(\u001b[0m\u001b[0mY_valid\u001b[0m\u001b[0;34m,\u001b[0m \u001b[0mcoba_valid_pred\u001b[0m\u001b[0;34m)\u001b[0m\u001b[0;34m)\u001b[0m\u001b[0;34m)\u001b[0m\u001b[0;34m\u001b[0m\u001b[0;34m\u001b[0m\u001b[0m\n",
            "\u001b[0;31mNameError\u001b[0m: name 'MAPE' is not defined"
          ]
        }
      ],
      "source": [
        "print('Train mape:', (MAPE(Y_train, coba_train_pred)))\n",
        "print('Validation mape:', (MAPE(Y_valid, coba_valid_pred)))"
      ]
    },
    {
      "cell_type": "code",
      "execution_count": null,
      "metadata": {
        "id": "iRPzESo4SbYn"
      },
      "outputs": [],
      "source": [
        "print('Train mape:', (MAPE(Y_train, mlp_train_pred)))\n",
        "print('Validation mape:', (MAPE(Y_valid, mlp_valid_pred)))"
      ]
    },
    {
      "cell_type": "code",
      "execution_count": null,
      "metadata": {
        "id": "56DRsJJ0FJDE"
      },
      "outputs": [],
      "source": [
        "cnn_train_pred = model_cnn.predict(X_train)\n",
        "cnn_valid_pred = model_cnn.predict(X_valid)\n",
        "print('Train rmse:', np.sqrt(mean_squared_error(Y_train, cnn_train_pred)))\n",
        "print('Validation rmse:', np.sqrt(mean_squared_error(Y_valid, cnn_valid_pred)))"
      ]
    },
    {
      "cell_type": "code",
      "execution_count": null,
      "metadata": {
        "id": "dJRSi1faV3qR"
      },
      "outputs": [],
      "source": [
        "cnn_train_pred = model_cnn.predict(X_train_series)\n",
        "cnn_valid_pred = model_cnn.predict(X_valid_series)\n",
        "print('Train rmse:', np.sqrt(mean_squared_error(Y_train, cnn_train_pred)))\n",
        "print('Validation rmse:', np.sqrt(mean_squared_error(Y_valid, cnn_valid_pred)))"
      ]
    },
    {
      "cell_type": "code",
      "execution_count": null,
      "metadata": {
        "id": "HAZhmjs6V7Yw"
      },
      "outputs": [],
      "source": [
        "lstm_train_pred = model_lstm.predict(X_train_series)\n",
        "lstm_valid_pred = model_cnn.predict(X_valid_series)\n",
        "print('Train rmse:', np.sqrt(mean_squared_error(Y_train, lstm_train_pred)))\n",
        "print('Validation rmse:', np.sqrt(mean_squared_error(Y_valid, lstm_valid_pred)))"
      ]
    },
    {
      "cell_type": "code",
      "execution_count": null,
      "metadata": {
        "id": "oRH6LiPFV-EK"
      },
      "outputs": [],
      "source": [
        "cnn_lstm_train_pred = model_cnn_lstm.predict(X_train_series_sub)\n",
        "cnn_lstm_valid_pred = model_cnn_lstm.predict(X_valid_series_sub)\n",
        "print('Train rmse:', np.sqrt(mean_squared_error(Y_train, cnn_lstm_train_pred)))\n",
        "print('Validation rmse:', np.sqrt(mean_squared_error(Y_valid, cnn_lstm_valid_pred)))"
      ]
    }
  ],
  "metadata": {
    "colab": {
      "collapsed_sections": [
        "5a7CTFDR68io",
        "KvI1wNjnqGq5",
        "bz7jNWKHrlKG",
        "OWKr_hHIKFzf"
      ],
      "toc_visible": true,
      "provenance": []
    },
    "kernelspec": {
      "display_name": "Python 3",
      "name": "python3"
    },
    "language_info": {
      "name": "python"
    }
  },
  "nbformat": 4,
  "nbformat_minor": 0
}